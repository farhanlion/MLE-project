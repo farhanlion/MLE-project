{
 "cells": [
  {
   "cell_type": "markdown",
   "id": "193882ab-3f4b-45ff-b85c-90400c1c3e1b",
   "metadata": {},
   "source": [
    "# Process user_logs.csv (bronze) DO NOT RUN UNLESS NECESSARY\n",
    "This file creates the userlogs parquet files seperated by month from user_logs.csv"
   ]
  },
  {
   "cell_type": "code",
   "execution_count": 1,
   "id": "82906883-196b-454a-b1ef-0970602222b0",
   "metadata": {},
   "outputs": [],
   "source": [
    "import os\n",
    "import glob\n",
    "import pandas as pd\n",
    "import matplotlib.pyplot as plt\n",
    "import numpy as np\n",
    "import random\n",
    "from datetime import datetime, timedelta\n",
    "from dateutil.relativedelta import relativedelta\n",
    "import pprint\n",
    "import pyspark\n",
    "import pyspark.sql.functions as F\n",
    "\n",
    "from pyspark.sql.functions import col\n",
    "from pyspark.sql.types import StringType, IntegerType, FloatType, DateType\n"
   ]
  },
  {
   "cell_type": "code",
   "execution_count": 2,
   "id": "68f3cf1b-cc9f-4aea-bb4e-864919ca83b0",
   "metadata": {},
   "outputs": [
    {
     "name": "stderr",
     "output_type": "stream",
     "text": [
      "Setting default log level to \"WARN\".\n",
      "To adjust logging level use sc.setLogLevel(newLevel). For SparkR, use setLogLevel(newLevel).\n",
      "25/10/12 15:44:06 WARN NativeCodeLoader: Unable to load native-hadoop library for your platform... using builtin-java classes where applicable\n"
     ]
    }
   ],
   "source": [
    "# Initialize SparkSession\n",
    "spark = pyspark.sql.SparkSession.builder \\\n",
    "    .appName(\"dev\") \\\n",
    "    .config(\"spark.driver.memory\", \"8g\") \\\n",
    "    .master(\"local[*]\") \\\n",
    "    .getOrCreate()\n",
    "\n",
    "# Set log level to ERROR to hide warnings\n",
    "spark.sparkContext.setLogLevel(\"ERROR\")"
   ]
  },
  {
   "cell_type": "markdown",
   "id": "dad23e87-280c-41d7-9065-8380391826ba",
   "metadata": {},
   "source": [
    "# Read Data from CSV"
   ]
  },
  {
   "cell_type": "code",
   "execution_count": 3,
   "id": "f1a0338b-84fc-4d47-80ab-e817efa8d008",
   "metadata": {},
   "outputs": [
    {
     "name": "stderr",
     "output_type": "stream",
     "text": [
      "                                                                                "
     ]
    },
    {
     "name": "stdout",
     "output_type": "stream",
     "text": [
      "+--------------------+--------+------+------+------+-------+-------+-------+----------+\n",
      "|                msno|    date|num_25|num_50|num_75|num_985|num_100|num_unq|total_secs|\n",
      "+--------------------+--------+------+------+------+-------+-------+-------+----------+\n",
      "|rxIP2f2aN0rYNp+to...|20150513|     0|     0|     0|      0|      1|      1|   280.335|\n",
      "|rxIP2f2aN0rYNp+to...|20150709|     9|     1|     0|      0|      7|     11|  1658.948|\n",
      "|yxiEWwE9VR5utpUec...|20150105|     3|     3|     0|      0|     68|     36| 17364.956|\n",
      "|yxiEWwE9VR5utpUec...|20150306|     1|     0|     1|      1|     97|     27| 24667.317|\n",
      "|yxiEWwE9VR5utpUec...|20150501|     3|     0|     0|      0|     38|     38|  9649.029|\n",
      "|yxiEWwE9VR5utpUec...|20150702|     4|     0|     1|      1|     33|     10|  10021.52|\n",
      "|yxiEWwE9VR5utpUec...|20150830|     3|     1|     0|      0|      4|      7|  1119.555|\n",
      "|yxiEWwE9VR5utpUec...|20151107|     1|     0|     0|      0|      4|      5|   938.022|\n",
      "|yxiEWwE9VR5utpUec...|20160110|     2|     0|     1|      0|     11|      6|  3004.068|\n",
      "|yxiEWwE9VR5utpUec...|20160316|     9|     3|     4|      1|     67|     50| 18257.661|\n",
      "|yxiEWwE9VR5utpUec...|20160510|     5|     3|     2|      1|     67|     66| 16764.206|\n",
      "|yxiEWwE9VR5utpUec...|20160804|     1|     4|     5|      0|     36|     43| 11359.565|\n",
      "|yxiEWwE9VR5utpUec...|20160926|     7|     1|     0|      1|     38|     20| 10201.979|\n",
      "|yxiEWwE9VR5utpUec...|20161115|     0|     1|     4|      1|     38|     40|  9288.948|\n",
      "|yxiEWwE9VR5utpUec...|20170106|     0|     0|     0|      1|     39|     38| 10123.228|\n",
      "|PNxIsSLWOJDCm7pNP...|20151201|     3|     3|     2|      0|      8|     11|   2293.25|\n",
      "|PNxIsSLWOJDCm7pNP...|20160628|     0|     0|     1|      1|      1|      3|    639.03|\n",
      "|PNxIsSLWOJDCm7pNP...|20170106|     2|     1|     0|      0|     35|     34|  7563.936|\n",
      "|KXF9c/T66LZIzFq+x...|20150803|     0|     0|     0|      0|     16|     11|   3585.94|\n",
      "|KXF9c/T66LZIzFq+x...|20160527|     4|     3|     0|      2|      2|     11|  1267.563|\n",
      "+--------------------+--------+------+------+------+-------+-------+-------+----------+\n",
      "only showing top 20 rows\n",
      "\n"
     ]
    }
   ],
   "source": [
    "# Read CSV file\n",
    "df = spark.read.csv(\"data/user_logs.csv\", header=True, inferSchema=True)\n",
    "\n",
    "df.show()"
   ]
  },
  {
   "cell_type": "code",
   "execution_count": 4,
   "id": "9099bdc9-c348-40e5-a1ef-47ed62452116",
   "metadata": {},
   "outputs": [
    {
     "name": "stderr",
     "output_type": "stream",
     "text": [
      "                                                                                "
     ]
    },
    {
     "data": {
      "text/plain": [
       "392106543"
      ]
     },
     "execution_count": 4,
     "metadata": {},
     "output_type": "execute_result"
    }
   ],
   "source": [
    "df.count()"
   ]
  },
  {
   "cell_type": "code",
   "execution_count": 5,
   "id": "c764f955-6ffb-4e7d-b7f2-8c783d9c630c",
   "metadata": {},
   "outputs": [
    {
     "name": "stderr",
     "output_type": "stream",
     "text": [
      "[Stage 6:======================================================>(227 + 1) / 228]"
     ]
    },
    {
     "name": "stdout",
     "output_type": "stream",
     "text": [
      "+--------+\n",
      "|    date|\n",
      "+--------+\n",
      "|20150101|\n",
      "|20150102|\n",
      "|20150103|\n",
      "|20150104|\n",
      "|20150105|\n",
      "|20150106|\n",
      "|20150107|\n",
      "|20150108|\n",
      "|20150109|\n",
      "|20150110|\n",
      "|20150111|\n",
      "|20150112|\n",
      "|20150113|\n",
      "|20150114|\n",
      "|20150115|\n",
      "|20150116|\n",
      "|20150117|\n",
      "|20150118|\n",
      "|20150119|\n",
      "|20150120|\n",
      "+--------+\n",
      "only showing top 20 rows\n",
      "\n"
     ]
    },
    {
     "name": "stderr",
     "output_type": "stream",
     "text": [
      "                                                                                "
     ]
    }
   ],
   "source": [
    "df.select(\"date\").distinct().orderBy(\"date\").show()\n"
   ]
  },
  {
   "cell_type": "code",
   "execution_count": 4,
   "id": "65027f16-1ed8-4027-ac60-5a3e36d9688e",
   "metadata": {},
   "outputs": [
    {
     "name": "stderr",
     "output_type": "stream",
     "text": [
      "                                                                                "
     ]
    },
    {
     "data": {
      "text/plain": [
       "(3, 12)"
      ]
     },
     "execution_count": 4,
     "metadata": {},
     "output_type": "execute_result"
    }
   ],
   "source": [
    "from pyspark.sql.functions import substring\n",
    "# Extract year and month\n",
    "df_with_ym = df.withColumn(\"year\", substring(\"date\", 1, 4)) \\\n",
    "               .withColumn(\"month\", substring(\"date\", 5, 2))\n",
    "\n",
    "# Count distinct years and months\n",
    "df_with_ym.select(\"year\").distinct().count(), df_with_ym.select(\"month\").distinct().count()"
   ]
  },
  {
   "cell_type": "code",
   "execution_count": 5,
   "id": "3be6f277-2b01-4edf-8838-d7c2f8d5f2d8",
   "metadata": {},
   "outputs": [
    {
     "name": "stdout",
     "output_type": "stream",
     "text": [
      "+--------------------+--------+------+------+------+-------+-------+-------+----------+----+-----+\n",
      "|                msno|    date|num_25|num_50|num_75|num_985|num_100|num_unq|total_secs|year|month|\n",
      "+--------------------+--------+------+------+------+-------+-------+-------+----------+----+-----+\n",
      "|rxIP2f2aN0rYNp+to...|20150513|     0|     0|     0|      0|      1|      1|   280.335|2015|   05|\n",
      "|rxIP2f2aN0rYNp+to...|20150709|     9|     1|     0|      0|      7|     11|  1658.948|2015|   07|\n",
      "|yxiEWwE9VR5utpUec...|20150105|     3|     3|     0|      0|     68|     36| 17364.956|2015|   01|\n",
      "|yxiEWwE9VR5utpUec...|20150306|     1|     0|     1|      1|     97|     27| 24667.317|2015|   03|\n",
      "|yxiEWwE9VR5utpUec...|20150501|     3|     0|     0|      0|     38|     38|  9649.029|2015|   05|\n",
      "|yxiEWwE9VR5utpUec...|20150702|     4|     0|     1|      1|     33|     10|  10021.52|2015|   07|\n",
      "|yxiEWwE9VR5utpUec...|20150830|     3|     1|     0|      0|      4|      7|  1119.555|2015|   08|\n",
      "|yxiEWwE9VR5utpUec...|20151107|     1|     0|     0|      0|      4|      5|   938.022|2015|   11|\n",
      "|yxiEWwE9VR5utpUec...|20160110|     2|     0|     1|      0|     11|      6|  3004.068|2016|   01|\n",
      "|yxiEWwE9VR5utpUec...|20160316|     9|     3|     4|      1|     67|     50| 18257.661|2016|   03|\n",
      "+--------------------+--------+------+------+------+-------+-------+-------+----------+----+-----+\n",
      "only showing top 10 rows\n",
      "\n"
     ]
    }
   ],
   "source": [
    "df_with_ym.show(10)"
   ]
  },
  {
   "cell_type": "markdown",
   "id": "7bdbd69a-d308-40a3-88f7-76af0229467e",
   "metadata": {},
   "source": [
    "3 years worth of data"
   ]
  },
  {
   "cell_type": "code",
   "execution_count": 6,
   "id": "ad9d7b88-2e0b-43f0-85b3-0b2517275df9",
   "metadata": {},
   "outputs": [
    {
     "name": "stderr",
     "output_type": "stream",
     "text": [
      "                                                                                "
     ]
    }
   ],
   "source": [
    "df_with_ym.write \\\n",
    "    .mode(\"overwrite\") \\\n",
    "    .option(\"header\", \"true\") \\\n",
    "    .partitionBy(\"year\", \"month\") \\\n",
    "    .csv(\"datamart/bronze/user_logs\")\n"
   ]
  },
  {
   "cell_type": "code",
   "execution_count": null,
   "id": "dbae4e36-0fa4-4d72-ad9a-00f58f9e0827",
   "metadata": {},
   "outputs": [],
   "source": []
  }
 ],
 "metadata": {
  "kernelspec": {
   "display_name": "Python 3 (ipykernel)",
   "language": "python",
   "name": "python3"
  },
  "language_info": {
   "codemirror_mode": {
    "name": "ipython",
    "version": 3
   },
   "file_extension": ".py",
   "mimetype": "text/x-python",
   "name": "python",
   "nbconvert_exporter": "python",
   "pygments_lexer": "ipython3",
   "version": "3.12.11"
  }
 },
 "nbformat": 4,
 "nbformat_minor": 5
}
