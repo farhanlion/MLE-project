{
 "cells": [
  {
   "cell_type": "code",
   "execution_count": 1,
   "id": "05ace8a3-865d-4c19-842b-fc97cab14af1",
   "metadata": {},
   "outputs": [],
   "source": [
    "import os\n",
    "import glob\n",
    "import pandas as pd\n",
    "import matplotlib.pyplot as plt\n",
    "import numpy as np\n",
    "import random\n",
    "from datetime import datetime, timedelta\n",
    "from dateutil.relativedelta import relativedelta\n",
    "import pprint\n",
    "import pyspark\n",
    "import pyspark.sql.functions as F\n",
    "\n",
    "from pyspark.sql.functions import to_date, col\n",
    "from pyspark.sql.types import StringType, IntegerType, FloatType, DateType"
   ]
  },
  {
   "cell_type": "code",
   "execution_count": 2,
   "id": "9254a59e-3203-4e9c-892f-4ca82eb60684",
   "metadata": {},
   "outputs": [
    {
     "name": "stderr",
     "output_type": "stream",
     "text": [
      "Setting default log level to \"WARN\".\n",
      "To adjust logging level use sc.setLogLevel(newLevel). For SparkR, use setLogLevel(newLevel).\n",
      "25/10/29 08:12:30 WARN NativeCodeLoader: Unable to load native-hadoop library for your platform... using builtin-java classes where applicable\n"
     ]
    }
   ],
   "source": [
    "# Initialize SparkSession\n",
    "spark = pyspark.sql.SparkSession.builder \\\n",
    "    .appName(\"dev\") \\\n",
    "    .config(\"spark.driver.memory\", \"4g\") \\\n",
    "    .master(\"local[*]\") \\\n",
    "    .getOrCreate()\n",
    "# Set log level to ERROR to hide warnings\n",
    "spark.sparkContext.setLogLevel(\"ERROR\")"
   ]
  },
  {
   "cell_type": "markdown",
   "id": "1abc3bd8-3bb5-4008-ac42-5a5d214a4961",
   "metadata": {},
   "source": [
    "# Load all tables"
   ]
  },
  {
   "cell_type": "code",
   "execution_count": 3,
   "id": "9acff3de-43d8-4d3a-aa86-f46922b5fe01",
   "metadata": {},
   "outputs": [],
   "source": [
    "df_userlogs = (spark.read\n",
    "      .option(\"header\", True)\n",
    "      .option(\"inferSchema\", True)\n",
    "      .parquet(\"datamart/silver/user_logs\"))"
   ]
  },
  {
   "cell_type": "code",
   "execution_count": 4,
   "id": "83c5f42f-bc38-4479-9534-97cfeac68a2d",
   "metadata": {},
   "outputs": [],
   "source": [
    "df_transactions = (spark.read\n",
    "      .option(\"header\", True)\n",
    "      .option(\"inferSchema\", True)\n",
    "      .parquet(\"datamart/silver/transactions\"))"
   ]
  },
  {
   "cell_type": "code",
   "execution_count": 5,
   "id": "62e9ac84-1958-4513-a11b-3b8c61b51dcc",
   "metadata": {},
   "outputs": [],
   "source": [
    "df_members = (spark.read\n",
    "      .option(\"header\", True)\n",
    "      .option(\"inferSchema\", True)\n",
    "      .parquet(\"datamart/silver/members\"))\n",
    "\n"
   ]
  },
  {
   "cell_type": "code",
   "execution_count": 6,
   "id": "e494077a-3d65-4333-ac1b-d8f5764d290a",
   "metadata": {},
   "outputs": [
    {
     "name": "stdout",
     "output_type": "stream",
     "text": [
      "=== Members ===\n"
     ]
    },
    {
     "name": "stderr",
     "output_type": "stream",
     "text": [
      "                                                                                "
     ]
    },
    {
     "data": {
      "text/html": [
       "<div>\n",
       "<style scoped>\n",
       "    .dataframe tbody tr th:only-of-type {\n",
       "        vertical-align: middle;\n",
       "    }\n",
       "\n",
       "    .dataframe tbody tr th {\n",
       "        vertical-align: top;\n",
       "    }\n",
       "\n",
       "    .dataframe thead th {\n",
       "        text-align: right;\n",
       "    }\n",
       "</style>\n",
       "<table border=\"1\" class=\"dataframe\">\n",
       "  <thead>\n",
       "    <tr style=\"text-align: right;\">\n",
       "      <th></th>\n",
       "      <th>msno</th>\n",
       "      <th>city_clean</th>\n",
       "      <th>registered_via</th>\n",
       "      <th>registration_date</th>\n",
       "      <th>tenure_days_at_snapshot</th>\n",
       "      <th>registered_via_freq</th>\n",
       "      <th>city_freq</th>\n",
       "      <th>city_idx</th>\n",
       "      <th>via_idx</th>\n",
       "      <th>city_oh</th>\n",
       "      <th>via_oh</th>\n",
       "    </tr>\n",
       "  </thead>\n",
       "  <tbody>\n",
       "    <tr>\n",
       "      <th>0</th>\n",
       "      <td>Z1SBrlbnzZzQZtlS3CUmas9SQkJyb0B1+gEeuP/V9O0=</td>\n",
       "      <td>1</td>\n",
       "      <td>1</td>\n",
       "      <td>2016-06-12</td>\n",
       "      <td>261</td>\n",
       "      <td>0.000006</td>\n",
       "      <td>0.709705</td>\n",
       "      <td>0.0</td>\n",
       "      <td>14.0</td>\n",
       "      <td>(1.0, 0.0, 0.0, 0.0, 0.0, 0.0, 0.0, 0.0, 0.0, ...</td>\n",
       "      <td>(0.0, 0.0, 0.0, 0.0, 0.0, 0.0, 0.0, 0.0, 0.0, ...</td>\n",
       "    </tr>\n",
       "    <tr>\n",
       "      <th>1</th>\n",
       "      <td>2GkgHuwB+NCVnpSRSxw0nyzPKeCTeVOoYiu2TdRg4qg=</td>\n",
       "      <td>1</td>\n",
       "      <td>1</td>\n",
       "      <td>2016-01-19</td>\n",
       "      <td>406</td>\n",
       "      <td>0.000006</td>\n",
       "      <td>0.709705</td>\n",
       "      <td>0.0</td>\n",
       "      <td>14.0</td>\n",
       "      <td>(1.0, 0.0, 0.0, 0.0, 0.0, 0.0, 0.0, 0.0, 0.0, ...</td>\n",
       "      <td>(0.0, 0.0, 0.0, 0.0, 0.0, 0.0, 0.0, 0.0, 0.0, ...</td>\n",
       "    </tr>\n",
       "    <tr>\n",
       "      <th>2</th>\n",
       "      <td>X1AmJaNJ1bpGEgxLveRwBhxGHytaIHHuNfAAPFKCFg4=</td>\n",
       "      <td>1</td>\n",
       "      <td>13</td>\n",
       "      <td>2016-12-27</td>\n",
       "      <td>63</td>\n",
       "      <td>0.000806</td>\n",
       "      <td>0.709705</td>\n",
       "      <td>0.0</td>\n",
       "      <td>5.0</td>\n",
       "      <td>(1.0, 0.0, 0.0, 0.0, 0.0, 0.0, 0.0, 0.0, 0.0, ...</td>\n",
       "      <td>(0.0, 0.0, 0.0, 0.0, 0.0, 1.0, 0.0, 0.0, 0.0, ...</td>\n",
       "    </tr>\n",
       "    <tr>\n",
       "      <th>3</th>\n",
       "      <td>bJrFIXFymwWPhavSKeaA+yKE/Du1vgUwjEI3bJNQRuE=</td>\n",
       "      <td>1</td>\n",
       "      <td>13</td>\n",
       "      <td>2017-01-14</td>\n",
       "      <td>45</td>\n",
       "      <td>0.000806</td>\n",
       "      <td>0.709705</td>\n",
       "      <td>0.0</td>\n",
       "      <td>5.0</td>\n",
       "      <td>(1.0, 0.0, 0.0, 0.0, 0.0, 0.0, 0.0, 0.0, 0.0, ...</td>\n",
       "      <td>(0.0, 0.0, 0.0, 0.0, 0.0, 1.0, 0.0, 0.0, 0.0, ...</td>\n",
       "    </tr>\n",
       "    <tr>\n",
       "      <th>4</th>\n",
       "      <td>nq+4KRKNWTQkH9VNArdNfhBNl70Vh01WEi/i9rPlxqU=</td>\n",
       "      <td>1</td>\n",
       "      <td>13</td>\n",
       "      <td>2017-02-01</td>\n",
       "      <td>27</td>\n",
       "      <td>0.000806</td>\n",
       "      <td>0.709705</td>\n",
       "      <td>0.0</td>\n",
       "      <td>5.0</td>\n",
       "      <td>(1.0, 0.0, 0.0, 0.0, 0.0, 0.0, 0.0, 0.0, 0.0, ...</td>\n",
       "      <td>(0.0, 0.0, 0.0, 0.0, 0.0, 1.0, 0.0, 0.0, 0.0, ...</td>\n",
       "    </tr>\n",
       "  </tbody>\n",
       "</table>\n",
       "</div>"
      ],
      "text/plain": [
       "                                           msno city_clean registered_via  \\\n",
       "0  Z1SBrlbnzZzQZtlS3CUmas9SQkJyb0B1+gEeuP/V9O0=          1              1   \n",
       "1  2GkgHuwB+NCVnpSRSxw0nyzPKeCTeVOoYiu2TdRg4qg=          1              1   \n",
       "2  X1AmJaNJ1bpGEgxLveRwBhxGHytaIHHuNfAAPFKCFg4=          1             13   \n",
       "3  bJrFIXFymwWPhavSKeaA+yKE/Du1vgUwjEI3bJNQRuE=          1             13   \n",
       "4  nq+4KRKNWTQkH9VNArdNfhBNl70Vh01WEi/i9rPlxqU=          1             13   \n",
       "\n",
       "  registration_date  tenure_days_at_snapshot  registered_via_freq  city_freq  \\\n",
       "0        2016-06-12                      261             0.000006   0.709705   \n",
       "1        2016-01-19                      406             0.000006   0.709705   \n",
       "2        2016-12-27                       63             0.000806   0.709705   \n",
       "3        2017-01-14                       45             0.000806   0.709705   \n",
       "4        2017-02-01                       27             0.000806   0.709705   \n",
       "\n",
       "   city_idx  via_idx                                            city_oh  \\\n",
       "0       0.0     14.0  (1.0, 0.0, 0.0, 0.0, 0.0, 0.0, 0.0, 0.0, 0.0, ...   \n",
       "1       0.0     14.0  (1.0, 0.0, 0.0, 0.0, 0.0, 0.0, 0.0, 0.0, 0.0, ...   \n",
       "2       0.0      5.0  (1.0, 0.0, 0.0, 0.0, 0.0, 0.0, 0.0, 0.0, 0.0, ...   \n",
       "3       0.0      5.0  (1.0, 0.0, 0.0, 0.0, 0.0, 0.0, 0.0, 0.0, 0.0, ...   \n",
       "4       0.0      5.0  (1.0, 0.0, 0.0, 0.0, 0.0, 0.0, 0.0, 0.0, 0.0, ...   \n",
       "\n",
       "                                              via_oh  \n",
       "0  (0.0, 0.0, 0.0, 0.0, 0.0, 0.0, 0.0, 0.0, 0.0, ...  \n",
       "1  (0.0, 0.0, 0.0, 0.0, 0.0, 0.0, 0.0, 0.0, 0.0, ...  \n",
       "2  (0.0, 0.0, 0.0, 0.0, 0.0, 1.0, 0.0, 0.0, 0.0, ...  \n",
       "3  (0.0, 0.0, 0.0, 0.0, 0.0, 1.0, 0.0, 0.0, 0.0, ...  \n",
       "4  (0.0, 0.0, 0.0, 0.0, 0.0, 1.0, 0.0, 0.0, 0.0, ...  "
      ]
     },
     "metadata": {},
     "output_type": "display_data"
    },
    {
     "name": "stdout",
     "output_type": "stream",
     "text": [
      "\n",
      "=== User Logs ===\n"
     ]
    },
    {
     "data": {
      "text/html": [
       "<div>\n",
       "<style scoped>\n",
       "    .dataframe tbody tr th:only-of-type {\n",
       "        vertical-align: middle;\n",
       "    }\n",
       "\n",
       "    .dataframe tbody tr th {\n",
       "        vertical-align: top;\n",
       "    }\n",
       "\n",
       "    .dataframe thead th {\n",
       "        text-align: right;\n",
       "    }\n",
       "</style>\n",
       "<table border=\"1\" class=\"dataframe\">\n",
       "  <thead>\n",
       "    <tr style=\"text-align: right;\">\n",
       "      <th></th>\n",
       "      <th>msno</th>\n",
       "      <th>date</th>\n",
       "      <th>num_25</th>\n",
       "      <th>num_50</th>\n",
       "      <th>num_75</th>\n",
       "      <th>num_985</th>\n",
       "      <th>num_100</th>\n",
       "      <th>num_unq</th>\n",
       "      <th>total_secs</th>\n",
       "      <th>year</th>\n",
       "      <th>month</th>\n",
       "    </tr>\n",
       "  </thead>\n",
       "  <tbody>\n",
       "    <tr>\n",
       "      <th>0</th>\n",
       "      <td>kvfTVgxOfjbVBTXyYGiAbEHzI98lveMomdtk+s88Ido=</td>\n",
       "      <td>2016-11-26</td>\n",
       "      <td>3</td>\n",
       "      <td>0</td>\n",
       "      <td>1</td>\n",
       "      <td>0</td>\n",
       "      <td>27</td>\n",
       "      <td>30</td>\n",
       "      <td>7254.569</td>\n",
       "      <td>2016</td>\n",
       "      <td>11</td>\n",
       "    </tr>\n",
       "    <tr>\n",
       "      <th>1</th>\n",
       "      <td>TKjom9SvWQfr9/FaSicWUyCgzYqow8ogCXOgsn5XKnY=</td>\n",
       "      <td>2016-11-09</td>\n",
       "      <td>0</td>\n",
       "      <td>0</td>\n",
       "      <td>0</td>\n",
       "      <td>0</td>\n",
       "      <td>5</td>\n",
       "      <td>4</td>\n",
       "      <td>1246.000</td>\n",
       "      <td>2016</td>\n",
       "      <td>11</td>\n",
       "    </tr>\n",
       "    <tr>\n",
       "      <th>2</th>\n",
       "      <td>V7mwW25pIzSyhRvKtfJ0fEAhDZe4rmbiUGZ62OUzw9M=</td>\n",
       "      <td>2016-11-02</td>\n",
       "      <td>3</td>\n",
       "      <td>0</td>\n",
       "      <td>0</td>\n",
       "      <td>0</td>\n",
       "      <td>7</td>\n",
       "      <td>10</td>\n",
       "      <td>1529.590</td>\n",
       "      <td>2016</td>\n",
       "      <td>11</td>\n",
       "    </tr>\n",
       "    <tr>\n",
       "      <th>3</th>\n",
       "      <td>HpsUB9oBFNEkMz8LS4cytXeuqKe7uBJ/qF1zAM5OGZc=</td>\n",
       "      <td>2016-11-18</td>\n",
       "      <td>13</td>\n",
       "      <td>2</td>\n",
       "      <td>2</td>\n",
       "      <td>0</td>\n",
       "      <td>21</td>\n",
       "      <td>32</td>\n",
       "      <td>6463.842</td>\n",
       "      <td>2016</td>\n",
       "      <td>11</td>\n",
       "    </tr>\n",
       "    <tr>\n",
       "      <th>4</th>\n",
       "      <td>kWl8bmqhgiRnkvlGe7xNn5IueQxK485CAJSepMxCz8M=</td>\n",
       "      <td>2016-11-18</td>\n",
       "      <td>2</td>\n",
       "      <td>1</td>\n",
       "      <td>1</td>\n",
       "      <td>1</td>\n",
       "      <td>8</td>\n",
       "      <td>13</td>\n",
       "      <td>2557.191</td>\n",
       "      <td>2016</td>\n",
       "      <td>11</td>\n",
       "    </tr>\n",
       "  </tbody>\n",
       "</table>\n",
       "</div>"
      ],
      "text/plain": [
       "                                           msno        date  num_25  num_50  \\\n",
       "0  kvfTVgxOfjbVBTXyYGiAbEHzI98lveMomdtk+s88Ido=  2016-11-26       3       0   \n",
       "1  TKjom9SvWQfr9/FaSicWUyCgzYqow8ogCXOgsn5XKnY=  2016-11-09       0       0   \n",
       "2  V7mwW25pIzSyhRvKtfJ0fEAhDZe4rmbiUGZ62OUzw9M=  2016-11-02       3       0   \n",
       "3  HpsUB9oBFNEkMz8LS4cytXeuqKe7uBJ/qF1zAM5OGZc=  2016-11-18      13       2   \n",
       "4  kWl8bmqhgiRnkvlGe7xNn5IueQxK485CAJSepMxCz8M=  2016-11-18       2       1   \n",
       "\n",
       "   num_75  num_985  num_100  num_unq  total_secs  year  month  \n",
       "0       1        0       27       30    7254.569  2016     11  \n",
       "1       0        0        5        4    1246.000  2016     11  \n",
       "2       0        0        7       10    1529.590  2016     11  \n",
       "3       2        0       21       32    6463.842  2016     11  \n",
       "4       1        1        8       13    2557.191  2016     11  "
      ]
     },
     "metadata": {},
     "output_type": "display_data"
    },
    {
     "name": "stdout",
     "output_type": "stream",
     "text": [
      "\n",
      "=== Transactions ===\n"
     ]
    },
    {
     "data": {
      "text/html": [
       "<div>\n",
       "<style scoped>\n",
       "    .dataframe tbody tr th:only-of-type {\n",
       "        vertical-align: middle;\n",
       "    }\n",
       "\n",
       "    .dataframe tbody tr th {\n",
       "        vertical-align: top;\n",
       "    }\n",
       "\n",
       "    .dataframe thead th {\n",
       "        text-align: right;\n",
       "    }\n",
       "</style>\n",
       "<table border=\"1\" class=\"dataframe\">\n",
       "  <thead>\n",
       "    <tr style=\"text-align: right;\">\n",
       "      <th></th>\n",
       "      <th>msno</th>\n",
       "      <th>payment_method_id</th>\n",
       "      <th>payment_plan_days</th>\n",
       "      <th>plan_list_price</th>\n",
       "      <th>actual_amount_paid</th>\n",
       "      <th>is_auto_renew</th>\n",
       "      <th>transaction_date</th>\n",
       "      <th>membership_expire_date</th>\n",
       "      <th>is_cancel</th>\n",
       "      <th>source_file</th>\n",
       "      <th>day</th>\n",
       "      <th>transaction_id</th>\n",
       "      <th>year</th>\n",
       "      <th>month</th>\n",
       "    </tr>\n",
       "  </thead>\n",
       "  <tbody>\n",
       "    <tr>\n",
       "      <th>0</th>\n",
       "      <td>VIHHLepUEMXxF2ielWsw694ctqMrYUrAzubpTU6zmKo=</td>\n",
       "      <td>41</td>\n",
       "      <td>30</td>\n",
       "      <td>149</td>\n",
       "      <td>149</td>\n",
       "      <td>1</td>\n",
       "      <td>2016-11-08</td>\n",
       "      <td>2016-12-08</td>\n",
       "      <td>0</td>\n",
       "      <td>transactions.csv</td>\n",
       "      <td>8</td>\n",
       "      <td>84c76dce-ee16-403a-8428-be7b5db9a433</td>\n",
       "      <td>2016</td>\n",
       "      <td>11</td>\n",
       "    </tr>\n",
       "    <tr>\n",
       "      <th>1</th>\n",
       "      <td>TkAhpvvz+vU7LBuVHbphI4QzYY7QvK0mpypkzT/6DHQ=</td>\n",
       "      <td>26</td>\n",
       "      <td>1</td>\n",
       "      <td>0</td>\n",
       "      <td>0</td>\n",
       "      <td>0</td>\n",
       "      <td>2016-11-23</td>\n",
       "      <td>2016-11-30</td>\n",
       "      <td>0</td>\n",
       "      <td>transactions.csv</td>\n",
       "      <td>23</td>\n",
       "      <td>218cfc0b-0139-443c-a756-6805cbef01d9</td>\n",
       "      <td>2016</td>\n",
       "      <td>11</td>\n",
       "    </tr>\n",
       "    <tr>\n",
       "      <th>2</th>\n",
       "      <td>VIl7ZhgbpR4kLC/Zx0TS8j1Tg9Uui4OK9SKHXQtIWDQ=</td>\n",
       "      <td>41</td>\n",
       "      <td>30</td>\n",
       "      <td>149</td>\n",
       "      <td>149</td>\n",
       "      <td>1</td>\n",
       "      <td>2016-11-06</td>\n",
       "      <td>2016-12-06</td>\n",
       "      <td>0</td>\n",
       "      <td>transactions.csv</td>\n",
       "      <td>6</td>\n",
       "      <td>08bba8c6-5efe-4048-9a79-a66c2a704ffe</td>\n",
       "      <td>2016</td>\n",
       "      <td>11</td>\n",
       "    </tr>\n",
       "    <tr>\n",
       "      <th>3</th>\n",
       "      <td>UBfqR1od2RUoO5UfDkQD8Bdttmy3xP6KogdTf0B5Di8=</td>\n",
       "      <td>26</td>\n",
       "      <td>1</td>\n",
       "      <td>0</td>\n",
       "      <td>0</td>\n",
       "      <td>0</td>\n",
       "      <td>2016-11-18</td>\n",
       "      <td>2017-05-24</td>\n",
       "      <td>0</td>\n",
       "      <td>transactions_v2.csv</td>\n",
       "      <td>18</td>\n",
       "      <td>de5c9457-650f-45b6-8ca2-4a226d2e49d9</td>\n",
       "      <td>2016</td>\n",
       "      <td>11</td>\n",
       "    </tr>\n",
       "    <tr>\n",
       "      <th>4</th>\n",
       "      <td>VIm9MHW1FcFvwKm5AauSYxBMnr0yUuPuWn+SRbxzNDk=</td>\n",
       "      <td>37</td>\n",
       "      <td>30</td>\n",
       "      <td>149</td>\n",
       "      <td>149</td>\n",
       "      <td>1</td>\n",
       "      <td>2016-11-10</td>\n",
       "      <td>2016-12-10</td>\n",
       "      <td>0</td>\n",
       "      <td>transactions.csv</td>\n",
       "      <td>10</td>\n",
       "      <td>6b208684-2544-43a3-b9ba-3793222743d0</td>\n",
       "      <td>2016</td>\n",
       "      <td>11</td>\n",
       "    </tr>\n",
       "  </tbody>\n",
       "</table>\n",
       "</div>"
      ],
      "text/plain": [
       "                                           msno  payment_method_id  \\\n",
       "0  VIHHLepUEMXxF2ielWsw694ctqMrYUrAzubpTU6zmKo=                 41   \n",
       "1  TkAhpvvz+vU7LBuVHbphI4QzYY7QvK0mpypkzT/6DHQ=                 26   \n",
       "2  VIl7ZhgbpR4kLC/Zx0TS8j1Tg9Uui4OK9SKHXQtIWDQ=                 41   \n",
       "3  UBfqR1od2RUoO5UfDkQD8Bdttmy3xP6KogdTf0B5Di8=                 26   \n",
       "4  VIm9MHW1FcFvwKm5AauSYxBMnr0yUuPuWn+SRbxzNDk=                 37   \n",
       "\n",
       "   payment_plan_days  plan_list_price  actual_amount_paid  is_auto_renew  \\\n",
       "0                 30              149                 149              1   \n",
       "1                  1                0                   0              0   \n",
       "2                 30              149                 149              1   \n",
       "3                  1                0                   0              0   \n",
       "4                 30              149                 149              1   \n",
       "\n",
       "  transaction_date membership_expire_date  is_cancel          source_file  \\\n",
       "0       2016-11-08             2016-12-08          0     transactions.csv   \n",
       "1       2016-11-23             2016-11-30          0     transactions.csv   \n",
       "2       2016-11-06             2016-12-06          0     transactions.csv   \n",
       "3       2016-11-18             2017-05-24          0  transactions_v2.csv   \n",
       "4       2016-11-10             2016-12-10          0     transactions.csv   \n",
       "\n",
       "   day                        transaction_id  year  month  \n",
       "0    8  84c76dce-ee16-403a-8428-be7b5db9a433  2016     11  \n",
       "1   23  218cfc0b-0139-443c-a756-6805cbef01d9  2016     11  \n",
       "2    6  08bba8c6-5efe-4048-9a79-a66c2a704ffe  2016     11  \n",
       "3   18  de5c9457-650f-45b6-8ca2-4a226d2e49d9  2016     11  \n",
       "4   10  6b208684-2544-43a3-b9ba-3793222743d0  2016     11  "
      ]
     },
     "metadata": {},
     "output_type": "display_data"
    }
   ],
   "source": [
    "print(\"=== Members ===\")\n",
    "display(df_members.limit(5).toPandas())\n",
    "\n",
    "print(\"\\n=== User Logs ===\")\n",
    "display(df_userlogs.limit(5).toPandas())\n",
    "\n",
    "print(\"\\n=== Transactions ===\")\n",
    "display(df_transactions.limit(5).toPandas())"
   ]
  },
  {
   "cell_type": "code",
   "execution_count": 7,
   "id": "9e0fbff8-732c-46dd-8db2-56e8ba2e60c8",
   "metadata": {},
   "outputs": [
    {
     "name": "stdout",
     "output_type": "stream",
     "text": [
      "+-----------------+\n",
      "|registration_date|\n",
      "+-----------------+\n",
      "|       2014-11-12|\n",
      "|       2013-01-22|\n",
      "|       2015-03-09|\n",
      "|       2013-05-21|\n",
      "|       2012-10-06|\n",
      "|       2014-09-26|\n",
      "|       2013-09-09|\n",
      "|       2013-03-26|\n",
      "|       2015-05-19|\n",
      "|       2012-04-17|\n",
      "|       2016-03-01|\n",
      "|       2007-11-23|\n",
      "|       2007-04-20|\n",
      "|       2009-07-25|\n",
      "|       2010-08-11|\n",
      "|       2007-11-15|\n",
      "|       2005-06-06|\n",
      "|       2006-05-17|\n",
      "|       2006-05-21|\n",
      "|       2009-11-22|\n",
      "+-----------------+\n",
      "only showing top 20 rows\n",
      "\n"
     ]
    }
   ],
   "source": [
    "df_members.select(\"registration_date\").distinct().show()\n",
    "\n",
    "\n"
   ]
  },
  {
   "cell_type": "markdown",
   "id": "fc741c78-be42-41a9-abe7-db00a8fc876f",
   "metadata": {},
   "source": [
    "# Set Today's date (aka inference date)\n",
    "\n",
    "This date is training cutoff. we train on all users before this date"
   ]
  },
  {
   "cell_type": "code",
   "execution_count": 8,
   "id": "a3c46c3a-bf43-4788-ad98-c53e34b2cada",
   "metadata": {},
   "outputs": [
    {
     "name": "stdout",
     "output_type": "stream",
     "text": [
      "Today's date is set to: 2015-12-15\n"
     ]
    }
   ],
   "source": [
    "inference_date = \"2017-03-01\"\n",
    "print(f\"Today's date is set to: {inference_date}\")"
   ]
  },
  {
   "cell_type": "code",
   "execution_count": 9,
   "id": "3a1f98f9-675b-4f50-8d56-1aba1d918139",
   "metadata": {},
   "outputs": [
    {
     "name": "stdout",
     "output_type": "stream",
     "text": [
      "Registered users up to 2015-12-15 : 3924570\n"
     ]
    },
    {
     "name": "stderr",
     "output_type": "stream",
     "text": [
      "[Stage 14:===========================================>              (3 + 1) / 4]"
     ]
    },
    {
     "name": "stdout",
     "output_type": "stream",
     "text": [
      "+--------------------------------------------+-----------------+-----------------------+--------------+----------+---------------+--------------+\n",
      "|msno                                        |registration_date|tenure_days_at_snapshot|registered_via|city_clean|via_oh         |city_oh       |\n",
      "+--------------------------------------------+-----------------+-----------------------+--------------+----------+---------------+--------------+\n",
      "|2Dd2zaY3UQAbsnOW2ffCse4HYFpnBKkA3GNenPUYxdE=|2014-11-01       |409                    |16            |1         |(18,[12],[1.0])|(21,[0],[1.0])|\n",
      "|TgFv/gOLcbCTq1K5UrsCxZuozau6mWpTlGolwm6t1/g=|2014-10-23       |418                    |16            |1         |(18,[12],[1.0])|(21,[0],[1.0])|\n",
      "|ZZuGBLOObobJjHLd5aFRq0K/2jZk9mrZNdIY8UO7lrs=|2014-12-16       |364                    |16            |1         |(18,[12],[1.0])|(21,[0],[1.0])|\n",
      "|bh4qCoZL8kgUmYBBjglJm03CYujRqL4WdS1ybD4kSLc=|2014-12-21       |359                    |16            |1         |(18,[12],[1.0])|(21,[0],[1.0])|\n",
      "|byk67yBdEMCp5QmWIHON0RtXa9giwZSrsgcz6GMAL/8=|2014-12-22       |358                    |16            |1         |(18,[12],[1.0])|(21,[0],[1.0])|\n",
      "+--------------------------------------------+-----------------+-----------------------+--------------+----------+---------------+--------------+\n",
      "only showing top 5 rows\n",
      "\n"
     ]
    },
    {
     "name": "stderr",
     "output_type": "stream",
     "text": [
      "                                                                                "
     ]
    }
   ],
   "source": [
    "from pyspark.sql.functions import to_date, col, lit\n",
    "\n",
    "registered_users = (\n",
    "    df_members\n",
    "    .withColumn(\"registration_date\", F.to_date(\"registration_date\"))\n",
    "    .filter(F.col(\"registration_date\") <= F.to_date(F.lit(inference_date)))\n",
    "    .withColumn(\n",
    "        \"tenure_days_at_snapshot\",\n",
    "        F.datediff(F.to_date(F.lit(inference_date)), F.col(\"registration_date\"))\n",
    "    )\n",
    "    .select(\n",
    "        \"msno\",\n",
    "        \"registration_date\",\n",
    "        \"tenure_days_at_snapshot\",\n",
    "        \"registered_via\",\n",
    "        \"city_clean\",\n",
    "        \"via_oh\",\n",
    "        \"city_oh\"\n",
    "    )\n",
    ")\n",
    "\n",
    "\n",
    "print(\"Registered users up to\", inference_date, \":\", registered_users.count())\n",
    "registered_users.show(5, truncate=False)"
   ]
  },
  {
   "cell_type": "markdown",
   "id": "f705bf5f-e5c3-4b78-baab-b2b8badd8808",
   "metadata": {},
   "source": [
    "# Aggregate userlogs data\n",
    "Aggregate all userlog data from the last 30 days for all members"
   ]
  },
  {
   "cell_type": "code",
   "execution_count": 10,
   "id": "179d967b-2169-4206-84e8-60d1b5c92f84",
   "metadata": {},
   "outputs": [],
   "source": [
    "from pyspark.sql.functions import sum as _sum, to_date, col, lit, date_sub\n",
    "\n",
    "ref_today = to_date(lit(inference_date))\n",
    "lower30 = F.date_sub(ref_today, 29)   # inclusive window: [today-29, today]\n",
    "lower7  = F.date_sub(ref_today, 6)    # inclusive window: [today-6,  today]\n",
    "\n",
    "# Filter logs to the last 30 days\n",
    "userlogs_30d = (\n",
    "    df_userlogs\n",
    "    .withColumn(\"date\", to_date(col(\"date\")))\n",
    "    .filter((col(\"date\") >= lower30) & (col(\"date\") <= ref_today))\n",
    ")\n",
    "\n",
    "userlogs_7d = (\n",
    "    df_userlogs\n",
    "    .withColumn(\"date\", to_date(col(\"date\")))\n",
    "    .filter((col(\"date\") >= lower7) & (col(\"date\") <= ref_today))\n",
    ")\n",
    "\n",
    "\n"
   ]
  },
  {
   "cell_type": "markdown",
   "id": "ebf9beb9-09e3-46c5-a006-1bf62a177194",
   "metadata": {},
   "source": [
    "all user activity for the past 1 month (inference date) and past 7 days."
   ]
  },
  {
   "cell_type": "code",
   "execution_count": 11,
   "id": "262b64eb-8bbf-4a5a-a84b-a16a654883c7",
   "metadata": {},
   "outputs": [
    {
     "name": "stderr",
     "output_type": "stream",
     "text": [
      "                                                                                "
     ]
    },
    {
     "name": "stdout",
     "output_type": "stream",
     "text": [
      "=== 30-day Window ===\n",
      "Expected Range : Column<'date_sub(to_date(2016-12-15), 29)'> → Column<'to_date(2016-12-15)'>\n",
      "Actual Data    : 2016-11-16 → 2016-12-15\n",
      "\n",
      "=== 7-day Window ===\n",
      "Expected Range : Column<'date_sub(to_date(2016-12-15), 6)'> → Column<'to_date(2016-12-15)'>\n",
      "Actual Data    : 2016-12-09 → 2016-12-15\n",
      "\n",
      "Sample rows (30-day):\n"
     ]
    },
    {
     "name": "stderr",
     "output_type": "stream",
     "text": [
      "                                                                                "
     ]
    },
    {
     "name": "stdout",
     "output_type": "stream",
     "text": [
      "+--------------------------------------------+----------+------+------+------+-------+-------+-------+----------+----+-----+\n",
      "|msno                                        |date      |num_25|num_50|num_75|num_985|num_100|num_unq|total_secs|year|month|\n",
      "+--------------------------------------------+----------+------+------+------+-------+-------+-------+----------+----+-----+\n",
      "|ZrZxBmTxLeq1dretLKO20UYn/DSatim8glvtRWMkalQ=|2016-11-16|1     |1     |0     |0      |3      |5      |895.587   |2016|11   |\n",
      "|iXvhFKDHdHWPKEVh/fSTcQ3EZieHUqOkKZZjhZv5agw=|2016-11-16|0     |0     |1     |1      |7      |9      |1903.456  |2016|11   |\n",
      "|tUpT8eu287I2CeZ6MBKGFNY+68f3NZscdUcObYgAU8c=|2016-11-16|1     |0     |0     |1      |35     |4      |7955.356  |2016|11   |\n",
      "|DuW67jLa9wsanYKiI7U8/DicPpzqAATA5Ab9OESw/wc=|2016-11-16|0     |0     |0     |0      |30     |30     |7041.535  |2016|11   |\n",
      "|ygDm/LOsF9FtDCfPja2MH2nFzdxAC1Ku/c58aTsCB8A=|2016-11-16|5     |1     |0     |0      |16     |21     |3634.927  |2016|11   |\n",
      "+--------------------------------------------+----------+------+------+------+-------+-------+-------+----------+----+-----+\n",
      "only showing top 5 rows\n",
      "\n",
      "Sample rows (7-day):\n"
     ]
    },
    {
     "name": "stderr",
     "output_type": "stream",
     "text": [
      "[Stage 22:=====================================================>(157 + 1) / 158]"
     ]
    },
    {
     "name": "stdout",
     "output_type": "stream",
     "text": [
      "+--------------------------------------------+----------+------+------+------+-------+-------+-------+----------+----+-----+\n",
      "|msno                                        |date      |num_25|num_50|num_75|num_985|num_100|num_unq|total_secs|year|month|\n",
      "+--------------------------------------------+----------+------+------+------+-------+-------+-------+----------+----+-----+\n",
      "|m5rJumviTOVpTzjOgx4K16sTOLns+JqUyN2kh64qIJQ=|2016-12-09|1     |0     |0     |0      |6      |5      |1338.029  |2016|12   |\n",
      "|s3tGSBlNJknadT+KyBGXmugNpwvLAQIkHxqQmZm+Iao=|2016-12-09|8     |0     |1     |0      |25     |30     |6283.083  |2016|12   |\n",
      "|3XiTI8IunkOQO3MEYDOFc8j8DEmi+QuTK2EUBRT5Mb0=|2016-12-09|0     |1     |2     |0      |32     |33     |9043.041  |2016|12   |\n",
      "|+ufV2nKTyUdB6lnL5QcSzS13AHRRhTycyYR9zVpX4Co=|2016-12-09|12    |3     |1     |0      |26     |27     |11698.229 |2016|12   |\n",
      "|pJmSNoa3cKhxVyEGk2dmlGjXxC9YMTWAXfXXP1yy5DM=|2016-12-09|0     |1     |0     |0      |18     |17     |4658.928  |2016|12   |\n",
      "+--------------------------------------------+----------+------+------+------+-------+-------+-------+----------+----+-----+\n",
      "only showing top 5 rows\n",
      "\n"
     ]
    },
    {
     "name": "stderr",
     "output_type": "stream",
     "text": [
      "                                                                                "
     ]
    }
   ],
   "source": [
    "from pyspark.sql import functions as F\n",
    "\n",
    "today = \"2016-12-15\"\n",
    "ref_today = F.to_date(F.lit(today))\n",
    "lower30 = F.date_sub(ref_today, 29)\n",
    "lower7  = F.date_sub(ref_today, 6)\n",
    "\n",
    "# Convert date column properly\n",
    "df_userlogs = df_userlogs.withColumn(\"date\", F.to_date(\"date\"))\n",
    "\n",
    "# Last 30 days\n",
    "userlogs_30d = df_userlogs.filter((F.col(\"date\") >= lower30) & (F.col(\"date\") <= ref_today))\n",
    "\n",
    "# Last 7 days\n",
    "userlogs_7d  = df_userlogs.filter((F.col(\"date\") >= lower7) & (F.col(\"date\") <= ref_today))\n",
    "\n",
    "# --- PRINT WINDOW RANGES CLEANLY ---\n",
    "minmax_30 = userlogs_30d.select(F.min(\"date\").alias(\"min_date\"), F.max(\"date\").alias(\"max_date\")).collect()[0]\n",
    "minmax_7  = userlogs_7d.select(F.min(\"date\").alias(\"min_date\"), F.max(\"date\").alias(\"max_date\")).collect()[0]\n",
    "\n",
    "print(f\"=== 30-day Window ===\")\n",
    "print(f\"Expected Range : {lower30} → {ref_today}\")\n",
    "print(f\"Actual Data    : {minmax_30['min_date']} → {minmax_30['max_date']}\\n\")\n",
    "\n",
    "print(f\"=== 7-day Window ===\")\n",
    "print(f\"Expected Range : {lower7} → {ref_today}\")\n",
    "print(f\"Actual Data    : {minmax_7['min_date']} → {minmax_7['max_date']}\\n\")\n",
    "\n",
    "# Show sample rows for visual check\n",
    "print(\"Sample rows (30-day):\")\n",
    "userlogs_30d.orderBy(\"date\").show(5, truncate=False)\n",
    "\n",
    "print(\"Sample rows (7-day):\")\n",
    "userlogs_7d.orderBy(\"date\").show(5, truncate=False)\n"
   ]
  },
  {
   "cell_type": "code",
   "execution_count": 12,
   "id": "499268d6-e5f1-48f6-a728-7757971fa47d",
   "metadata": {},
   "outputs": [
    {
     "name": "stderr",
     "output_type": "stream",
     "text": [
      "                                                                                "
     ]
    },
    {
     "data": {
      "text/plain": [
       "3924570"
      ]
     },
     "execution_count": 12,
     "metadata": {},
     "output_type": "execute_result"
    }
   ],
   "source": [
    "registered_users.select(\"msno\").distinct().count()"
   ]
  },
  {
   "cell_type": "code",
   "execution_count": 13,
   "id": "c92ace64-8803-458a-85c3-d85d7a0e6157",
   "metadata": {},
   "outputs": [
    {
     "name": "stderr",
     "output_type": "stream",
     "text": [
      "                                                                                "
     ]
    },
    {
     "data": {
      "text/plain": [
       "1125865"
      ]
     },
     "execution_count": 13,
     "metadata": {},
     "output_type": "execute_result"
    }
   ],
   "source": [
    "userlogs_30d.select(\"msno\").distinct().count()"
   ]
  },
  {
   "cell_type": "code",
   "execution_count": 14,
   "id": "b6a4e2f5-c898-445f-b933-93c88baba489",
   "metadata": {},
   "outputs": [
    {
     "name": "stderr",
     "output_type": "stream",
     "text": [
      "                                                                                "
     ]
    },
    {
     "data": {
      "text/plain": [
       "850171"
      ]
     },
     "execution_count": 14,
     "metadata": {},
     "output_type": "execute_result"
    }
   ],
   "source": [
    "userlogs_7d.select(\"msno\").distinct().count()"
   ]
  },
  {
   "cell_type": "code",
   "execution_count": 15,
   "id": "1e5f7c89-95f6-4145-b797-4435e7ef50f2",
   "metadata": {},
   "outputs": [],
   "source": [
    "user_sum_30d = (\n",
    "    userlogs_30d\n",
    "    .groupBy(\"msno\")\n",
    "    .agg(F.sum(\"total_secs\").alias(\"sum_secs_w30\"))\n",
    ")\n",
    "\n",
    "registered_users = (\n",
    "    registered_users\n",
    "    .join(user_sum_30d, on=\"msno\", how=\"left\")\n",
    "    .na.fill({\"sum_secs_w30\": 0.0})   # fill 0 for users with no activity\n",
    ")\n",
    "\n",
    "\n"
   ]
  },
  {
   "cell_type": "code",
   "execution_count": 16,
   "id": "8e5256bd-dc7d-46c2-bb6c-9a2ec1330d00",
   "metadata": {},
   "outputs": [],
   "source": [
    "user_active_days_30d = (\n",
    "    userlogs_30d\n",
    "    .groupBy(\"msno\")\n",
    "    .agg(F.countDistinct(\"date\").alias(\"active_days_w30\"))\n",
    ")\n",
    "\n",
    "registered_users = (\n",
    "    registered_users\n",
    "    .join(user_active_days_30d, on=\"msno\", how=\"left\")\n",
    "    .na.fill({\"active_days_w30\": 0})\n",
    ")\n",
    "\n",
    "\n",
    "\n"
   ]
  },
  {
   "cell_type": "code",
   "execution_count": 17,
   "id": "134f04a1-fc4d-481b-bd22-11bd1324ea8e",
   "metadata": {},
   "outputs": [],
   "source": [
    "user_complete_rate_30d = (\n",
    "    userlogs_30d\n",
    "    .groupBy(\"msno\")\n",
    "    .agg(\n",
    "        (F.sum(\"num_100\") / F.sum(\"num_unq\")).alias(\"complete_rate_w30\")\n",
    "    )\n",
    ")\n",
    "\n",
    "# Join with registered_users\n",
    "registered_users = (\n",
    "    registered_users\n",
    "    .join(user_complete_rate_30d, on=\"msno\", how=\"left\")\n",
    "    .na.fill({\"complete_rate_w30\": 0.0})\n",
    ")\n"
   ]
  },
  {
   "cell_type": "code",
   "execution_count": 18,
   "id": "74565c68-c242-4f07-85aa-4f8192bb5c36",
   "metadata": {},
   "outputs": [],
   "source": [
    "user_sum_7d = (\n",
    "    userlogs_7d\n",
    "    .groupBy(\"msno\")\n",
    "    .agg(F.sum(\"total_secs\").alias(\"sum_secs_w7\"))\n",
    ")\n",
    "\n",
    "# === 2️⃣ Join with registered_users ===\n",
    "registered_users = (\n",
    "    registered_users\n",
    "    .join(user_sum_7d, on=\"msno\", how=\"left\")\n",
    "    .na.fill({\"sum_secs_w7\": 0.0})\n",
    ")\n",
    "\n",
    "# === 3️⃣ Compute engagement_ratio_7_30 ===\n",
    "registered_users = (\n",
    "    registered_users\n",
    "    .withColumn(\n",
    "        \"engagement_ratio_7_30\",\n",
    "        F.col(\"sum_secs_w7\") / F.when(F.col(\"sum_secs_w30\") > 0, F.col(\"sum_secs_w30\")).otherwise(F.lit(1))\n",
    "    )\n",
    ")\n"
   ]
  },
  {
   "cell_type": "code",
   "execution_count": 19,
   "id": "0c74ea94-c65b-4c8e-882d-5523d994d858",
   "metadata": {},
   "outputs": [],
   "source": [
    "last_play = (\n",
    "    df_userlogs\n",
    "    .filter(F.col(\"date\") <= ref_today)\n",
    "    .groupBy(\"msno\")\n",
    "    .agg(F.max(\"date\").alias(\"last_play_date\"))\n",
    ")\n",
    "\n",
    "# 3) Join to registered_users and compute gap\n",
    "registered_users = (\n",
    "    registered_users\n",
    "    .join(last_play, on=\"msno\", how=\"left\")\n",
    "    .withColumn(\"days_since_last_play\", F.datediff(ref_today, F.col(\"last_play_date\")))\n",
    ")"
   ]
  },
  {
   "cell_type": "code",
   "execution_count": 20,
   "id": "39583239-60b5-4a5f-91aa-faab39ffbdfa",
   "metadata": {},
   "outputs": [],
   "source": [
    "from pyspark.sql import Window\n",
    "\n",
    "# 1️⃣ Aggregate total seconds per user per day (in the 30d window)\n",
    "daily_secs = (\n",
    "    userlogs_30d\n",
    "    .groupBy(\"msno\", \"date\")\n",
    "    .agg(F.sum(\"total_secs\").alias(\"daily_secs\"))\n",
    ")\n",
    "\n",
    "# 2️⃣ Assign day index relative to the start of the window\n",
    "window_spec = Window.partitionBy(\"msno\").orderBy(\"date\")\n",
    "daily_secs = (\n",
    "    daily_secs\n",
    "    .withColumn(\"day_idx\", F.row_number().over(window_spec))\n",
    ")\n",
    "\n",
    "# 3️⃣ Compute slope = cov(x, y) / var(x)\n",
    "trend = (\n",
    "    daily_secs\n",
    "    .groupBy(\"msno\")\n",
    "    .agg(\n",
    "        (F.covar_pop(\"day_idx\", \"daily_secs\") / F.var_pop(\"day_idx\")).alias(\"trend_secs_w30\")\n",
    "    )\n",
    ")\n",
    "\n",
    "# 4️⃣ Join back to registered_users\n",
    "registered_users = (\n",
    "    registered_users\n",
    "    .join(trend, on=\"msno\", how=\"left\")\n",
    "    .na.fill({\"trend_secs_w30\": 0.0})\n",
    ")"
   ]
  },
  {
   "cell_type": "code",
   "execution_count": 21,
   "id": "44a970f0-e5e4-4bd6-b177-dedad1605aaa",
   "metadata": {},
   "outputs": [
    {
     "name": "stderr",
     "output_type": "stream",
     "text": [
      "[Stage 51:===================================================>    (12 + 1) / 13]"
     ]
    },
    {
     "name": "stdout",
     "output_type": "stream",
     "text": [
      "+--------------------+-----------------+-----------------------+--------------+----------+--------------+--------------+------------+---------------+------------------+-----------+---------------------+--------------+--------------------+------------------+\n",
      "|                msno|registration_date|tenure_days_at_snapshot|registered_via|city_clean|        via_oh|       city_oh|sum_secs_w30|active_days_w30| complete_rate_w30|sum_secs_w7|engagement_ratio_7_30|last_play_date|days_since_last_play|    trend_secs_w30|\n",
      "+--------------------+-----------------+-----------------------+--------------+----------+--------------+--------------+------------+---------------+------------------+-----------+---------------------+--------------+--------------------+------------------+\n",
      "|++4RuqBw0Ss6bQU4o...|       2014-07-14|                    519|             7|         1|(18,[3],[1.0])|(21,[0],[1.0])|   67962.114|             19|0.7949526813880127|  19240.423|   0.2831051282483649|    2016-12-13|                   2|126.42169649122818|\n",
      "|++7jKYbuIJPXry8Oh...|       2014-09-09|                    462|             3|         6|(18,[1],[1.0])|(21,[6],[1.0])|         0.0|              0|               0.0|        0.0|                  0.0|    2016-03-17|                 273|               0.0|\n",
      "|++e4rMM7yMG4IJ7Rj...|       2014-09-24|                    447|             7|         1|(18,[3],[1.0])|(21,[0],[1.0])|         0.0|              0|               0.0|        0.0|                  0.0|    2015-02-15|                 669|               0.0|\n",
      "|++j+d3vuwzlgkdEsw...|       2013-09-14|                    822|             3|        14|(18,[1],[1.0])|(21,[7],[1.0])|         0.0|              0|               0.0|        0.0|                  0.0|          NULL|                   0|               0.0|\n",
      "|+/3D58GYWkkNSLXQ7...|       2014-08-25|                    477|             9|         1|(18,[2],[1.0])|(21,[0],[1.0])|         0.0|              0|               0.0|        0.0|                  0.0|          NULL|                   0|               0.0|\n",
      "+--------------------+-----------------+-----------------------+--------------+----------+--------------+--------------+------------+---------------+------------------+-----------+---------------------+--------------+--------------------+------------------+\n",
      "only showing top 5 rows\n",
      "\n"
     ]
    },
    {
     "name": "stderr",
     "output_type": "stream",
     "text": [
      "                                                                                "
     ]
    }
   ],
   "source": [
    "registered_users = registered_users.na.fill(0)\n",
    "registered_users.show(5)"
   ]
  },
  {
   "cell_type": "markdown",
   "id": "5b879793-342f-4c5c-a606-55fdcafb4298",
   "metadata": {},
   "source": [
    "# Transaction data"
   ]
  },
  {
   "cell_type": "code",
   "execution_count": 22,
   "id": "448d9fd4-c8af-4644-816e-79196f872af1",
   "metadata": {},
   "outputs": [
    {
     "name": "stdout",
     "output_type": "stream",
     "text": [
      "+--------------------+-----------------+-----------------+---------------+------------------+-------------+----------------+----------------------+---------+-------------------+---+--------------------+----+-----+\n",
      "|                msno|payment_method_id|payment_plan_days|plan_list_price|actual_amount_paid|is_auto_renew|transaction_date|membership_expire_date|is_cancel|        source_file|day|      transaction_id|year|month|\n",
      "+--------------------+-----------------+-----------------+---------------+------------------+-------------+----------------+----------------------+---------+-------------------+---+--------------------+----+-----+\n",
      "|VIHHLepUEMXxF2iel...|               41|               30|            149|               149|            1|      2016-11-08|            2016-12-08|        0|   transactions.csv|  8|84c76dce-ee16-403...|2016|   11|\n",
      "|TkAhpvvz+vU7LBuVH...|               26|                1|              0|                 0|            0|      2016-11-23|            2016-11-30|        0|   transactions.csv| 23|218cfc0b-0139-443...|2016|   11|\n",
      "|VIl7ZhgbpR4kLC/Zx...|               41|               30|            149|               149|            1|      2016-11-06|            2016-12-06|        0|   transactions.csv|  6|08bba8c6-5efe-404...|2016|   11|\n",
      "|UBfqR1od2RUoO5UfD...|               26|                1|              0|                 0|            0|      2016-11-18|            2017-05-24|        0|transactions_v2.csv| 18|de5c9457-650f-45b...|2016|   11|\n",
      "|VIm9MHW1FcFvwKm5A...|               37|               30|            149|               149|            1|      2016-11-10|            2016-12-10|        0|   transactions.csv| 10|6b208684-2544-43a...|2016|   11|\n",
      "+--------------------+-----------------+-----------------+---------------+------------------+-------------+----------------+----------------------+---------+-------------------+---+--------------------+----+-----+\n",
      "only showing top 5 rows\n",
      "\n"
     ]
    }
   ],
   "source": [
    "df_transactions.show(5)"
   ]
  },
  {
   "cell_type": "code",
   "execution_count": 25,
   "id": "63ceeb22-334d-4dc8-9a8e-b70c2f09d2a4",
   "metadata": {},
   "outputs": [],
   "source": [
    "\n",
    "df_transactions_filtered = (\n",
    "    df_transactions\n",
    "    .filter(F.to_date(F.col(\"transaction_date\")) <= F.to_date(F.lit(inference_date)))\n",
    ")\n"
   ]
  },
  {
   "cell_type": "code",
   "execution_count": null,
   "id": "3bab9836-ffca-4a56-ace0-cbba42f328d1",
   "metadata": {},
   "outputs": [],
   "source": []
  },
  {
   "cell_type": "code",
   "execution_count": null,
   "id": "abd01240-0e02-4675-a4fb-ef02c63dcb97",
   "metadata": {},
   "outputs": [
    {
     "name": "stderr",
     "output_type": "stream",
     "text": [
      "[Stage 65:>(5 + 12) / 158][Stage 66:> (0 + 0) / 158][Stage 67:> (0 + 0) / 158]"
     ]
    }
   ],
   "source": [
    "\n",
    "# Latest transaction per user\n",
    "latest_tx = (df_transactions_filtered.groupBy(\"msno\")\n",
    "               .agg(F.max(\"transaction_date\").alias(\"latest_transaction_date\")))\n",
    "\n",
    "# Join and compute tenure_days\n",
    "registered_users = (registered_users\n",
    "    .join(latest_tx, on=\"msno\", how=\"left\")\n",
    "    .withColumn(\"tenure_days\",\n",
    "                F.datediff(F.col(\"latest_transaction_date\"), F.col(\"registration_date\")))\n",
    "    .na.fill({\"tenure_days\": 0})\n",
    ")"
   ]
  },
  {
   "cell_type": "code",
   "execution_count": null,
   "id": "c2002d61-8fa6-41e7-b0e5-fc21e47017ef",
   "metadata": {},
   "outputs": [],
   "source": [
    "# Further preparation of df_transactions_filtered\n",
    "\n",
    "df_transactions_enriched = df_transactions_filtered.withColumn(\n",
    "    \"discount_rate\",\n",
    "    (F.col(\"list_price\") - F.col(\"actual_amount_paid\")) / F.col(\"list_price\")\n",
    ")\n",
    "\n",
    "# Lifetime aggregate features (Shares and Mean Discount)\n",
    "# Group by msno to calculate lifetime sums and averages\n",
    "df_lifetime_aggregates = df_transactions_enriched.groupBy(\"msno\").agg(\n",
    "    # Total count of transactions for the denominator\n",
    "    F.count(F.col(\"msno\")).alias(\"total_transactions\"),\n",
    "    \n",
    "    # Numerators for shares (summing the 1s)\n",
    "    F.sum(F.col(\"is_auto_renew\")).alias(\"auto_renew_count\"),\n",
    "    F.sum(F.col(\"is_cancel\")).alias(\"cancel_count\"),\n",
    "    \n",
    "    # Average Discount Lifetime\n",
    "    F.mean(\"discount_rate\").alias(\"avg_discount_lifetime\")\n",
    ")\n",
    "\n",
    "# Compute Share features\n",
    "df_lifetime_aggregates = df_lifetime_aggregates.withColumn(\n",
    "    # auto_renew_share = total # transactions with is_auto_renew = 1 / total # transactions\n",
    "    \"auto_renew_share\",\n",
    "    F.when(F.col(\"total_transactions\") > 0, F.col(\"auto_renew_count\") / F.col(\"total_transactions\")).otherwise(0)\n",
    ").withColumn(\n",
    "    # cancel_share = #transactions with is_cancel=1 / total #transactions\n",
    "    \"cancel_share\",\n",
    "    F.when(F.col(\"total_transactions\") > 0, F.col(\"cancel_count\") / F.col(\"total_transactions\")).otherwise(0)\n",
    ").drop(\"total_transactions\", \"auto_renew_count\", \"cancel_count\")"
   ]
  },
  {
   "cell_type": "code",
   "execution_count": 30,
   "id": "b66cafe9-67a3-45e1-bafd-21630be7aa0d",
   "metadata": {},
   "outputs": [
    {
     "name": "stderr",
     "output_type": "stream",
     "text": [
      "[Stage 120:==================================================>    (12 + 1) / 13]"
     ]
    },
    {
     "name": "stdout",
     "output_type": "stream",
     "text": [
      "+--------------------+-----------------+-----------------------+--------------+----------+--------------+--------------+------------+---------------+------------------+-----------+---------------------+--------------+--------------------+------------------+-----------------------+-----------+\n",
      "|                msno|registration_date|tenure_days_at_snapshot|registered_via|city_clean|        via_oh|       city_oh|sum_secs_w30|active_days_w30| complete_rate_w30|sum_secs_w7|engagement_ratio_7_30|last_play_date|days_since_last_play|    trend_secs_w30|latest_transaction_date|tenure_days|\n",
      "+--------------------+-----------------+-----------------------+--------------+----------+--------------+--------------+------------+---------------+------------------+-----------+---------------------+--------------+--------------------+------------------+-----------------------+-----------+\n",
      "|++4RuqBw0Ss6bQU4o...|       2014-07-14|                    519|             7|         1|(18,[3],[1.0])|(21,[0],[1.0])|   67962.114|             19|0.7949526813880127|  19240.423|   0.2831051282483649|    2016-12-13|                   2|126.42169649122818|             2015-12-13|        517|\n",
      "|++7jKYbuIJPXry8Oh...|       2014-09-09|                    462|             3|         6|(18,[1],[1.0])|(21,[6],[1.0])|         0.0|              0|               0.0|        0.0|                  0.0|    2016-03-17|                 273|               0.0|                   NULL|          0|\n",
      "|++e4rMM7yMG4IJ7Rj...|       2014-09-24|                    447|             7|         1|(18,[3],[1.0])|(21,[0],[1.0])|         0.0|              0|               0.0|        0.0|                  0.0|    2015-02-15|                 669|               0.0|                   NULL|          0|\n",
      "|++j+d3vuwzlgkdEsw...|       2013-09-14|                    822|             3|        14|(18,[1],[1.0])|(21,[7],[1.0])|         0.0|              0|               0.0|        0.0|                  0.0|          NULL|                   0|               0.0|                   NULL|          0|\n",
      "|+/3D58GYWkkNSLXQ7...|       2014-08-25|                    477|             9|         1|(18,[2],[1.0])|(21,[0],[1.0])|         0.0|              0|               0.0|        0.0|                  0.0|          NULL|                   0|               0.0|                   NULL|          0|\n",
      "+--------------------+-----------------+-----------------------+--------------+----------+--------------+--------------+------------+---------------+------------------+-----------+---------------------+--------------+--------------------+------------------+-----------------------+-----------+\n",
      "only showing top 5 rows\n",
      "\n"
     ]
    },
    {
     "name": "stderr",
     "output_type": "stream",
     "text": [
      "                                                                                "
     ]
    }
   ],
   "source": [
    "registered_users = registered_users.na.fill(0)\n",
    "registered_users.show(5)"
   ]
  },
  {
   "cell_type": "code",
   "execution_count": null,
   "id": "3d7b4340-86c9-4150-b8d4-a9ac7cdf37bc",
   "metadata": {},
   "outputs": [],
   "source": []
  },
  {
   "cell_type": "code",
   "execution_count": null,
   "id": "b8eccd13-62b0-4e0c-9159-fc1c12e167c0",
   "metadata": {},
   "outputs": [],
   "source": []
  },
  {
   "cell_type": "code",
   "execution_count": null,
   "id": "21782c3d-c78f-449c-81ca-6e2da859a33b",
   "metadata": {},
   "outputs": [],
   "source": []
  },
  {
   "cell_type": "code",
   "execution_count": null,
   "id": "60e1b6f1-3d6c-424e-a0a7-a38bb9f1a532",
   "metadata": {},
   "outputs": [],
   "source": []
  },
  {
   "cell_type": "code",
   "execution_count": null,
   "id": "dd7c788b-1578-4998-8f6b-b01ac5ed98db",
   "metadata": {},
   "outputs": [],
   "source": []
  },
  {
   "cell_type": "code",
   "execution_count": null,
   "id": "9cf5414b-4a2e-4481-ba43-f952dbb7a128",
   "metadata": {},
   "outputs": [],
   "source": []
  }
 ],
 "metadata": {
  "kernelspec": {
   "display_name": "Python 3 (ipykernel)",
   "language": "python",
   "name": "python3"
  },
  "language_info": {
   "codemirror_mode": {
    "name": "ipython",
    "version": 3
   },
   "file_extension": ".py",
   "mimetype": "text/x-python",
   "name": "python",
   "nbconvert_exporter": "python",
   "pygments_lexer": "ipython3",
   "version": "3.12.12"
  }
 },
 "nbformat": 4,
 "nbformat_minor": 5
}
