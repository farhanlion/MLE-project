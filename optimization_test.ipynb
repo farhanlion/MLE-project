{
 "cells": [
  {
   "cell_type": "code",
   "execution_count": 1,
   "id": "bd56469b-23a3-4583-8ac4-6ae46e30c602",
   "metadata": {},
   "outputs": [],
   "source": [
    "import os\n",
    "import glob\n",
    "import pandas as pd\n",
    "import matplotlib.pyplot as plt\n",
    "import numpy as np\n",
    "import random\n",
    "from datetime import datetime, timedelta\n",
    "from dateutil.relativedelta import relativedelta\n",
    "import pprint\n",
    "import pyspark\n",
    "import pyspark.sql.functions as F\n",
    "\n",
    "from pyspark.sql.functions import to_date, col\n",
    "from pyspark.sql.types import StringType, IntegerType, FloatType, DateType\n",
    "# Initialize SparkSession\n"
   ]
  },
  {
   "cell_type": "code",
   "execution_count": 18,
   "id": "39dfeaa3-e7f3-4167-b51e-5285ce88aabd",
   "metadata": {},
   "outputs": [
    {
     "name": "stderr",
     "output_type": "stream",
     "text": [
      "25/10/28 13:09:45 WARN SparkSession: Using an existing Spark session; only runtime SQL configurations will take effect.\n"
     ]
    }
   ],
   "source": [
    "spark = (\n",
    "    pyspark.sql.SparkSession.builder\n",
    "    .appName(\"dev\")\n",
    "    .master(\"local[*]\")                     # Use all 12 logical cores\n",
    "    .config(\"spark.driver.memory\", \"4g\")   # Allocate ~10 GB memory\n",
    "    .config(\"spark.sql.shuffle.partitions\", \"12\")  # Match to number of threads\n",
    "    .getOrCreate()\n",
    ")"
   ]
  },
  {
   "cell_type": "code",
   "execution_count": 26,
   "id": "7724c50f-d199-43d7-a4b4-0a0d6bd7b975",
   "metadata": {},
   "outputs": [],
   "source": [
    "df = (spark.read\n",
    "      .option(\"header\", True)\n",
    "      .option(\"inferSchema\", True)\n",
    "      .parquet(\"datamart/silver/user_logs\"))\n",
    "\n",
    "df = df.repartition(12) "
   ]
  },
  {
   "cell_type": "code",
   "execution_count": null,
   "id": "571e5dd7-529d-431e-be92-b8b5dd1c6c0b",
   "metadata": {},
   "outputs": [
    {
     "name": "stderr",
     "output_type": "stream",
     "text": [
      "[Stage 37:>                                                      (0 + 12) / 158]"
     ]
    }
   ],
   "source": [
    "df.show()"
   ]
  },
  {
   "cell_type": "code",
   "execution_count": null,
   "id": "430d7948-63a7-4cbe-bb1d-f29e0fb678fe",
   "metadata": {},
   "outputs": [],
   "source": [
    "import time\n",
    "\n",
    "start = time.time()\n",
    "df.count()\n",
    "end = time.time()\n",
    "\n",
    "print(f\"Execution time: {end - start:.2f} seconds\")"
   ]
  },
  {
   "cell_type": "code",
   "execution_count": null,
   "id": "2188c372-0111-450a-ab7c-bbabae0be0c0",
   "metadata": {},
   "outputs": [],
   "source": []
  }
 ],
 "metadata": {
  "kernelspec": {
   "display_name": "Python 3 (ipykernel)",
   "language": "python",
   "name": "python3"
  },
  "language_info": {
   "codemirror_mode": {
    "name": "ipython",
    "version": 3
   },
   "file_extension": ".py",
   "mimetype": "text/x-python",
   "name": "python",
   "nbconvert_exporter": "python",
   "pygments_lexer": "ipython3",
   "version": "3.12.12"
  }
 },
 "nbformat": 4,
 "nbformat_minor": 5
}
