{
 "cells": [
  {
   "cell_type": "code",
   "execution_count": 25,
   "id": "0a092768-e48e-451e-b4df-26e2e69c8269",
   "metadata": {},
   "outputs": [],
   "source": [
    "import os\n",
    "import glob\n",
    "import pandas as pd\n",
    "import matplotlib.pyplot as plt\n",
    "import numpy as np\n",
    "import random\n",
    "from datetime import datetime, timedelta\n",
    "from dateutil.relativedelta import relativedelta\n",
    "import pprint\n",
    "import pyspark\n",
    "import pyspark.sql.functions as F\n",
    "\n",
    "from pyspark.sql.functions import col\n",
    "from pyspark.sql.types import StringType, IntegerType, FloatType, DateType\n",
    "from pyspark.sql.window import Window"
   ]
  },
  {
   "cell_type": "code",
   "execution_count": 26,
   "id": "4f81b185-c3a0-413d-bd77-5efa2864513c",
   "metadata": {},
   "outputs": [],
   "source": [
    "# Define paths\n",
    "silver_transactions_path = \"/app/datamart/silver/transactions\" \n",
    "silver_latest_transactions_path = \"/app/datamart/silver/max_expiry_transactions\"\n",
    "gold_max_expiry_path = \"/app/datamart/gold/label_store\""
   ]
  },
  {
   "cell_type": "code",
   "execution_count": 27,
   "id": "551f2e7d-2f14-4726-89c4-dfe7d87d6e67",
   "metadata": {},
   "outputs": [],
   "source": [
    "# Initialize SparkSession\n",
    "spark = pyspark.sql.SparkSession.builder \\\n",
    "    .appName(\"dev\") \\\n",
    "    .config(\"spark.driver.memory\", \"8g\") \\\n",
    "    .master(\"local[*]\") \\\n",
    "    .getOrCreate()\n",
    "\n",
    "# Set log level to ERROR to hide warnings\n",
    "spark.sparkContext.setLogLevel(\"ERROR\")"
   ]
  },
  {
   "cell_type": "code",
   "execution_count": 28,
   "id": "827e02c0-1d2e-42a9-a290-9b7a8fe648d9",
   "metadata": {},
   "outputs": [
    {
     "name": "stdout",
     "output_type": "stream",
     "text": [
      "Silver Transactions schema:\n",
      "root\n",
      " |-- msno: string (nullable = true)\n",
      " |-- payment_method_id: integer (nullable = true)\n",
      " |-- payment_plan_days: integer (nullable = true)\n",
      " |-- plan_list_price: integer (nullable = true)\n",
      " |-- actual_amount_paid: integer (nullable = true)\n",
      " |-- is_auto_renew: integer (nullable = true)\n",
      " |-- transaction_date: date (nullable = true)\n",
      " |-- membership_expire_date: date (nullable = true)\n",
      " |-- is_cancel: integer (nullable = true)\n",
      " |-- source_file: string (nullable = true)\n",
      " |-- day: integer (nullable = true)\n",
      " |-- transaction_id: string (nullable = true)\n",
      " |-- year: integer (nullable = true)\n",
      " |-- month: integer (nullable = true)\n",
      "\n"
     ]
    }
   ],
   "source": [
    "# Load all Silver parquet files\n",
    "df_silver = spark.read.parquet(silver_transactions_path)\n",
    "print(\"Silver Transactions schema:\")\n",
    "df_silver.printSchema()"
   ]
  },
  {
   "cell_type": "markdown",
   "id": "0ed3378a-f501-4e43-912f-f897cb7ab59f",
   "metadata": {},
   "source": [
    "## Read silver/transactions"
   ]
  },
  {
   "cell_type": "code",
   "execution_count": 29,
   "id": "720d2d9c-061b-4143-9a52-56fd80dae96c",
   "metadata": {},
   "outputs": [],
   "source": [
    "txn = (spark.read\n",
    "      .option(\"header\", True)\n",
    "      .option(\"inferSchema\", True)\n",
    "      .parquet(silver_transactions_path))"
   ]
  },
  {
   "cell_type": "markdown",
   "id": "7d07e638-af20-4480-8648-45b93db35398",
   "metadata": {},
   "source": [
    "## Get the transaction with latest expiry date per msno"
   ]
  },
  {
   "cell_type": "code",
   "execution_count": 31,
   "id": "4166641a-4961-4096-847a-68e5bdf9d4b9",
   "metadata": {},
   "outputs": [
    {
     "name": "stderr",
     "output_type": "stream",
     "text": [
      "[Stage 7:>                                                          (0 + 1) / 1]"
     ]
    },
    {
     "name": "stdout",
     "output_type": "stream",
     "text": [
      "+--------------------------------------------+-------------+-----------------+-----------------+---------------+------------------+-------------+----------------+----------------------+---------+----------------+---+------------------------------------+----+-----+\n",
      "|msno                                        |snapshot_date|payment_method_id|payment_plan_days|plan_list_price|actual_amount_paid|is_auto_renew|transaction_date|membership_expire_date|is_cancel|source_file     |day|transaction_id                      |year|month|\n",
      "+--------------------------------------------+-------------+-----------------+-----------------+---------------+------------------+-------------+----------------+----------------------+---------+----------------+---+------------------------------------+----+-----+\n",
      "|++4RuqBw0Ss6bQU4oMxaRlbBPoWzoEiIZaxPM04Y4+U=|2015-02-13   |41               |30               |129            |129               |1            |2015-01-13      |2015-02-13            |0        |transactions.csv|13 |850272d9-c444-4eb3-acd9-ee5c238069b8|2015|1    |\n",
      "|++4RuqBw0Ss6bQU4oMxaRlbBPoWzoEiIZaxPM04Y4+U=|2015-03-13   |41               |30               |129            |129               |1            |2015-02-13      |2015-03-13            |0        |transactions.csv|13 |a94a79b9-08c5-4e43-936b-53a0f4b81770|2015|2    |\n",
      "|++4RuqBw0Ss6bQU4oMxaRlbBPoWzoEiIZaxPM04Y4+U=|2015-04-13   |41               |30               |129            |129               |1            |2015-03-13      |2015-04-13            |0        |transactions.csv|13 |50dad21e-0ef9-481b-84d0-a72c9b3a3bfd|2015|3    |\n",
      "|++4RuqBw0Ss6bQU4oMxaRlbBPoWzoEiIZaxPM04Y4+U=|2015-05-13   |41               |30               |129            |129               |1            |2015-04-13      |2015-05-13            |0        |transactions.csv|13 |7366e7c7-be5a-4b67-b39a-2a0c853e2ece|2015|4    |\n",
      "|++4RuqBw0Ss6bQU4oMxaRlbBPoWzoEiIZaxPM04Y4+U=|2015-06-13   |41               |0                |0              |129               |1            |2015-05-13      |2015-06-13            |0        |transactions.csv|13 |81a635ab-8272-4ba2-9277-d428e7396fbe|2015|5    |\n",
      "|++4RuqBw0Ss6bQU4oMxaRlbBPoWzoEiIZaxPM04Y4+U=|2015-07-13   |41               |30               |129            |129               |1            |2015-06-13      |2015-07-13            |0        |transactions.csv|13 |fe87ae52-b661-42ac-bbc7-3ec2b277c402|2015|6    |\n",
      "|++4RuqBw0Ss6bQU4oMxaRlbBPoWzoEiIZaxPM04Y4+U=|2015-08-13   |41               |30               |149            |149               |1            |2015-07-13      |2015-08-13            |0        |transactions.csv|13 |e6a6b2de-3d56-406a-8738-764e6982ceee|2015|7    |\n",
      "|++4RuqBw0Ss6bQU4oMxaRlbBPoWzoEiIZaxPM04Y4+U=|2015-09-13   |41               |30               |149            |149               |1            |2015-08-13      |2015-09-13            |0        |transactions.csv|13 |e0c875bc-19df-47a0-92d0-8060df7cfcf9|2015|8    |\n",
      "|++4RuqBw0Ss6bQU4oMxaRlbBPoWzoEiIZaxPM04Y4+U=|2015-10-13   |41               |30               |149            |149               |1            |2015-09-13      |2015-10-13            |0        |transactions.csv|13 |fe6dddf7-d20a-46fe-b04e-b135e7e9d62c|2015|9    |\n",
      "|++4RuqBw0Ss6bQU4oMxaRlbBPoWzoEiIZaxPM04Y4+U=|2015-11-13   |41               |30               |149            |149               |1            |2015-10-13      |2015-11-13            |0        |transactions.csv|13 |86791942-7901-4918-9d10-8becab99ddd7|2015|10   |\n",
      "+--------------------------------------------+-------------+-----------------+-----------------+---------------+------------------+-------------+----------------+----------------------+---------+----------------+---+------------------------------------+----+-----+\n",
      "only showing top 10 rows\n",
      "\n"
     ]
    },
    {
     "name": "stderr",
     "output_type": "stream",
     "text": [
      "                                                                                "
     ]
    }
   ],
   "source": [
    "# Ensure date types\n",
    "txn = (\n",
    "    txn.withColumn(\"transaction_date\", F.to_date(\"transaction_date\"))\n",
    "       .withColumn(\"membership_expire_date\", F.to_date(\"membership_expire_date\"))\n",
    ")\n",
    "\n",
    "# 2) Build daily snapshot dates from 2015-02-01 to 2017-03-01 (inclusive)\n",
    "snapshots = (\n",
    "    spark.range(1)\n",
    "         .select(\n",
    "             F.explode(\n",
    "                 F.sequence(\n",
    "                     F.to_date(F.lit(\"2015-02-01\")),\n",
    "                     F.to_date(F.lit(\"2017-03-01\")),\n",
    "                     F.expr(\"interval 1 day\")\n",
    "                 )\n",
    "             ).alias(\"snapshot_date\")\n",
    "         )\n",
    ")\n",
    "\n",
    "# Optional: if you specifically want *daily* snapshots, change interval to \"interval 1 day\".\n",
    "\n",
    "# Cartesian over distinct users × snapshot dates\n",
    "msnos = txn.select(\"msno\").distinct()\n",
    "grid = msnos.crossJoin(snapshots)\n",
    "\n",
    "# 3) For each (msno, snapshot_date), find the latest membership_expire_date on/before the snapshot\n",
    "#    (Using <=; switch to < if you truly need \"strictly before\".)\n",
    "candidates = (\n",
    "    grid.join(txn, on=\"msno\", how=\"left\")\n",
    "        .where(\n",
    "            F.col(\"membership_expire_date\").isNotNull()\n",
    "            & (F.col(\"membership_expire_date\") <= F.col(\"snapshot_date\"))\n",
    "        )\n",
    ")\n",
    "\n",
    "w = Window.partitionBy(\"msno\", \"snapshot_date\").orderBy(F.col(\"membership_expire_date\").desc())\n",
    "latest_before_or_on = candidates.withColumn(\"rn\", F.row_number().over(w)).where(\"rn = 1\")\n",
    "\n",
    "# 4) Keep only rows where membership_expire_date == snapshot_date\n",
    "txn_snapshots = (\n",
    "    latest_before_or_on\n",
    "        .where(F.col(\"membership_expire_date\") == F.col(\"snapshot_date\"))\n",
    "        .drop(\"rn\")\n",
    ")\n",
    "\n",
    "# Preview\n",
    "txn_snapshots.show(10, truncate=False)\n"
   ]
  },
  {
   "cell_type": "markdown",
   "id": "948700a9-66ef-4c07-8b88-3ffe9ce5157a",
   "metadata": {},
   "source": [
    "### Save to silver layer"
   ]
  },
  {
   "cell_type": "code",
   "execution_count": 33,
   "id": "1dbd16e1",
   "metadata": {},
   "outputs": [
    {
     "ename": "NameError",
     "evalue": "name 'df_latest_transaction_final' is not defined",
     "output_type": "error",
     "traceback": [
      "\u001b[31m---------------------------------------------------------------------------\u001b[39m",
      "\u001b[31mNameError\u001b[39m                                 Traceback (most recent call last)",
      "\u001b[36mCell\u001b[39m\u001b[36m \u001b[39m\u001b[32mIn[33]\u001b[39m\u001b[32m, line 5\u001b[39m\n\u001b[32m      1\u001b[39m \u001b[38;5;66;03m# Save to silver layer\u001b[39;00m\n\u001b[32m      2\u001b[39m \n\u001b[32m      3\u001b[39m \u001b[38;5;66;03m# Save as Parquet, with partitioning\u001b[39;00m\n\u001b[32m      4\u001b[39m (\n\u001b[32m----> \u001b[39m\u001b[32m5\u001b[39m     \u001b[43mdf_latest_transaction_final\u001b[49m\n\u001b[32m      6\u001b[39m     .write\n\u001b[32m      7\u001b[39m     .mode(\u001b[33m\"\u001b[39m\u001b[33moverwrite\u001b[39m\u001b[33m\"\u001b[39m)\n\u001b[32m      8\u001b[39m     .parquet(silver_latest_transactions_path)\n\u001b[32m      9\u001b[39m )\n\u001b[32m     11\u001b[39m \u001b[38;5;28mprint\u001b[39m(\u001b[33mf\u001b[39m\u001b[33m\"\u001b[39m\u001b[33m✅ Silver layer - max expiry transaction successfully written to: \u001b[39m\u001b[38;5;132;01m{\u001b[39;00msilver_latest_transactions_path\u001b[38;5;132;01m}\u001b[39;00m\u001b[33m\"\u001b[39m)\n",
      "\u001b[31mNameError\u001b[39m: name 'df_latest_transaction_final' is not defined"
     ]
    }
   ],
   "source": [
    "# Save to silver layer\n",
    "\n",
    "# Save as Parquet, with partitioning\n",
    "(\n",
    "    txn_snapshots\n",
    "    .write\n",
    "    .mode(\"overwrite\")\n",
    "    .parquet(silver_latest_transactions_path)\n",
    ")\n",
    "\n",
    "print(f\"✅ Silver layer - max expiry transaction successfully written to: {silver_latest_transactions_path}\")"
   ]
  },
  {
   "cell_type": "markdown",
   "id": "73506e33-ce4d-41b7-a803-e566c03aa22b",
   "metadata": {},
   "source": [
    "## Generate labels"
   ]
  },
  {
   "cell_type": "code",
   "execution_count": 34,
   "id": "2a31834a-eee4-4c6d-8512-6be13f8b662a",
   "metadata": {},
   "outputs": [],
   "source": [
    "txn_snapshots = (spark.read\n",
    "                      .option(\"header\", True)\n",
    "                      .option(\"inferSchema\", True)\n",
    "                      .parquet(silver_latest_transactions_path))"
   ]
  },
  {
   "cell_type": "code",
   "execution_count": 35,
   "id": "138aeb82-4286-41e3-bd6a-d33c0b2fc8b9",
   "metadata": {},
   "outputs": [
    {
     "name": "stderr",
     "output_type": "stream",
     "text": [
      "[Stage 16:>                                                         (0 + 1) / 1]"
     ]
    },
    {
     "name": "stdout",
     "output_type": "stream",
     "text": [
      "+-------------+--------------------------------------------+--------+\n",
      "|snapshot_date|msno                                        |is_churn|\n",
      "+-------------+--------------------------------------------+--------+\n",
      "|2015-05-13   |++4RuqBw0Ss6bQU4oMxaRlbBPoWzoEiIZaxPM04Y4+U=|0       |\n",
      "|2015-07-13   |++4RuqBw0Ss6bQU4oMxaRlbBPoWzoEiIZaxPM04Y4+U=|0       |\n",
      "|2015-11-13   |++4RuqBw0Ss6bQU4oMxaRlbBPoWzoEiIZaxPM04Y4+U=|0       |\n",
      "|2016-02-13   |++4RuqBw0Ss6bQU4oMxaRlbBPoWzoEiIZaxPM04Y4+U=|0       |\n",
      "|2016-01-13   |++4RuqBw0Ss6bQU4oMxaRlbBPoWzoEiIZaxPM04Y4+U=|0       |\n",
      "|2015-09-13   |++4RuqBw0Ss6bQU4oMxaRlbBPoWzoEiIZaxPM04Y4+U=|0       |\n",
      "|2016-08-13   |++4RuqBw0Ss6bQU4oMxaRlbBPoWzoEiIZaxPM04Y4+U=|0       |\n",
      "|2017-01-13   |++4RuqBw0Ss6bQU4oMxaRlbBPoWzoEiIZaxPM04Y4+U=|0       |\n",
      "|2016-03-13   |++4RuqBw0Ss6bQU4oMxaRlbBPoWzoEiIZaxPM04Y4+U=|0       |\n",
      "|2016-05-13   |++4RuqBw0Ss6bQU4oMxaRlbBPoWzoEiIZaxPM04Y4+U=|0       |\n",
      "+-------------+--------------------------------------------+--------+\n",
      "only showing top 10 rows\n",
      "\n"
     ]
    },
    {
     "name": "stderr",
     "output_type": "stream",
     "text": [
      "                                                                                "
     ]
    }
   ],
   "source": [
    "# Starting point: `txn` (raw transactions) and `txn_snapshots` (from previous step)\n",
    "# txn has: msno, transaction_date (date), membership_expire_date (date), is_cancel (int)\n",
    "# txn_snapshots has: msno, snapshot_date (= membership_expire_date), etc.\n",
    "\n",
    "# 1) Base: only the columns you want\n",
    "churn_base = txn_snapshots.select(\"snapshot_date\", \"msno\").distinct()\n",
    "\n",
    "# 2) Candidate renewals: any txn with is_cancel = 0\n",
    "renewals = txn.where(F.col(\"is_cancel\") == 0).select(\"msno\", \"transaction_date\")\n",
    "\n",
    "# 3) Check if a renewal exists within [snapshot_date, snapshot_date + 30 days]\n",
    "cond = (\n",
    "    (F.col(\"r.msno\") == F.col(\"c.msno\")) &\n",
    "    (F.col(\"r.transaction_date\") >= F.col(\"c.snapshot_date\")) &\n",
    "    (F.col(\"r.transaction_date\") <= F.date_add(F.col(\"c.snapshot_date\"), 30))\n",
    ")\n",
    "\n",
    "joined = churn_base.alias(\"c\").join(renewals.alias(\"r\"), on=cond, how=\"left\")\n",
    "\n",
    "# 4) Aggregate to \"has renewal\" flag and map to is_churn (yes renewal → 0, else 1)\n",
    "result_churn = (\n",
    "    joined.groupBy(F.col(\"c.snapshot_date\"), F.col(\"c.msno\"))\n",
    "          .agg(F.max(F.when(F.col(\"r.transaction_date\").isNotNull(), F.lit(1)).otherwise(F.lit(0))).alias(\"has_renewal_30d\"))\n",
    "          .withColumn(\"is_churn\", F.when(F.col(\"has_renewal_30d\") == 1, F.lit(0)).otherwise(F.lit(1)))\n",
    "          .select(F.col(\"snapshot_date\"), F.col(\"msno\"), F.col(\"is_churn\"))\n",
    ")\n",
    "\n",
    "# Preview\n",
    "result_churn.show(10, truncate=False)"
   ]
  },
  {
   "cell_type": "markdown",
   "id": "21eed18b-39d6-493b-b14e-550a83b38045",
   "metadata": {},
   "source": [
    "### Write Parquet files to Gold layer"
   ]
  },
  {
   "cell_type": "code",
   "execution_count": 9,
   "id": "505d2472-d3aa-428c-a6e8-d7e4e8750b13",
   "metadata": {},
   "outputs": [
    {
     "name": "stderr",
     "output_type": "stream",
     "text": [
      "                                                                                "
     ]
    },
    {
     "name": "stdout",
     "output_type": "stream",
     "text": [
      "✅ Gold layer - Labelling based on max membership_expire_date successfully written to: /app/datamart/gold/label_store\n"
     ]
    }
   ],
   "source": [
    "# Save to gold layer\n",
    "\n",
    "# Save as Parquet, with partitioning\n",
    "(\n",
    "    result_churn\n",
    "    .write\n",
    "    .mode(\"overwrite\")\n",
    "    .parquet(gold_max_expiry_path)\n",
    ")\n",
    "\n",
    "print(f\"✅ Gold layer - Labelling based on max membership_expire_date successfully written to: {gold_max_expiry_path}\")"
   ]
  },
  {
   "cell_type": "markdown",
   "id": "fd1e0fb2-6441-41c1-aaf2-3b192606372e",
   "metadata": {},
   "source": [
    "## Review Labels"
   ]
  },
  {
   "cell_type": "code",
   "execution_count": 30,
   "id": "9053eecf-5941-4c9d-9554-d78c1ae6f841",
   "metadata": {
    "collapsed": true,
    "jupyter": {
     "outputs_hidden": true
    }
   },
   "outputs": [
    {
     "name": "stdout",
     "output_type": "stream",
     "text": [
      "root\n",
      " |-- snapshot_date: date (nullable = true)\n",
      " |-- msno: string (nullable = true)\n",
      " |-- is_churn: integer (nullable = false)\n",
      "\n"
     ]
    },
    {
     "ename": "Py4JJavaError",
     "evalue": "An error occurred while calling o103.count.\n: java.lang.IllegalStateException: Cannot call methods on a stopped SparkContext.\nThis stopped SparkContext was created at:\n\norg.apache.spark.api.java.JavaSparkContext.<init>(JavaSparkContext.scala:58)\njava.base/jdk.internal.reflect.NativeConstructorAccessorImpl.newInstance0(Native Method)\njava.base/jdk.internal.reflect.NativeConstructorAccessorImpl.newInstance(NativeConstructorAccessorImpl.java:77)\njava.base/jdk.internal.reflect.DelegatingConstructorAccessorImpl.newInstance(DelegatingConstructorAccessorImpl.java:45)\njava.base/java.lang.reflect.Constructor.newInstanceWithCaller(Constructor.java:500)\njava.base/java.lang.reflect.Constructor.newInstance(Constructor.java:481)\npy4j.reflection.MethodInvoker.invoke(MethodInvoker.java:247)\npy4j.reflection.ReflectionEngine.invoke(ReflectionEngine.java:374)\npy4j.Gateway.invoke(Gateway.java:238)\npy4j.commands.ConstructorCommand.invokeConstructor(ConstructorCommand.java:80)\npy4j.commands.ConstructorCommand.execute(ConstructorCommand.java:69)\npy4j.ClientServerConnection.waitForCommands(ClientServerConnection.java:182)\npy4j.ClientServerConnection.run(ClientServerConnection.java:106)\njava.base/java.lang.Thread.run(Thread.java:840)\n\nThe currently active SparkContext was created at:\n\norg.apache.spark.api.java.JavaSparkContext.<init>(JavaSparkContext.scala:58)\njava.base/jdk.internal.reflect.NativeConstructorAccessorImpl.newInstance0(Native Method)\njava.base/jdk.internal.reflect.NativeConstructorAccessorImpl.newInstance(NativeConstructorAccessorImpl.java:77)\njava.base/jdk.internal.reflect.DelegatingConstructorAccessorImpl.newInstance(DelegatingConstructorAccessorImpl.java:45)\njava.base/java.lang.reflect.Constructor.newInstanceWithCaller(Constructor.java:500)\njava.base/java.lang.reflect.Constructor.newInstance(Constructor.java:481)\npy4j.reflection.MethodInvoker.invoke(MethodInvoker.java:247)\npy4j.reflection.ReflectionEngine.invoke(ReflectionEngine.java:374)\npy4j.Gateway.invoke(Gateway.java:238)\npy4j.commands.ConstructorCommand.invokeConstructor(ConstructorCommand.java:80)\npy4j.commands.ConstructorCommand.execute(ConstructorCommand.java:69)\npy4j.ClientServerConnection.waitForCommands(ClientServerConnection.java:182)\npy4j.ClientServerConnection.run(ClientServerConnection.java:106)\njava.base/java.lang.Thread.run(Thread.java:840)\n         \n\tat org.apache.spark.SparkContext.assertNotStopped(SparkContext.scala:122)\n\tat org.apache.spark.SparkContext.defaultParallelism(SparkContext.scala:2702)\n\tat org.apache.spark.sql.execution.adaptive.CoalesceShufflePartitions.$anonfun$apply$1(CoalesceShufflePartitions.scala:61)\n\tat scala.runtime.java8.JFunction0$mcI$sp.apply(JFunction0$mcI$sp.java:23)\n\tat scala.Option.getOrElse(Option.scala:189)\n\tat org.apache.spark.sql.execution.adaptive.CoalesceShufflePartitions.apply(CoalesceShufflePartitions.scala:58)\n\tat org.apache.spark.sql.execution.adaptive.CoalesceShufflePartitions.apply(CoalesceShufflePartitions.scala:34)\n\tat org.apache.spark.sql.execution.adaptive.AdaptiveSparkPlanExec.$anonfun$optimizeQueryStage$2(AdaptiveSparkPlanExec.scala:169)\n\tat scala.collection.LinearSeqOptimized.foldLeft(LinearSeqOptimized.scala:126)\n\tat scala.collection.LinearSeqOptimized.foldLeft$(LinearSeqOptimized.scala:122)\n\tat scala.collection.immutable.List.foldLeft(List.scala:91)\n\tat org.apache.spark.sql.execution.adaptive.AdaptiveSparkPlanExec.optimizeQueryStage(AdaptiveSparkPlanExec.scala:168)\n\tat org.apache.spark.sql.execution.adaptive.AdaptiveSparkPlanExec.newQueryStage(AdaptiveSparkPlanExec.scala:591)\n\tat org.apache.spark.sql.execution.adaptive.AdaptiveSparkPlanExec.createQueryStages(AdaptiveSparkPlanExec.scala:540)\n\tat org.apache.spark.sql.execution.adaptive.AdaptiveSparkPlanExec.$anonfun$createQueryStages$2(AdaptiveSparkPlanExec.scala:580)\n\tat scala.collection.TraversableLike.$anonfun$map$1(TraversableLike.scala:286)\n\tat scala.collection.Iterator.foreach(Iterator.scala:943)\n\tat scala.collection.Iterator.foreach$(Iterator.scala:943)\n\tat scala.collection.AbstractIterator.foreach(Iterator.scala:1431)\n\tat scala.collection.IterableLike.foreach(IterableLike.scala:74)\n\tat scala.collection.IterableLike.foreach$(IterableLike.scala:73)\n\tat scala.collection.AbstractIterable.foreach(Iterable.scala:56)\n\tat scala.collection.TraversableLike.map(TraversableLike.scala:286)\n\tat scala.collection.TraversableLike.map$(TraversableLike.scala:279)\n\tat scala.collection.AbstractTraversable.map(Traversable.scala:108)\n\tat org.apache.spark.sql.execution.adaptive.AdaptiveSparkPlanExec.createQueryStages(AdaptiveSparkPlanExec.scala:580)\n\tat org.apache.spark.sql.execution.adaptive.AdaptiveSparkPlanExec.$anonfun$createQueryStages$2(AdaptiveSparkPlanExec.scala:580)\n\tat scala.collection.TraversableLike.$anonfun$map$1(TraversableLike.scala:286)\n\tat scala.collection.Iterator.foreach(Iterator.scala:943)\n\tat scala.collection.Iterator.foreach$(Iterator.scala:943)\n\tat scala.collection.AbstractIterator.foreach(Iterator.scala:1431)\n\tat scala.collection.IterableLike.foreach(IterableLike.scala:74)\n\tat scala.collection.IterableLike.foreach$(IterableLike.scala:73)\n\tat scala.collection.AbstractIterable.foreach(Iterable.scala:56)\n\tat scala.collection.TraversableLike.map(TraversableLike.scala:286)\n\tat scala.collection.TraversableLike.map$(TraversableLike.scala:279)\n\tat scala.collection.AbstractTraversable.map(Traversable.scala:108)\n\tat org.apache.spark.sql.execution.adaptive.AdaptiveSparkPlanExec.createQueryStages(AdaptiveSparkPlanExec.scala:580)\n\tat org.apache.spark.sql.execution.adaptive.AdaptiveSparkPlanExec.createQueryStages(AdaptiveSparkPlanExec.scala:536)\n\tat org.apache.spark.sql.execution.adaptive.AdaptiveSparkPlanExec.$anonfun$createQueryStages$2(AdaptiveSparkPlanExec.scala:580)\n\tat scala.collection.TraversableLike.$anonfun$map$1(TraversableLike.scala:286)\n\tat scala.collection.Iterator.foreach(Iterator.scala:943)\n\tat scala.collection.Iterator.foreach$(Iterator.scala:943)\n\tat scala.collection.AbstractIterator.foreach(Iterator.scala:1431)\n\tat scala.collection.IterableLike.foreach(IterableLike.scala:74)\n\tat scala.collection.IterableLike.foreach$(IterableLike.scala:73)\n\tat scala.collection.AbstractIterable.foreach(Iterable.scala:56)\n\tat scala.collection.TraversableLike.map(TraversableLike.scala:286)\n\tat scala.collection.TraversableLike.map$(TraversableLike.scala:279)\n\tat scala.collection.AbstractTraversable.map(Traversable.scala:108)\n\tat org.apache.spark.sql.execution.adaptive.AdaptiveSparkPlanExec.createQueryStages(AdaptiveSparkPlanExec.scala:580)\n\tat org.apache.spark.sql.execution.adaptive.AdaptiveSparkPlanExec.$anonfun$getFinalPhysicalPlan$1(AdaptiveSparkPlanExec.scala:277)\n\tat org.apache.spark.sql.SparkSession.withActive(SparkSession.scala:900)\n\tat org.apache.spark.sql.execution.adaptive.AdaptiveSparkPlanExec.getFinalPhysicalPlan(AdaptiveSparkPlanExec.scala:272)\n\tat org.apache.spark.sql.execution.adaptive.AdaptiveSparkPlanExec.withFinalPlanUpdate(AdaptiveSparkPlanExec.scala:419)\n\tat org.apache.spark.sql.execution.adaptive.AdaptiveSparkPlanExec.executeCollect(AdaptiveSparkPlanExec.scala:392)\n\tat org.apache.spark.sql.Dataset.$anonfun$count$1(Dataset.scala:3616)\n\tat org.apache.spark.sql.Dataset.$anonfun$count$1$adapted(Dataset.scala:3615)\n\tat org.apache.spark.sql.Dataset.$anonfun$withAction$2(Dataset.scala:4323)\n\tat org.apache.spark.sql.execution.QueryExecution$.withInternalError(QueryExecution.scala:546)\n\tat org.apache.spark.sql.Dataset.$anonfun$withAction$1(Dataset.scala:4321)\n\tat org.apache.spark.sql.execution.SQLExecution$.$anonfun$withNewExecutionId$6(SQLExecution.scala:125)\n\tat org.apache.spark.sql.execution.SQLExecution$.withSQLConfPropagated(SQLExecution.scala:201)\n\tat org.apache.spark.sql.execution.SQLExecution$.$anonfun$withNewExecutionId$1(SQLExecution.scala:108)\n\tat org.apache.spark.sql.SparkSession.withActive(SparkSession.scala:900)\n\tat org.apache.spark.sql.execution.SQLExecution$.withNewExecutionId(SQLExecution.scala:66)\n\tat org.apache.spark.sql.Dataset.withAction(Dataset.scala:4321)\n\tat org.apache.spark.sql.Dataset.count(Dataset.scala:3615)\n\tat java.base/jdk.internal.reflect.NativeMethodAccessorImpl.invoke0(Native Method)\n\tat java.base/jdk.internal.reflect.NativeMethodAccessorImpl.invoke(NativeMethodAccessorImpl.java:77)\n\tat java.base/jdk.internal.reflect.DelegatingMethodAccessorImpl.invoke(DelegatingMethodAccessorImpl.java:43)\n\tat java.base/java.lang.reflect.Method.invoke(Method.java:569)\n\tat py4j.reflection.MethodInvoker.invoke(MethodInvoker.java:244)\n\tat py4j.reflection.ReflectionEngine.invoke(ReflectionEngine.java:374)\n\tat py4j.Gateway.invoke(Gateway.java:282)\n\tat py4j.commands.AbstractCommand.invokeMethod(AbstractCommand.java:132)\n\tat py4j.commands.CallCommand.execute(CallCommand.java:79)\n\tat py4j.ClientServerConnection.waitForCommands(ClientServerConnection.java:182)\n\tat py4j.ClientServerConnection.run(ClientServerConnection.java:106)\n\tat java.base/java.lang.Thread.run(Thread.java:840)\n",
     "output_type": "error",
     "traceback": [
      "\u001b[31m---------------------------------------------------------------------------\u001b[39m",
      "\u001b[31mPy4JJavaError\u001b[39m                             Traceback (most recent call last)",
      "\u001b[36mCell\u001b[39m\u001b[36m \u001b[39m\u001b[32mIn[30]\u001b[39m\u001b[32m, line 5\u001b[39m\n\u001b[32m      1\u001b[39m \u001b[38;5;66;03m# ===============================\u001b[39;00m\n\u001b[32m      2\u001b[39m \u001b[38;5;66;03m# 1. Quick overview\u001b[39;00m\n\u001b[32m      3\u001b[39m \u001b[38;5;66;03m# ===============================\u001b[39;00m\n\u001b[32m      4\u001b[39m result_churn.printSchema()\n\u001b[32m----> \u001b[39m\u001b[32m5\u001b[39m \u001b[38;5;28mprint\u001b[39m(\u001b[33mf\u001b[39m\u001b[33m\"\u001b[39m\u001b[33mTotal rows: \u001b[39m\u001b[38;5;132;01m{\u001b[39;00m\u001b[43mresult_churn\u001b[49m\u001b[43m.\u001b[49m\u001b[43mcount\u001b[49m\u001b[43m(\u001b[49m\u001b[43m)\u001b[49m\u001b[38;5;132;01m:\u001b[39;00m\u001b[33m,\u001b[39m\u001b[38;5;132;01m}\u001b[39;00m\u001b[33m\"\u001b[39m)\n\u001b[32m      6\u001b[39m \u001b[38;5;28mprint\u001b[39m(\u001b[33mf\u001b[39m\u001b[33m\"\u001b[39m\u001b[33mDistinct users: \u001b[39m\u001b[38;5;132;01m{\u001b[39;00mresult_churn.select(\u001b[33m'\u001b[39m\u001b[33mmsno\u001b[39m\u001b[33m'\u001b[39m).distinct().count()\u001b[38;5;132;01m:\u001b[39;00m\u001b[33m,\u001b[39m\u001b[38;5;132;01m}\u001b[39;00m\u001b[33m\"\u001b[39m)\n\u001b[32m      7\u001b[39m \u001b[38;5;28mprint\u001b[39m(\u001b[33mf\u001b[39m\u001b[33m\"\u001b[39m\u001b[33mDistinct snapshot dates: \u001b[39m\u001b[38;5;132;01m{\u001b[39;00mresult_churn.select(\u001b[33m'\u001b[39m\u001b[33msnapshot_date\u001b[39m\u001b[33m'\u001b[39m).distinct().count()\u001b[38;5;132;01m}\u001b[39;00m\u001b[33m\"\u001b[39m)\n",
      "\u001b[36mFile \u001b[39m\u001b[32m/usr/local/lib/python3.12/site-packages/pyspark/sql/dataframe.py:1240\u001b[39m, in \u001b[36mDataFrame.count\u001b[39m\u001b[34m(self)\u001b[39m\n\u001b[32m   1217\u001b[39m \u001b[38;5;28;01mdef\u001b[39;00m\u001b[38;5;250m \u001b[39m\u001b[34mcount\u001b[39m(\u001b[38;5;28mself\u001b[39m) -> \u001b[38;5;28mint\u001b[39m:\n\u001b[32m   1218\u001b[39m \u001b[38;5;250m    \u001b[39m\u001b[33;03m\"\"\"Returns the number of rows in this :class:`DataFrame`.\u001b[39;00m\n\u001b[32m   1219\u001b[39m \n\u001b[32m   1220\u001b[39m \u001b[33;03m    .. versionadded:: 1.3.0\u001b[39;00m\n\u001b[32m   (...)\u001b[39m\u001b[32m   1238\u001b[39m \u001b[33;03m    3\u001b[39;00m\n\u001b[32m   1239\u001b[39m \u001b[33;03m    \"\"\"\u001b[39;00m\n\u001b[32m-> \u001b[39m\u001b[32m1240\u001b[39m     \u001b[38;5;28;01mreturn\u001b[39;00m \u001b[38;5;28mint\u001b[39m(\u001b[38;5;28;43mself\u001b[39;49m\u001b[43m.\u001b[49m\u001b[43m_jdf\u001b[49m\u001b[43m.\u001b[49m\u001b[43mcount\u001b[49m\u001b[43m(\u001b[49m\u001b[43m)\u001b[49m)\n",
      "\u001b[36mFile \u001b[39m\u001b[32m/usr/local/lib/python3.12/site-packages/py4j/java_gateway.py:1322\u001b[39m, in \u001b[36mJavaMember.__call__\u001b[39m\u001b[34m(self, *args)\u001b[39m\n\u001b[32m   1316\u001b[39m command = proto.CALL_COMMAND_NAME +\\\n\u001b[32m   1317\u001b[39m     \u001b[38;5;28mself\u001b[39m.command_header +\\\n\u001b[32m   1318\u001b[39m     args_command +\\\n\u001b[32m   1319\u001b[39m     proto.END_COMMAND_PART\n\u001b[32m   1321\u001b[39m answer = \u001b[38;5;28mself\u001b[39m.gateway_client.send_command(command)\n\u001b[32m-> \u001b[39m\u001b[32m1322\u001b[39m return_value = \u001b[43mget_return_value\u001b[49m\u001b[43m(\u001b[49m\n\u001b[32m   1323\u001b[39m \u001b[43m    \u001b[49m\u001b[43manswer\u001b[49m\u001b[43m,\u001b[49m\u001b[43m \u001b[49m\u001b[38;5;28;43mself\u001b[39;49m\u001b[43m.\u001b[49m\u001b[43mgateway_client\u001b[49m\u001b[43m,\u001b[49m\u001b[43m \u001b[49m\u001b[38;5;28;43mself\u001b[39;49m\u001b[43m.\u001b[49m\u001b[43mtarget_id\u001b[49m\u001b[43m,\u001b[49m\u001b[43m \u001b[49m\u001b[38;5;28;43mself\u001b[39;49m\u001b[43m.\u001b[49m\u001b[43mname\u001b[49m\u001b[43m)\u001b[49m\n\u001b[32m   1325\u001b[39m \u001b[38;5;28;01mfor\u001b[39;00m temp_arg \u001b[38;5;129;01min\u001b[39;00m temp_args:\n\u001b[32m   1326\u001b[39m     \u001b[38;5;28;01mif\u001b[39;00m \u001b[38;5;28mhasattr\u001b[39m(temp_arg, \u001b[33m\"\u001b[39m\u001b[33m_detach\u001b[39m\u001b[33m\"\u001b[39m):\n",
      "\u001b[36mFile \u001b[39m\u001b[32m/usr/local/lib/python3.12/site-packages/pyspark/errors/exceptions/captured.py:179\u001b[39m, in \u001b[36mcapture_sql_exception.<locals>.deco\u001b[39m\u001b[34m(*a, **kw)\u001b[39m\n\u001b[32m    177\u001b[39m \u001b[38;5;28;01mdef\u001b[39;00m\u001b[38;5;250m \u001b[39m\u001b[34mdeco\u001b[39m(*a: Any, **kw: Any) -> Any:\n\u001b[32m    178\u001b[39m     \u001b[38;5;28;01mtry\u001b[39;00m:\n\u001b[32m--> \u001b[39m\u001b[32m179\u001b[39m         \u001b[38;5;28;01mreturn\u001b[39;00m \u001b[43mf\u001b[49m\u001b[43m(\u001b[49m\u001b[43m*\u001b[49m\u001b[43ma\u001b[49m\u001b[43m,\u001b[49m\u001b[43m \u001b[49m\u001b[43m*\u001b[49m\u001b[43m*\u001b[49m\u001b[43mkw\u001b[49m\u001b[43m)\u001b[49m\n\u001b[32m    180\u001b[39m     \u001b[38;5;28;01mexcept\u001b[39;00m Py4JJavaError \u001b[38;5;28;01mas\u001b[39;00m e:\n\u001b[32m    181\u001b[39m         converted = convert_exception(e.java_exception)\n",
      "\u001b[36mFile \u001b[39m\u001b[32m/usr/local/lib/python3.12/site-packages/py4j/protocol.py:326\u001b[39m, in \u001b[36mget_return_value\u001b[39m\u001b[34m(answer, gateway_client, target_id, name)\u001b[39m\n\u001b[32m    324\u001b[39m value = OUTPUT_CONVERTER[\u001b[38;5;28mtype\u001b[39m](answer[\u001b[32m2\u001b[39m:], gateway_client)\n\u001b[32m    325\u001b[39m \u001b[38;5;28;01mif\u001b[39;00m answer[\u001b[32m1\u001b[39m] == REFERENCE_TYPE:\n\u001b[32m--> \u001b[39m\u001b[32m326\u001b[39m     \u001b[38;5;28;01mraise\u001b[39;00m Py4JJavaError(\n\u001b[32m    327\u001b[39m         \u001b[33m\"\u001b[39m\u001b[33mAn error occurred while calling \u001b[39m\u001b[38;5;132;01m{0}\u001b[39;00m\u001b[38;5;132;01m{1}\u001b[39;00m\u001b[38;5;132;01m{2}\u001b[39;00m\u001b[33m.\u001b[39m\u001b[38;5;130;01m\\n\u001b[39;00m\u001b[33m\"\u001b[39m.\n\u001b[32m    328\u001b[39m         \u001b[38;5;28mformat\u001b[39m(target_id, \u001b[33m\"\u001b[39m\u001b[33m.\u001b[39m\u001b[33m\"\u001b[39m, name), value)\n\u001b[32m    329\u001b[39m \u001b[38;5;28;01melse\u001b[39;00m:\n\u001b[32m    330\u001b[39m     \u001b[38;5;28;01mraise\u001b[39;00m Py4JError(\n\u001b[32m    331\u001b[39m         \u001b[33m\"\u001b[39m\u001b[33mAn error occurred while calling \u001b[39m\u001b[38;5;132;01m{0}\u001b[39;00m\u001b[38;5;132;01m{1}\u001b[39;00m\u001b[38;5;132;01m{2}\u001b[39;00m\u001b[33m. Trace:\u001b[39m\u001b[38;5;130;01m\\n\u001b[39;00m\u001b[38;5;132;01m{3}\u001b[39;00m\u001b[38;5;130;01m\\n\u001b[39;00m\u001b[33m\"\u001b[39m.\n\u001b[32m    332\u001b[39m         \u001b[38;5;28mformat\u001b[39m(target_id, \u001b[33m\"\u001b[39m\u001b[33m.\u001b[39m\u001b[33m\"\u001b[39m, name, value))\n",
      "\u001b[31mPy4JJavaError\u001b[39m: An error occurred while calling o103.count.\n: java.lang.IllegalStateException: Cannot call methods on a stopped SparkContext.\nThis stopped SparkContext was created at:\n\norg.apache.spark.api.java.JavaSparkContext.<init>(JavaSparkContext.scala:58)\njava.base/jdk.internal.reflect.NativeConstructorAccessorImpl.newInstance0(Native Method)\njava.base/jdk.internal.reflect.NativeConstructorAccessorImpl.newInstance(NativeConstructorAccessorImpl.java:77)\njava.base/jdk.internal.reflect.DelegatingConstructorAccessorImpl.newInstance(DelegatingConstructorAccessorImpl.java:45)\njava.base/java.lang.reflect.Constructor.newInstanceWithCaller(Constructor.java:500)\njava.base/java.lang.reflect.Constructor.newInstance(Constructor.java:481)\npy4j.reflection.MethodInvoker.invoke(MethodInvoker.java:247)\npy4j.reflection.ReflectionEngine.invoke(ReflectionEngine.java:374)\npy4j.Gateway.invoke(Gateway.java:238)\npy4j.commands.ConstructorCommand.invokeConstructor(ConstructorCommand.java:80)\npy4j.commands.ConstructorCommand.execute(ConstructorCommand.java:69)\npy4j.ClientServerConnection.waitForCommands(ClientServerConnection.java:182)\npy4j.ClientServerConnection.run(ClientServerConnection.java:106)\njava.base/java.lang.Thread.run(Thread.java:840)\n\nThe currently active SparkContext was created at:\n\norg.apache.spark.api.java.JavaSparkContext.<init>(JavaSparkContext.scala:58)\njava.base/jdk.internal.reflect.NativeConstructorAccessorImpl.newInstance0(Native Method)\njava.base/jdk.internal.reflect.NativeConstructorAccessorImpl.newInstance(NativeConstructorAccessorImpl.java:77)\njava.base/jdk.internal.reflect.DelegatingConstructorAccessorImpl.newInstance(DelegatingConstructorAccessorImpl.java:45)\njava.base/java.lang.reflect.Constructor.newInstanceWithCaller(Constructor.java:500)\njava.base/java.lang.reflect.Constructor.newInstance(Constructor.java:481)\npy4j.reflection.MethodInvoker.invoke(MethodInvoker.java:247)\npy4j.reflection.ReflectionEngine.invoke(ReflectionEngine.java:374)\npy4j.Gateway.invoke(Gateway.java:238)\npy4j.commands.ConstructorCommand.invokeConstructor(ConstructorCommand.java:80)\npy4j.commands.ConstructorCommand.execute(ConstructorCommand.java:69)\npy4j.ClientServerConnection.waitForCommands(ClientServerConnection.java:182)\npy4j.ClientServerConnection.run(ClientServerConnection.java:106)\njava.base/java.lang.Thread.run(Thread.java:840)\n         \n\tat org.apache.spark.SparkContext.assertNotStopped(SparkContext.scala:122)\n\tat org.apache.spark.SparkContext.defaultParallelism(SparkContext.scala:2702)\n\tat org.apache.spark.sql.execution.adaptive.CoalesceShufflePartitions.$anonfun$apply$1(CoalesceShufflePartitions.scala:61)\n\tat scala.runtime.java8.JFunction0$mcI$sp.apply(JFunction0$mcI$sp.java:23)\n\tat scala.Option.getOrElse(Option.scala:189)\n\tat org.apache.spark.sql.execution.adaptive.CoalesceShufflePartitions.apply(CoalesceShufflePartitions.scala:58)\n\tat org.apache.spark.sql.execution.adaptive.CoalesceShufflePartitions.apply(CoalesceShufflePartitions.scala:34)\n\tat org.apache.spark.sql.execution.adaptive.AdaptiveSparkPlanExec.$anonfun$optimizeQueryStage$2(AdaptiveSparkPlanExec.scala:169)\n\tat scala.collection.LinearSeqOptimized.foldLeft(LinearSeqOptimized.scala:126)\n\tat scala.collection.LinearSeqOptimized.foldLeft$(LinearSeqOptimized.scala:122)\n\tat scala.collection.immutable.List.foldLeft(List.scala:91)\n\tat org.apache.spark.sql.execution.adaptive.AdaptiveSparkPlanExec.optimizeQueryStage(AdaptiveSparkPlanExec.scala:168)\n\tat org.apache.spark.sql.execution.adaptive.AdaptiveSparkPlanExec.newQueryStage(AdaptiveSparkPlanExec.scala:591)\n\tat org.apache.spark.sql.execution.adaptive.AdaptiveSparkPlanExec.createQueryStages(AdaptiveSparkPlanExec.scala:540)\n\tat org.apache.spark.sql.execution.adaptive.AdaptiveSparkPlanExec.$anonfun$createQueryStages$2(AdaptiveSparkPlanExec.scala:580)\n\tat scala.collection.TraversableLike.$anonfun$map$1(TraversableLike.scala:286)\n\tat scala.collection.Iterator.foreach(Iterator.scala:943)\n\tat scala.collection.Iterator.foreach$(Iterator.scala:943)\n\tat scala.collection.AbstractIterator.foreach(Iterator.scala:1431)\n\tat scala.collection.IterableLike.foreach(IterableLike.scala:74)\n\tat scala.collection.IterableLike.foreach$(IterableLike.scala:73)\n\tat scala.collection.AbstractIterable.foreach(Iterable.scala:56)\n\tat scala.collection.TraversableLike.map(TraversableLike.scala:286)\n\tat scala.collection.TraversableLike.map$(TraversableLike.scala:279)\n\tat scala.collection.AbstractTraversable.map(Traversable.scala:108)\n\tat org.apache.spark.sql.execution.adaptive.AdaptiveSparkPlanExec.createQueryStages(AdaptiveSparkPlanExec.scala:580)\n\tat org.apache.spark.sql.execution.adaptive.AdaptiveSparkPlanExec.$anonfun$createQueryStages$2(AdaptiveSparkPlanExec.scala:580)\n\tat scala.collection.TraversableLike.$anonfun$map$1(TraversableLike.scala:286)\n\tat scala.collection.Iterator.foreach(Iterator.scala:943)\n\tat scala.collection.Iterator.foreach$(Iterator.scala:943)\n\tat scala.collection.AbstractIterator.foreach(Iterator.scala:1431)\n\tat scala.collection.IterableLike.foreach(IterableLike.scala:74)\n\tat scala.collection.IterableLike.foreach$(IterableLike.scala:73)\n\tat scala.collection.AbstractIterable.foreach(Iterable.scala:56)\n\tat scala.collection.TraversableLike.map(TraversableLike.scala:286)\n\tat scala.collection.TraversableLike.map$(TraversableLike.scala:279)\n\tat scala.collection.AbstractTraversable.map(Traversable.scala:108)\n\tat org.apache.spark.sql.execution.adaptive.AdaptiveSparkPlanExec.createQueryStages(AdaptiveSparkPlanExec.scala:580)\n\tat org.apache.spark.sql.execution.adaptive.AdaptiveSparkPlanExec.createQueryStages(AdaptiveSparkPlanExec.scala:536)\n\tat org.apache.spark.sql.execution.adaptive.AdaptiveSparkPlanExec.$anonfun$createQueryStages$2(AdaptiveSparkPlanExec.scala:580)\n\tat scala.collection.TraversableLike.$anonfun$map$1(TraversableLike.scala:286)\n\tat scala.collection.Iterator.foreach(Iterator.scala:943)\n\tat scala.collection.Iterator.foreach$(Iterator.scala:943)\n\tat scala.collection.AbstractIterator.foreach(Iterator.scala:1431)\n\tat scala.collection.IterableLike.foreach(IterableLike.scala:74)\n\tat scala.collection.IterableLike.foreach$(IterableLike.scala:73)\n\tat scala.collection.AbstractIterable.foreach(Iterable.scala:56)\n\tat scala.collection.TraversableLike.map(TraversableLike.scala:286)\n\tat scala.collection.TraversableLike.map$(TraversableLike.scala:279)\n\tat scala.collection.AbstractTraversable.map(Traversable.scala:108)\n\tat org.apache.spark.sql.execution.adaptive.AdaptiveSparkPlanExec.createQueryStages(AdaptiveSparkPlanExec.scala:580)\n\tat org.apache.spark.sql.execution.adaptive.AdaptiveSparkPlanExec.$anonfun$getFinalPhysicalPlan$1(AdaptiveSparkPlanExec.scala:277)\n\tat org.apache.spark.sql.SparkSession.withActive(SparkSession.scala:900)\n\tat org.apache.spark.sql.execution.adaptive.AdaptiveSparkPlanExec.getFinalPhysicalPlan(AdaptiveSparkPlanExec.scala:272)\n\tat org.apache.spark.sql.execution.adaptive.AdaptiveSparkPlanExec.withFinalPlanUpdate(AdaptiveSparkPlanExec.scala:419)\n\tat org.apache.spark.sql.execution.adaptive.AdaptiveSparkPlanExec.executeCollect(AdaptiveSparkPlanExec.scala:392)\n\tat org.apache.spark.sql.Dataset.$anonfun$count$1(Dataset.scala:3616)\n\tat org.apache.spark.sql.Dataset.$anonfun$count$1$adapted(Dataset.scala:3615)\n\tat org.apache.spark.sql.Dataset.$anonfun$withAction$2(Dataset.scala:4323)\n\tat org.apache.spark.sql.execution.QueryExecution$.withInternalError(QueryExecution.scala:546)\n\tat org.apache.spark.sql.Dataset.$anonfun$withAction$1(Dataset.scala:4321)\n\tat org.apache.spark.sql.execution.SQLExecution$.$anonfun$withNewExecutionId$6(SQLExecution.scala:125)\n\tat org.apache.spark.sql.execution.SQLExecution$.withSQLConfPropagated(SQLExecution.scala:201)\n\tat org.apache.spark.sql.execution.SQLExecution$.$anonfun$withNewExecutionId$1(SQLExecution.scala:108)\n\tat org.apache.spark.sql.SparkSession.withActive(SparkSession.scala:900)\n\tat org.apache.spark.sql.execution.SQLExecution$.withNewExecutionId(SQLExecution.scala:66)\n\tat org.apache.spark.sql.Dataset.withAction(Dataset.scala:4321)\n\tat org.apache.spark.sql.Dataset.count(Dataset.scala:3615)\n\tat java.base/jdk.internal.reflect.NativeMethodAccessorImpl.invoke0(Native Method)\n\tat java.base/jdk.internal.reflect.NativeMethodAccessorImpl.invoke(NativeMethodAccessorImpl.java:77)\n\tat java.base/jdk.internal.reflect.DelegatingMethodAccessorImpl.invoke(DelegatingMethodAccessorImpl.java:43)\n\tat java.base/java.lang.reflect.Method.invoke(Method.java:569)\n\tat py4j.reflection.MethodInvoker.invoke(MethodInvoker.java:244)\n\tat py4j.reflection.ReflectionEngine.invoke(ReflectionEngine.java:374)\n\tat py4j.Gateway.invoke(Gateway.java:282)\n\tat py4j.commands.AbstractCommand.invokeMethod(AbstractCommand.java:132)\n\tat py4j.commands.CallCommand.execute(CallCommand.java:79)\n\tat py4j.ClientServerConnection.waitForCommands(ClientServerConnection.java:182)\n\tat py4j.ClientServerConnection.run(ClientServerConnection.java:106)\n\tat java.base/java.lang.Thread.run(Thread.java:840)\n"
     ]
    }
   ],
   "source": [
    "# ===============================\n",
    "# 1. Quick overview\n",
    "# ===============================\n",
    "result_churn.printSchema()\n",
    "print(f\"Total rows: {result_churn.count():,}\")\n",
    "print(f\"Distinct users: {result_churn.select('msno').distinct().count():,}\")\n",
    "print(f\"Distinct snapshot dates: {result_churn.select('snapshot_date').distinct().count()}\")"
   ]
  },
  {
   "cell_type": "code",
   "execution_count": 12,
   "id": "4210f2f3-5587-4f65-a5bb-5a8254332d68",
   "metadata": {},
   "outputs": [
    {
     "name": "stderr",
     "output_type": "stream",
     "text": [
      "[Stage 68:===================================================>    (31 + 3) / 34]"
     ]
    },
    {
     "name": "stdout",
     "output_type": "stream",
     "text": [
      "+--------+--------+----------+\n",
      "|is_churn|   count|percentage|\n",
      "+--------+--------+----------+\n",
      "|       0|17567696|      87.2|\n",
      "|       1| 2579199|      12.8|\n",
      "+--------+--------+----------+\n",
      "\n"
     ]
    },
    {
     "name": "stderr",
     "output_type": "stream",
     "text": [
      "                                                                                "
     ]
    }
   ],
   "source": [
    "# ===============================\n",
    "# 2. Class balance\n",
    "# ===============================\n",
    "\n",
    "total_count = result_churn.count()\n",
    "\n",
    "class_dist = (\n",
    "    result_churn.groupBy(\"is_churn\")\n",
    "                .agg(F.count(\"*\").alias(\"count\"))\n",
    "                .withColumn(\"percentage\", F.round(F.col(\"count\") / total_count * 100, 2))\n",
    "                .orderBy(\"is_churn\")\n",
    ")\n",
    "\n",
    "class_dist.show()\n"
   ]
  },
  {
   "cell_type": "code",
   "execution_count": 13,
   "id": "15a50c48-b02f-4ce4-a95d-f7e3007f1f32",
   "metadata": {},
   "outputs": [
    {
     "name": "stderr",
     "output_type": "stream",
     "text": [
      "[Stage 81:======================================================> (33 + 1) / 34]"
     ]
    },
    {
     "name": "stdout",
     "output_type": "stream",
     "text": [
      "+-------------+-----+-------+----------+\n",
      "|snapshot_date|total|churned|churn_rate|\n",
      "+-------------+-----+-------+----------+\n",
      "|2015-02-01   |14032|954    |6.8       |\n",
      "|2015-02-02   |14770|971    |6.57      |\n",
      "|2015-02-03   |13948|948    |6.8       |\n",
      "|2015-02-04   |14424|1009   |7.0       |\n",
      "|2015-02-05   |14642|960    |6.56      |\n",
      "|2015-02-06   |14188|970    |6.84      |\n",
      "|2015-02-07   |13911|891    |6.41      |\n",
      "|2015-02-08   |13906|924    |6.64      |\n",
      "|2015-02-09   |15076|1021   |6.77      |\n",
      "|2015-02-10   |15457|1061   |6.86      |\n",
      "|2015-02-11   |13862|966    |6.97      |\n",
      "|2015-02-12   |13429|880    |6.55      |\n",
      "|2015-02-13   |14579|936    |6.42      |\n",
      "|2015-02-14   |14123|921    |6.52      |\n",
      "|2015-02-15   |13549|850    |6.27      |\n",
      "|2015-02-16   |13924|906    |6.51      |\n",
      "|2015-02-17   |15940|1042   |6.54      |\n",
      "|2015-02-18   |14286|943    |6.6       |\n",
      "|2015-02-19   |13191|860    |6.52      |\n",
      "|2015-02-20   |13252|820    |6.19      |\n",
      "+-------------+-----+-------+----------+\n",
      "only showing top 20 rows\n",
      "\n"
     ]
    },
    {
     "name": "stderr",
     "output_type": "stream",
     "text": [
      "                                                                                "
     ]
    }
   ],
   "source": [
    "# ===============================\n",
    "# 3. Churn rate over time\n",
    "# ===============================\n",
    "churn_over_time = (\n",
    "    result_churn.groupBy(\"snapshot_date\")\n",
    "                .agg(\n",
    "                    F.count(\"*\").alias(\"total\"),\n",
    "                    F.sum(\"is_churn\").alias(\"churned\")\n",
    "                )\n",
    "                .withColumn(\"churn_rate\", F.round(F.col(\"churned\") / F.col(\"total\") * 100, 2))\n",
    "                .orderBy(\"snapshot_date\")\n",
    ")\n",
    "churn_over_time.show(20, truncate=False)\n",
    "\n",
    "# Optional: visualize (if using a notebook that supports matplotlib)"
   ]
  },
  {
   "cell_type": "code",
   "execution_count": 14,
   "id": "2e9e6aa2-1203-4bd9-9932-4b43237d4f1b",
   "metadata": {},
   "outputs": [
    {
     "name": "stderr",
     "output_type": "stream",
     "text": [
      "                                                                                "
     ]
    },
    {
     "data": {
      "image/png": "[encoded data removed]",
      "text/plain": [
       "<Figure size 1000x500 with 1 Axes>"
      ]
     },
     "metadata": {},
     "output_type": "display_data"
    }
   ],
   "source": [
    "pdf = churn_over_time.toPandas()\n",
    "plt.figure(figsize=(10,5))\n",
    "plt.plot(pdf[\"snapshot_date\"], pdf[\"churn_rate\"], marker=\"o\")\n",
    "plt.title(\"Churn Rate Over Time\")\n",
    "plt.xlabel(\"Snapshot Date\")\n",
    "plt.ylabel(\"Churn Rate (%)\")\n",
    "plt.grid(True)\n",
    "plt.show()"
   ]
  },
  {
   "cell_type": "code",
   "execution_count": 15,
   "id": "7525f2cb-40ef-486a-bad9-a1d36b58eb52",
   "metadata": {},
   "outputs": [
    {
     "name": "stderr",
     "output_type": "stream",
     "text": [
      "[Stage 118:=====================================================> (33 + 1) / 34]"
     ]
    },
    {
     "name": "stdout",
     "output_type": "stream",
     "text": [
      "+-------+-----------------+------------------+\n",
      "|summary|    num_snapshots|   churn_rate_user|\n",
      "+-------+-----------------+------------------+\n",
      "|  count|          2313814|           2313814|\n",
      "|   mean|8.707223225375937|43.966898778378514|\n",
      "| stddev|8.521127764666767| 44.17846082338543|\n",
      "|    min|                1|               0.0|\n",
      "|    max|               71|             100.0|\n",
      "+-------+-----------------+------------------+\n",
      "\n"
     ]
    },
    {
     "name": "stderr",
     "output_type": "stream",
     "text": [
      "                                                                                "
     ]
    }
   ],
   "source": [
    "# ===============================\n",
    "# 4. User churn frequency\n",
    "# ===============================\n",
    "# Some users may appear multiple times; check their churn history\n",
    "user_churn_stats = (\n",
    "    result_churn.groupBy(\"msno\")\n",
    "                .agg(\n",
    "                    F.count(\"*\").alias(\"num_snapshots\"),\n",
    "                    F.sum(\"is_churn\").alias(\"num_churns\")\n",
    "                )\n",
    "                .withColumn(\"churn_rate_user\", F.round(F.col(\"num_churns\") / F.col(\"num_snapshots\") * 100, 2))\n",
    ")\n",
    "\n",
    "user_churn_stats.describe([\"num_snapshots\", \"churn_rate_user\"]).show()"
   ]
  },
  {
   "cell_type": "code",
   "execution_count": 16,
   "id": "f9a32342-3e37-438a-8f6a-b4892b1c3aeb",
   "metadata": {},
   "outputs": [
    {
     "name": "stderr",
     "output_type": "stream",
     "text": [
      "[Stage 131:=====================================================> (33 + 1) / 34]"
     ]
    },
    {
     "name": "stdout",
     "output_type": "stream",
     "text": [
      "Correlation between time progression and churn rate: 0.103\n"
     ]
    },
    {
     "name": "stderr",
     "output_type": "stream",
     "text": [
      "                                                                                "
     ]
    }
   ],
   "source": [
    "# ===============================\n",
    "# 5. Correlation sanity check (optional)\n",
    "# ===============================\n",
    "# You can calculate correlation between churn and time index if you plan to model temporal effects.\n",
    "indexed = churn_over_time.withColumn(\"time_index\", F.row_number().over(Window.orderBy(\"snapshot_date\")))\n",
    "corr_value = indexed.stat.corr(\"time_index\", \"churn_rate\")\n",
    "print(f\"Correlation between time progression and churn rate: {corr_value:.3f}\")"
   ]
  },
  {
   "cell_type": "markdown",
   "id": "39dacc25-0946-462e-8012-1e16de1c9b6f",
   "metadata": {},
   "source": [
    "## Stop SparkSession"
   ]
  },
  {
   "cell_type": "code",
   "execution_count": 17,
   "id": "12bfc1d3-852a-47a9-993b-b121073cd848",
   "metadata": {},
   "outputs": [],
   "source": [
    "spark.stop()"
   ]
  },
  {
   "cell_type": "code",
   "execution_count": null,
   "id": "a1c7ab22-213d-4495-9771-f828ab568aca",
   "metadata": {},
   "outputs": [],
   "source": []
  }
 ],
 "metadata": {
  "kernelspec": {
   "display_name": "Python 3 (ipykernel)",
   "language": "python",
   "name": "python3"
  },
  "language_info": {
   "codemirror_mode": {
    "name": "ipython",
    "version": 3
   },
   "file_extension": ".py",
   "mimetype": "text/x-python",
   "name": "python",
   "nbconvert_exporter": "python",
   "pygments_lexer": "ipython3",
   "version": "3.12.12"
  }
 },
 "nbformat": 4,
 "nbformat_minor": 5
}
