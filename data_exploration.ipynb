{
 "cells": [
  {
   "cell_type": "code",
   "execution_count": 1,
   "id": "eace65b3-a2c0-4953-af5d-7c9a6034eeb7",
   "metadata": {},
   "outputs": [],
   "source": [
    "import os\n",
    "import glob\n",
    "import pandas as pd\n",
    "import matplotlib.pyplot as plt\n",
    "import numpy as np\n",
    "import random\n",
    "from datetime import datetime, timedelta\n",
    "from dateutil.relativedelta import relativedelta\n",
    "import pprint\n",
    "import pyspark\n",
    "import pyspark.sql.functions as F\n",
    "\n",
    "from pyspark.sql.functions import col\n",
    "from pyspark.sql.types import StringType, IntegerType, FloatType, DateType\n",
    "\n",
    "import utils.data_processing_bronze_table\n",
    "import utils.data_processing_silver_table\n",
    "import utils.data_processing_gold_table\n"
   ]
  },
  {
   "cell_type": "code",
   "execution_count": 2,
   "id": "99a2f38d-4122-4c57-96e6-c26936c572eb",
   "metadata": {},
   "outputs": [
    {
     "name": "stderr",
     "output_type": "stream",
     "text": [
      "Setting default log level to \"WARN\".\n",
      "To adjust logging level use sc.setLogLevel(newLevel). For SparkR, use setLogLevel(newLevel).\n",
      "25/10/07 16:19:28 WARN NativeCodeLoader: Unable to load native-hadoop library for your platform... using builtin-java classes where applicable\n",
      "25/10/07 16:19:29 WARN Utils: Service 'SparkUI' could not bind on port 4040. Attempting port 4041.\n"
     ]
    }
   ],
   "source": [
    "# Initialize SparkSession\n",
    "spark = pyspark.sql.SparkSession.builder \\\n",
    "    .appName(\"dev\") \\\n",
    "    .config(\"spark.driver.memory\", \"8g\") \\\n",
    "    .master(\"local[*]\") \\\n",
    "    .getOrCreate()\n",
    "\n",
    "# Set log level to ERROR to hide warnings\n",
    "spark.sparkContext.setLogLevel(\"ERROR\")"
   ]
  },
  {
   "cell_type": "markdown",
   "id": "9f33c58c-b3bb-448f-9583-ef5d9dc1195a",
   "metadata": {},
   "source": [
    "# Datasets\n",
    "- user_logs.csv — contain data from 2015/01/01 - 2017/02/28\n",
    "- user_logs_v2.csv — contain data from 2017/03/01 - 2017/03/31\n",
    "- transactions.csv — (transaction_date) 2015/01/01 - 2017/02/28\n",
    "- transactions_v2.csv — (transaction_date) 2015/01/01 - 2017/03/31 (has lesser rows tho ??)\n",
    "- members_v3.csv — 6mill members\n",
    "- train.csv — contains user ids and whether they have churned.\n",
    "- train_v2.csv — contains the churn data for March, 2017.\n"
   ]
  },
  {
   "cell_type": "markdown",
   "id": "ec05cd54-ee4e-451d-87fc-6300c8bfe931",
   "metadata": {},
   "source": [
    "# User Logs"
   ]
  },
  {
   "cell_type": "code",
   "execution_count": 38,
   "id": "1acb891d-8aec-402a-94b3-96750ebd7bc0",
   "metadata": {},
   "outputs": [],
   "source": [
    "\n",
    "df = (spark.read\n",
    "      .option(\"header\", True)\n",
    "      .option(\"inferSchema\", True)\n",
    "      .parquet(\"datamart/bronze/user_logs/year=2015/month=01\"))\n"
   ]
  },
  {
   "cell_type": "code",
   "execution_count": 36,
   "id": "566b6920-98c8-4fda-8aba-501703924188",
   "metadata": {},
   "outputs": [
    {
     "name": "stderr",
     "output_type": "stream",
     "text": [
      "                                                                                "
     ]
    },
    {
     "data": {
      "text/plain": [
       "12897706"
      ]
     },
     "execution_count": 36,
     "metadata": {},
     "output_type": "execute_result"
    }
   ],
   "source": [
    "df.count()"
   ]
  },
  {
   "cell_type": "code",
   "execution_count": 40,
   "id": "b8d0a73d-d69a-4f55-9986-31a6a5b790a8",
   "metadata": {},
   "outputs": [
    {
     "name": "stdout",
     "output_type": "stream",
     "text": [
      "+--------------------+--------+------+------+------+-------+-------+-------+----------+\n",
      "|                msno|    date|num_25|num_50|num_75|num_985|num_100|num_unq|total_secs|\n",
      "+--------------------+--------+------+------+------+-------+-------+-------+----------+\n",
      "|C4StQg63rttGAOqto...|20150120|     2|     2|     1|      0|      6|      9|  1699.446|\n",
      "|8lZ3LnlnX1kWyKkGt...|20150109|     5|     2|     1|      0|     82|     55| 17811.605|\n",
      "|GCqC99i1NrtvDGMkx...|20150129|     2|     1|     0|      1|    129|      4| 34703.904|\n",
      "|Dnpj5VLwwN5mUR8HA...|20150128|     0|     0|     0|      1|      7|      7|  2162.177|\n",
      "|l1PoAgkJoUkdBz9aH...|20150112|     2|     0|     0|      0|     34|     27|  9284.661|\n",
      "|xrIHhq+6/NnEwklQp...|20150120|     4|     1|     1|      1|    161|    115| 40552.138|\n",
      "|9iUqNqp4tOo/Gu+dk...|20150115|    20|     6|     1|      5|     30|     21|  9404.582|\n",
      "|fkYsxuAJ0fyDu8wqj...|20150107|     2|     0|     0|      0|     36|     32|  8196.252|\n",
      "|vEB1w4iqIf3SvU37X...|20150106|     1|     0|     0|      0|      9|     10|  2326.174|\n",
      "|ccqIvziyLZs/Ivbob...|20150110|     1|     0|     0|      0|      6|      7|  1605.832|\n",
      "|xKKR50oC2MlZ0zd+o...|20150105|     3|     0|     0|      0|      0|      3|    70.019|\n",
      "|TUWjZbEJkEvyq8rv4...|20150131|     1|     0|     0|      0|      0|      1|    20.651|\n",
      "|k6F2zRxgWsYSNWHK2...|20150117|     3|     1|     0|      1|     10|     15|  3155.356|\n",
      "|dmvdNxpnayMipYpp0...|20150123|     2|     2|     0|      1|      8|     13|  2821.996|\n",
      "|7rP5PTRRZkv88mQaW...|20150129|     0|     0|     0|      0|      2|      2|   562.586|\n",
      "|bYBeBROvV+s0RZU2D...|20150115|     0|     0|     0|      0|      3|      3|   796.591|\n",
      "|416PJx00y8Xu2Dekh...|20150108|    10|     4|     4|      1|     27|     30|  8709.144|\n",
      "|mB+snLpBSX+YtaPt9...|20150113|   140|     9|     3|     10|     93|    186| 27705.927|\n",
      "|3b7gK9oqxxqc8Q05L...|20150108|    16|     1|     0|      1|    132|    135| 33631.914|\n",
      "|RZlcKWTntwjrN+eFm...|20150123|    48|    13|     5|      3|     75|    138| 21303.531|\n",
      "+--------------------+--------+------+------+------+-------+-------+-------+----------+\n",
      "only showing top 20 rows\n",
      "\n"
     ]
    }
   ],
   "source": [
    "df.show()"
   ]
  },
  {
   "cell_type": "code",
   "execution_count": 50,
   "id": "ab50bb81-1821-46c3-bd3b-cc3ce3f214e9",
   "metadata": {},
   "outputs": [
    {
     "name": "stderr",
     "output_type": "stream",
     "text": [
      "                                                                                "
     ]
    }
   ],
   "source": [
    "df2 = (spark.read\n",
    "      .option(\"header\", True)\n",
    "      .option(\"inferSchema\", True)\n",
    "      .csv(\"data/user_logs_v2.csv\"))\n"
   ]
  },
  {
   "cell_type": "code",
   "execution_count": 51,
   "id": "652126ad-9c20-4aaf-a990-d36775cf4419",
   "metadata": {},
   "outputs": [
    {
     "name": "stderr",
     "output_type": "stream",
     "text": [
      "                                                                                "
     ]
    },
    {
     "data": {
      "text/plain": [
       "18396362"
      ]
     },
     "execution_count": 51,
     "metadata": {},
     "output_type": "execute_result"
    }
   ],
   "source": [
    "df2.count()"
   ]
  },
  {
   "cell_type": "code",
   "execution_count": 52,
   "id": "3bafc8ee-f3df-4277-bd24-b4d4ed505d18",
   "metadata": {},
   "outputs": [
    {
     "name": "stderr",
     "output_type": "stream",
     "text": [
      "[Stage 93:>                                                       (0 + 12) / 12]"
     ]
    },
    {
     "name": "stdout",
     "output_type": "stream",
     "text": [
      "+----------+--------+\n",
      "|start_date|end_date|\n",
      "+----------+--------+\n",
      "|  20170301|20170331|\n",
      "+----------+--------+\n",
      "\n"
     ]
    },
    {
     "name": "stderr",
     "output_type": "stream",
     "text": [
      "                                                                                "
     ]
    }
   ],
   "source": [
    "from pyspark.sql import functions as F\n",
    "\n",
    "df2.select(\n",
    "    F.min(\"date\").alias(\"start_date\"),\n",
    "    F.max(\"date\").alias(\"end_date\")\n",
    ").show()"
   ]
  },
  {
   "cell_type": "markdown",
   "id": "5f5e568b-0dc7-443f-99d4-0505cad6cc33",
   "metadata": {},
   "source": [
    "# Transactions"
   ]
  },
  {
   "cell_type": "code",
   "execution_count": 42,
   "id": "8292be9d-c987-4f47-b20a-17919fd6a048",
   "metadata": {},
   "outputs": [
    {
     "name": "stderr",
     "output_type": "stream",
     "text": [
      "                                                                                "
     ]
    }
   ],
   "source": [
    "df_transactions = (spark.read\n",
    "      .option(\"header\", True)\n",
    "      .option(\"inferSchema\", True)\n",
    "      .csv(\"data/transactions.csv\"))"
   ]
  },
  {
   "cell_type": "code",
   "execution_count": 43,
   "id": "5a9675d5-8244-49df-9527-2ca2acd5c92d",
   "metadata": {},
   "outputs": [
    {
     "name": "stdout",
     "output_type": "stream",
     "text": [
      "+--------------------+-----------------+-----------------+---------------+------------------+-------------+----------------+----------------------+---------+\n",
      "|                msno|payment_method_id|payment_plan_days|plan_list_price|actual_amount_paid|is_auto_renew|transaction_date|membership_expire_date|is_cancel|\n",
      "+--------------------+-----------------+-----------------+---------------+------------------+-------------+----------------+----------------------+---------+\n",
      "|YyO+tlZtAXYXoZhNr...|               41|               30|            129|               129|            1|        20150930|              20151101|        0|\n",
      "|AZtu6Wl0gPojrEQYB...|               41|               30|            149|               149|            1|        20150930|              20151031|        0|\n",
      "|UkDFI97Qb6+s2LWci...|               41|               30|            129|               129|            1|        20150930|              20160427|        0|\n",
      "|M1C56ijxozNaGD0t2...|               39|               30|            149|               149|            1|        20150930|              20151128|        0|\n",
      "|yvj6zyBUaqdbUQSrK...|               39|               30|            149|               149|            1|        20150930|              20151121|        0|\n",
      "|KN7I82kjY0Tn76Ny9...|               21|               30|            149|               149|            1|        20150930|              20151107|        0|\n",
      "|m5ptKif9BjdUghHXX...|               39|               30|            149|               149|            1|        20150930|              20151128|        0|\n",
      "|uQxbyACsPOEkTIrv9...|               39|               30|            149|               149|            1|        20150930|              20151125|        0|\n",
      "|LUPRfoE2r3WwVWhYO...|               39|               30|            149|               149|            1|        20150930|              20151222|        0|\n",
      "|pMVjPLgVknaJYm9L0...|               39|               30|            149|               149|            1|        20150930|              20151118|        0|\n",
      "|bQkbrEPdMfVfdsoz0...|               39|               30|            149|               149|            1|        20150930|              20151121|        0|\n",
      "|TZVCT9pCufI/AWjrG...|               39|               30|            149|               149|            1|        20150930|              20151124|        0|\n",
      "|b2AiGMFhT6fbDyN12...|               39|               30|            149|               149|            1|        20150930|              20151117|        0|\n",
      "|ksInNb4D5jdSSIYUr...|               39|               30|            149|               149|            1|        20150930|              20151129|        0|\n",
      "|aQKXNflQtXF92cpv4...|               39|               30|            149|               149|            1|        20150930|              20151111|        0|\n",
      "|iFxPpElVK6kXnZbuh...|               39|               30|            149|               149|            1|        20150930|              20151122|        0|\n",
      "|8qrtRZQTuCih4YJhj...|               39|               30|            149|               149|            1|        20150930|              20151106|        0|\n",
      "|pE2FeJOBZv5snDGdF...|               39|               30|            149|               149|            1|        20150930|              20151114|        0|\n",
      "|vma4rQzDa/l4Wb/My...|               39|               30|            149|               149|            1|        20150930|              20151123|        0|\n",
      "|Qw6UVFUknPVOLxSSs...|               39|               30|            149|               149|            1|        20150930|              20151108|        0|\n",
      "+--------------------+-----------------+-----------------+---------------+------------------+-------------+----------------+----------------------+---------+\n",
      "only showing top 20 rows\n",
      "\n"
     ]
    }
   ],
   "source": [
    "df_transactions.show()"
   ]
  },
  {
   "cell_type": "code",
   "execution_count": 44,
   "id": "5450df58-9fc7-4c17-af85-5c7520048bcb",
   "metadata": {},
   "outputs": [
    {
     "name": "stderr",
     "output_type": "stream",
     "text": [
      "                                                                                "
     ]
    },
    {
     "data": {
      "text/plain": [
       "21547746"
      ]
     },
     "execution_count": 44,
     "metadata": {},
     "output_type": "execute_result"
    }
   ],
   "source": [
    "df_transactions.count()"
   ]
  },
  {
   "cell_type": "code",
   "execution_count": 55,
   "id": "82c47b67-1f78-4919-99df-a828fa78c305",
   "metadata": {},
   "outputs": [
    {
     "name": "stderr",
     "output_type": "stream",
     "text": [
      "[Stage 102:==================================================>    (12 + 1) / 13]"
     ]
    },
    {
     "name": "stdout",
     "output_type": "stream",
     "text": [
      "+----------+--------+\n",
      "|start_date|end_date|\n",
      "+----------+--------+\n",
      "|  20150101|20170228|\n",
      "+----------+--------+\n",
      "\n"
     ]
    },
    {
     "name": "stderr",
     "output_type": "stream",
     "text": [
      "                                                                                "
     ]
    }
   ],
   "source": [
    "from pyspark.sql import functions as F\n",
    "\n",
    "df_transactions.select(\n",
    "    F.min(\"transaction_date\").alias(\"start_date\"),\n",
    "    F.max(\"transaction_date\").alias(\"end_date\")\n",
    ").show()\n"
   ]
  },
  {
   "cell_type": "code",
   "execution_count": 46,
   "id": "5ab0881e-9c30-4009-bf30-49fdce9b50a6",
   "metadata": {},
   "outputs": [
    {
     "name": "stderr",
     "output_type": "stream",
     "text": [
      "                                                                                "
     ]
    }
   ],
   "source": [
    "df_transactions_v2 = (spark.read\n",
    "      .option(\"header\", True)\n",
    "      .option(\"inferSchema\", True)\n",
    "      .csv(\"data/transactions_v2.csv\"))"
   ]
  },
  {
   "cell_type": "code",
   "execution_count": 57,
   "id": "e6f9a82b-7587-4c7c-8a3d-5f75374776ca",
   "metadata": {},
   "outputs": [
    {
     "data": {
      "text/plain": [
       "1431009"
      ]
     },
     "execution_count": 57,
     "metadata": {},
     "output_type": "execute_result"
    }
   ],
   "source": [
    "df_transactions_v2.count()"
   ]
  },
  {
   "cell_type": "code",
   "execution_count": 56,
   "id": "b6515036-c725-47f3-828d-d7dd7b86e34e",
   "metadata": {},
   "outputs": [
    {
     "name": "stdout",
     "output_type": "stream",
     "text": [
      "+----------+--------+\n",
      "|start_date|end_date|\n",
      "+----------+--------+\n",
      "|  20150101|20170331|\n",
      "+----------+--------+\n",
      "\n"
     ]
    }
   ],
   "source": [
    "from pyspark.sql import functions as F\n",
    "\n",
    "df_transactions_v2.select(\n",
    "    F.min(\"transaction_date\").alias(\"start_date\"),\n",
    "    F.max(\"transaction_date\").alias(\"end_date\")\n",
    ").show()"
   ]
  },
  {
   "cell_type": "markdown",
   "id": "132dc6f1-7500-4bb9-9d52-9b9dd467fd94",
   "metadata": {},
   "source": [
    "# Members"
   ]
  },
  {
   "cell_type": "code",
   "execution_count": 58,
   "id": "9bb466f4-f30d-4ee8-8795-9c295e4add54",
   "metadata": {},
   "outputs": [
    {
     "name": "stderr",
     "output_type": "stream",
     "text": [
      "                                                                                "
     ]
    }
   ],
   "source": [
    "df_members = (spark.read\n",
    "      .option(\"header\", True)\n",
    "      .option(\"inferSchema\", True)\n",
    "      .csv(\"data/members_v3.csv\"))"
   ]
  },
  {
   "cell_type": "code",
   "execution_count": 59,
   "id": "e37218cc-ffa9-4ecd-940b-b7ea9820e5ea",
   "metadata": {},
   "outputs": [
    {
     "name": "stdout",
     "output_type": "stream",
     "text": [
      "+--------------------+----+---+------+--------------+----------------------+\n",
      "|                msno|city| bd|gender|registered_via|registration_init_time|\n",
      "+--------------------+----+---+------+--------------+----------------------+\n",
      "|Rb9UwLQTrxzBVwCB6...|   1|  0|  NULL|            11|              20110911|\n",
      "|+tJonkh+O1CA796Fm...|   1|  0|  NULL|             7|              20110914|\n",
      "|cV358ssn7a0f7jZOw...|   1|  0|  NULL|            11|              20110915|\n",
      "|9bzDeJP6sQodK73K5...|   1|  0|  NULL|            11|              20110915|\n",
      "|WFLY3s7z4EZsieHCt...|   6| 32|female|             9|              20110915|\n",
      "|yLkV2gbZ4GLFwqTOX...|   4| 30|  male|             9|              20110916|\n",
      "|jNCGK78YkTyId3H3w...|   1|  0|  NULL|             7|              20110916|\n",
      "|WH5Jq4mgtfUFXh2yz...|   5| 34|  male|             9|              20110916|\n",
      "|tKmbR4X5VXjHmxERr...|   5| 19|  male|             9|              20110917|\n",
      "|I0yFvqMoNkM8ZNHb6...|  13| 63|  male|             9|              20110918|\n",
      "|OoDwiKZM+ZGr9P3fR...|   1|  0|  NULL|             7|              20110918|\n",
      "|dCvvBHlaOAqgkAcv3...|  22| 18|  male|             9|              20110919|\n",
      "|6bra2AiVV8SGlm7R6...|   4| 34|female|             9|              20110919|\n",
      "|4De1jAxNRABoyRBDZ...|   4| 28|female|             9|              20110920|\n",
      "|iOzdu4IHbJxhB5CPp...|  12| 29|female|             9|              20110922|\n",
      "|hZia/3iyvtThD1kv6...|   1|  0|  NULL|             9|              20110922|\n",
      "|QlDflP89J5KChheo2...|   1|  0|  NULL|             9|              20110922|\n",
      "|fOpj0ApSXk1NVODvC...|  13| 31|female|             7|              20110923|\n",
      "|GsPgdrXoV6688/0RF...|   1|  0|  NULL|             7|              20110924|\n",
      "|QHHKGOY5yLrGdR8WY...|   5| 19|female|             9|              20110925|\n",
      "+--------------------+----+---+------+--------------+----------------------+\n",
      "only showing top 20 rows\n",
      "\n"
     ]
    }
   ],
   "source": [
    "df_members.show()"
   ]
  },
  {
   "cell_type": "code",
   "execution_count": 60,
   "id": "be4e5692-49b2-4176-b03e-f21ba47abfea",
   "metadata": {},
   "outputs": [
    {
     "name": "stderr",
     "output_type": "stream",
     "text": [
      "                                                                                "
     ]
    },
    {
     "data": {
      "text/plain": [
       "6769473"
      ]
     },
     "execution_count": 60,
     "metadata": {},
     "output_type": "execute_result"
    }
   ],
   "source": [
    "df_members.count()"
   ]
  },
  {
   "cell_type": "markdown",
   "id": "1264c7e1-d5a1-4f0e-a996-978588cd63d0",
   "metadata": {},
   "source": [
    "# Train"
   ]
  },
  {
   "cell_type": "code",
   "execution_count": 61,
   "id": "3e714473-bf0b-4702-bf05-ddd60ceee877",
   "metadata": {},
   "outputs": [],
   "source": [
    "df_train = (spark.read\n",
    "      .option(\"header\", True)\n",
    "      .option(\"inferSchema\", True)\n",
    "      .csv(\"data/train.csv\"))"
   ]
  },
  {
   "cell_type": "code",
   "execution_count": 62,
   "id": "11cf6904-d634-4c63-931f-cc3400b7a0ff",
   "metadata": {},
   "outputs": [
    {
     "name": "stdout",
     "output_type": "stream",
     "text": [
      "+--------------------+--------+\n",
      "|                msno|is_churn|\n",
      "+--------------------+--------+\n",
      "|waLDQMmcOu2jLDaV1...|       1|\n",
      "|QA7uiXy8vIbUSPOkC...|       1|\n",
      "|fGwBva6hikQmTJzrb...|       1|\n",
      "|mT5V8rEpa+8wuqi6x...|       1|\n",
      "|XaPhtGLk/5UvvOYHc...|       1|\n",
      "|GBy8qSz16X5iYWD+3...|       1|\n",
      "|lYLh7TdkWpIoQs3i3...|       1|\n",
      "|T0FF6lumjKcqEO0O+...|       1|\n",
      "|Nb1ZGEmagQeba5E+n...|       1|\n",
      "|MkuWz0Nq6/Oq5fKqR...|       1|\n",
      "|I8dFN2EjFN1mt4Xel...|       1|\n",
      "|0Ip2rzeoa44alqEw3...|       1|\n",
      "|piVhWxrWDmiNQFY6x...|       1|\n",
      "|wEUOkYvyz3xTOx2p9...|       1|\n",
      "|xt4EjWRyXBMgEgKBJ...|       1|\n",
      "|QS3ob4zLlWcWzBIlb...|       1|\n",
      "|9iW/UpqRoviya9CQh...|       1|\n",
      "|d7QVMhAzjj4yc1Ojj...|       1|\n",
      "|uV7rJjHPrpNssDMmY...|       1|\n",
      "|TZxhkfZ9NwxqnUrNs...|       1|\n",
      "+--------------------+--------+\n",
      "only showing top 20 rows\n",
      "\n"
     ]
    }
   ],
   "source": [
    "df_train.show()"
   ]
  },
  {
   "cell_type": "code",
   "execution_count": 63,
   "id": "3ca70938-0fef-49a0-9b1e-734a721b6f3d",
   "metadata": {},
   "outputs": [
    {
     "data": {
      "text/plain": [
       "992931"
      ]
     },
     "execution_count": 63,
     "metadata": {},
     "output_type": "execute_result"
    }
   ],
   "source": [
    "df_train.count()"
   ]
  },
  {
   "cell_type": "code",
   "execution_count": 64,
   "id": "7c67f434-5ebc-435c-b182-55e6c68022ba",
   "metadata": {},
   "outputs": [
    {
     "name": "stderr",
     "output_type": "stream",
     "text": [
      "                                                                                "
     ]
    }
   ],
   "source": [
    "df_train_v2 = (spark.read\n",
    "      .option(\"header\", True)\n",
    "      .option(\"inferSchema\", True)\n",
    "      .csv(\"data/train_v2.csv\"))"
   ]
  },
  {
   "cell_type": "code",
   "execution_count": 66,
   "id": "b6f55ece-5fe1-47b5-ada6-7eab484014b7",
   "metadata": {},
   "outputs": [
    {
     "data": {
      "text/plain": [
       "970960"
      ]
     },
     "execution_count": 66,
     "metadata": {},
     "output_type": "execute_result"
    }
   ],
   "source": [
    "df_train_v2.count()"
   ]
  },
  {
   "cell_type": "code",
   "execution_count": null,
   "id": "5249016b-b11f-4c40-baa3-5f10152b6f19",
   "metadata": {},
   "outputs": [],
   "source": []
  }
 ],
 "metadata": {
  "kernelspec": {
   "display_name": "Python 3 (ipykernel)",
   "language": "python",
   "name": "python3"
  },
  "language_info": {
   "codemirror_mode": {
    "name": "ipython",
    "version": 3
   },
   "file_extension": ".py",
   "mimetype": "text/x-python",
   "name": "python",
   "nbconvert_exporter": "python",
   "pygments_lexer": "ipython3",
   "version": "3.12.11"
  }
 },
 "nbformat": 4,
 "nbformat_minor": 5
}
