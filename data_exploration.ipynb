{
 "cells": [
  {
   "cell_type": "code",
   "execution_count": 1,
   "id": "eace65b3-a2c0-4953-af5d-7c9a6034eeb7",
   "metadata": {},
   "outputs": [],
   "source": [
    "import os\n",
    "import glob\n",
    "import pandas as pd\n",
    "import matplotlib.pyplot as plt\n",
    "import numpy as np\n",
    "import random\n",
    "from datetime import datetime, timedelta\n",
    "from dateutil.relativedelta import relativedelta\n",
    "import pprint\n",
    "import pyspark\n",
    "import pyspark.sql.functions as F\n",
    "\n",
    "from pyspark.sql.functions import col\n",
    "from pyspark.sql.types import StringType, IntegerType, FloatType, DateType\n"
   ]
  },
  {
   "cell_type": "code",
   "execution_count": 2,
   "id": "99a2f38d-4122-4c57-96e6-c26936c572eb",
   "metadata": {},
   "outputs": [
    {
     "name": "stderr",
     "output_type": "stream",
     "text": [
      "Setting default log level to \"WARN\".\n",
      "To adjust logging level use sc.setLogLevel(newLevel). For SparkR, use setLogLevel(newLevel).\n",
      "25/10/25 09:50:41 WARN NativeCodeLoader: Unable to load native-hadoop library for your platform... using builtin-java classes where applicable\n"
     ]
    }
   ],
   "source": [
    "# Initialize SparkSession\n",
    "spark = pyspark.sql.SparkSession.builder \\\n",
    "    .appName(\"dev\") \\\n",
    "    .config(\"spark.driver.memory\", \"4g\") \\\n",
    "    .master(\"local[*]\") \\\n",
    "    .getOrCreate()\n",
    "\n",
    "# Set log level to ERROR to hide warnings\n",
    "spark.sparkContext.setLogLevel(\"ERROR\")"
   ]
  },
  {
   "cell_type": "markdown",
   "id": "9f33c58c-b3bb-448f-9583-ef5d9dc1195a",
   "metadata": {},
   "source": [
    "# Datasets\n",
    "- user_logs.csv — contain data from 2015/01/01 - 2017/02/28\n",
    "- user_logs_v2.csv — contain data from 2017/03/01 - 2017/03/31\n",
    "- transactions.csv — (transaction_date) 2015/01/01 - 2017/02/28\n",
    "- transactions_v2.csv — (transaction_date) 2015/01/01 - 2017/03/31 (has lesser rows tho ??)\n",
    "- members_v3.csv — 6mill members\n",
    "- train.csv — contains user ids and whether they have churned.\n",
    "- train_v2.csv — contains the churn data for March, 2017.\n"
   ]
  },
  {
   "cell_type": "markdown",
   "id": "ec05cd54-ee4e-451d-87fc-6300c8bfe931",
   "metadata": {
    "jp-MarkdownHeadingCollapsed": true
   },
   "source": [
    "# User Logs"
   ]
  },
  {
   "cell_type": "code",
   "execution_count": 27,
   "id": "1acb891d-8aec-402a-94b3-96750ebd7bc0",
   "metadata": {},
   "outputs": [],
   "source": [
    "\n",
    "df = (spark.read\n",
    "      .option(\"header\", True)\n",
    "      .option(\"inferSchema\", True)\n",
    "      .parquet(\"datamart/bronze/user_logs/year=2015/month=01\"))\n"
   ]
  },
  {
   "cell_type": "code",
   "execution_count": 28,
   "id": "17241500-f96d-4bb8-bab9-90060f741f3d",
   "metadata": {},
   "outputs": [
    {
     "data": {
      "text/plain": [
       "DataFrame[msno: string, date: int, num_25: int, num_50: int, num_75: int, num_985: int, num_100: int, num_unq: int, total_secs: double]"
      ]
     },
     "execution_count": 28,
     "metadata": {},
     "output_type": "execute_result"
    }
   ],
   "source": [
    "df.cache()"
   ]
  },
  {
   "cell_type": "code",
   "execution_count": 29,
   "id": "b8d0a73d-d69a-4f55-9986-31a6a5b790a8",
   "metadata": {},
   "outputs": [
    {
     "name": "stdout",
     "output_type": "stream",
     "text": [
      "+--------------------+--------+------+------+------+-------+-------+-------+----------+\n",
      "|                msno|    date|num_25|num_50|num_75|num_985|num_100|num_unq|total_secs|\n",
      "+--------------------+--------+------+------+------+-------+-------+-------+----------+\n",
      "|C4StQg63rttGAOqto...|20150120|     2|     2|     1|      0|      6|      9|  1699.446|\n",
      "|8lZ3LnlnX1kWyKkGt...|20150109|     5|     2|     1|      0|     82|     55| 17811.605|\n",
      "|GCqC99i1NrtvDGMkx...|20150129|     2|     1|     0|      1|    129|      4| 34703.904|\n",
      "|Dnpj5VLwwN5mUR8HA...|20150128|     0|     0|     0|      1|      7|      7|  2162.177|\n",
      "|l1PoAgkJoUkdBz9aH...|20150112|     2|     0|     0|      0|     34|     27|  9284.661|\n",
      "|xrIHhq+6/NnEwklQp...|20150120|     4|     1|     1|      1|    161|    115| 40552.138|\n",
      "|9iUqNqp4tOo/Gu+dk...|20150115|    20|     6|     1|      5|     30|     21|  9404.582|\n",
      "|fkYsxuAJ0fyDu8wqj...|20150107|     2|     0|     0|      0|     36|     32|  8196.252|\n",
      "|vEB1w4iqIf3SvU37X...|20150106|     1|     0|     0|      0|      9|     10|  2326.174|\n",
      "|ccqIvziyLZs/Ivbob...|20150110|     1|     0|     0|      0|      6|      7|  1605.832|\n",
      "|xKKR50oC2MlZ0zd+o...|20150105|     3|     0|     0|      0|      0|      3|    70.019|\n",
      "|TUWjZbEJkEvyq8rv4...|20150131|     1|     0|     0|      0|      0|      1|    20.651|\n",
      "|k6F2zRxgWsYSNWHK2...|20150117|     3|     1|     0|      1|     10|     15|  3155.356|\n",
      "|dmvdNxpnayMipYpp0...|20150123|     2|     2|     0|      1|      8|     13|  2821.996|\n",
      "|7rP5PTRRZkv88mQaW...|20150129|     0|     0|     0|      0|      2|      2|   562.586|\n",
      "|bYBeBROvV+s0RZU2D...|20150115|     0|     0|     0|      0|      3|      3|   796.591|\n",
      "|416PJx00y8Xu2Dekh...|20150108|    10|     4|     4|      1|     27|     30|  8709.144|\n",
      "|mB+snLpBSX+YtaPt9...|20150113|   140|     9|     3|     10|     93|    186| 27705.927|\n",
      "|3b7gK9oqxxqc8Q05L...|20150108|    16|     1|     0|      1|    132|    135| 33631.914|\n",
      "|RZlcKWTntwjrN+eFm...|20150123|    48|    13|     5|      3|     75|    138| 21303.531|\n",
      "+--------------------+--------+------+------+------+-------+-------+-------+----------+\n",
      "only showing top 20 rows\n",
      "\n"
     ]
    }
   ],
   "source": [
    "df.show()"
   ]
  },
  {
   "cell_type": "markdown",
   "id": "f7ce1028-3297-4ad4-a0ca-ded5a112ad6d",
   "metadata": {},
   "source": [
    "## Check datatypes"
   ]
  },
  {
   "cell_type": "code",
   "execution_count": 30,
   "id": "f620191c-898b-4d9c-ae12-cc926c0745ae",
   "metadata": {},
   "outputs": [
    {
     "name": "stdout",
     "output_type": "stream",
     "text": [
      "root\n",
      " |-- msno: string (nullable = true)\n",
      " |-- date: integer (nullable = true)\n",
      " |-- num_25: integer (nullable = true)\n",
      " |-- num_50: integer (nullable = true)\n",
      " |-- num_75: integer (nullable = true)\n",
      " |-- num_985: integer (nullable = true)\n",
      " |-- num_100: integer (nullable = true)\n",
      " |-- num_unq: integer (nullable = true)\n",
      " |-- total_secs: double (nullable = true)\n",
      "\n"
     ]
    },
    {
     "name": "stderr",
     "output_type": "stream",
     "text": [
      "[Stage 126:==================================================>    (12 + 1) / 13]"
     ]
    },
    {
     "name": "stdout",
     "output_type": "stream",
     "text": [
      "+-------+--------------------+--------------------+------------------+------------------+------------------+-----------------+------------------+-----------------+--------------------+\n",
      "|summary|                msno|                date|            num_25|            num_50|            num_75|          num_985|           num_100|          num_unq|          total_secs|\n",
      "+-------+--------------------+--------------------+------------------+------------------+------------------+-----------------+------------------+-----------------+--------------------+\n",
      "|  count|            12897706|            12897706|          12897706|          12897706|          12897706|         12897706|          12897706|         12897706|            12897706|\n",
      "|   mean|                NULL|2.0150116058964904E7| 6.098357645925562|1.6608211568785953|1.0136063731023175|1.201276257964013|31.652541157318982|29.88532697209876|-2.14534248473938...|\n",
      "| stddev|                NULL|   8.908351254388021|13.421142334833364| 4.314629262466007| 2.120147597762973|3.242468687590872|46.369546292679864|34.34555369998261|4.448300153104476E12|\n",
      "|    min|+++IZseRRiQS9aaSk...|            20150101|                 0|                 0|                 0|                0|                 0|                1|-9.22337203685156...|\n",
      "|    max|zzztPAN9xjMytpZ0R...|            20150131|             11328|               841|               373|             1636|             34696|             1694|    1.420659527338E9|\n",
      "+-------+--------------------+--------------------+------------------+------------------+------------------+-----------------+------------------+-----------------+--------------------+\n",
      "\n"
     ]
    },
    {
     "name": "stderr",
     "output_type": "stream",
     "text": [
      "                                                                                "
     ]
    }
   ],
   "source": [
    "# Show basic info\n",
    "df.printSchema()\n",
    "df.describe().show()\n"
   ]
  },
  {
   "cell_type": "markdown",
   "id": "203b380e-e945-41e8-9538-2d1e3d3479fd",
   "metadata": {},
   "source": [
    "Issues: \n",
    "- Date is an integer\n",
    "- the max for each column is too big\n",
    "- the total seconds have negative values"
   ]
  },
  {
   "cell_type": "markdown",
   "id": "d06e869a-c73e-4377-99f1-38c41135a682",
   "metadata": {},
   "source": [
    "### Outlier and Distribution Summary for Numeric Columns\n",
    "\n",
    "This cell computes key statistics for each numeric feature to help identify potential outliers and understand the data distribution.\n",
    "\n",
    "For every column (`num_25`, `num_50`, `num_75`, `num_985`, `num_100`, `num_unq`, `total_secs`), it calculates:\n",
    "- **Minimum (`_min`)** – the smallest value in the column  \n",
    "- **Median (`_median`)** – the 50th percentile, showing the central tendency  \n",
    "- **99th Percentile (`_p99`)** – a robust upper-bound indicator to detect extreme outliers  \n",
    "- **Maximum (`_max`)** – the largest observed value  \n",
    "\n",
    "By comparing `_p99` and `_max`, we can see how far the extreme values stretch beyond typical behavior.  \n",
    "Large gaps between these two suggest the presence of **outliers or corrupted data entries**."
   ]
  },
  {
   "cell_type": "code",
   "execution_count": 31,
   "id": "e7cc43e7-08cf-4ccb-8d75-78108a698682",
   "metadata": {},
   "outputs": [
    {
     "name": "stderr",
     "output_type": "stream",
     "text": [
      "                                                                                "
     ]
    },
    {
     "name": "stdout",
     "output_type": "stream",
     "text": [
      "+----------+-------------+----------+----------+\n",
      "|num_25_min|num_25_median|num_25_p99|num_25_max|\n",
      "+----------+-------------+----------+----------+\n",
      "|         0|            2|        58|     11328|\n",
      "+----------+-------------+----------+----------+\n",
      "\n"
     ]
    },
    {
     "name": "stderr",
     "output_type": "stream",
     "text": [
      "                                                                                "
     ]
    },
    {
     "name": "stdout",
     "output_type": "stream",
     "text": [
      "+----------+-------------+----------+----------+\n",
      "|num_50_min|num_50_median|num_50_p99|num_50_max|\n",
      "+----------+-------------+----------+----------+\n",
      "|         0|            1|        16|       841|\n",
      "+----------+-------------+----------+----------+\n",
      "\n"
     ]
    },
    {
     "name": "stderr",
     "output_type": "stream",
     "text": [
      "                                                                                "
     ]
    },
    {
     "name": "stdout",
     "output_type": "stream",
     "text": [
      "+----------+-------------+----------+----------+\n",
      "|num_75_min|num_75_median|num_75_p99|num_75_max|\n",
      "+----------+-------------+----------+----------+\n",
      "|         0|            0|         8|       373|\n",
      "+----------+-------------+----------+----------+\n",
      "\n"
     ]
    },
    {
     "name": "stderr",
     "output_type": "stream",
     "text": [
      "                                                                                "
     ]
    },
    {
     "name": "stdout",
     "output_type": "stream",
     "text": [
      "+-----------+--------------+-----------+-----------+\n",
      "|num_985_min|num_985_median|num_985_p99|num_985_max|\n",
      "+-----------+--------------+-----------+-----------+\n",
      "|          0|             0|         11|       1636|\n",
      "+-----------+--------------+-----------+-----------+\n",
      "\n"
     ]
    },
    {
     "name": "stderr",
     "output_type": "stream",
     "text": [
      "                                                                                "
     ]
    },
    {
     "name": "stdout",
     "output_type": "stream",
     "text": [
      "+-----------+--------------+-----------+-----------+\n",
      "|num_100_min|num_100_median|num_100_p99|num_100_max|\n",
      "+-----------+--------------+-----------+-----------+\n",
      "|          0|            16|        188|      34696|\n",
      "+-----------+--------------+-----------+-----------+\n",
      "\n"
     ]
    },
    {
     "name": "stderr",
     "output_type": "stream",
     "text": [
      "                                                                                "
     ]
    },
    {
     "name": "stdout",
     "output_type": "stream",
     "text": [
      "+-----------+--------------+-----------+-----------+\n",
      "|num_unq_min|num_unq_median|num_unq_p99|num_unq_max|\n",
      "+-----------+--------------+-----------+-----------+\n",
      "|          1|            18|        158|       1694|\n",
      "+-----------+--------------+-----------+-----------+\n",
      "\n"
     ]
    },
    {
     "name": "stderr",
     "output_type": "stream",
     "text": [
      "[Stage 147:==================================================>    (12 + 1) / 13]"
     ]
    },
    {
     "name": "stdout",
     "output_type": "stream",
     "text": [
      "+--------------------+-----------------+--------------+----------------+\n",
      "|      total_secs_min|total_secs_median|total_secs_p99|  total_secs_max|\n",
      "+--------------------+-----------------+--------------+----------------+\n",
      "|-9.22337203685156...|         4642.374|      46690.05|1.420659527338E9|\n",
      "+--------------------+-----------------+--------------+----------------+\n",
      "\n"
     ]
    },
    {
     "name": "stderr",
     "output_type": "stream",
     "text": [
      "                                                                                "
     ]
    }
   ],
   "source": [
    "from pyspark.sql.functions import col, count, isnan, min, max, percentile_approx\n",
    "for c in [\"num_25\", \"num_50\", \"num_75\", \"num_985\", \"num_100\", \"num_unq\", \"total_secs\"]:\n",
    "    df.select(\n",
    "        min(col(c)).alias(f\"{c}_min\"),\n",
    "        percentile_approx(col(c), 0.5).alias(f\"{c}_median\"),\n",
    "        percentile_approx(col(c), 0.99).alias(f\"{c}_p99\"),\n",
    "        max(col(c)).alias(f\"{c}_max\")\n",
    "    ).show()"
   ]
  },
  {
   "cell_type": "markdown",
   "id": "d59492df-d660-440b-be91-48ae1e1ffefd",
   "metadata": {},
   "source": [
    "only a handful of data is corrupted"
   ]
  },
  {
   "cell_type": "markdown",
   "id": "e9e273b9-7d6e-4e9b-97b6-3394c91610ac",
   "metadata": {},
   "source": [
    "Remove negative values from total sec"
   ]
  },
  {
   "cell_type": "code",
   "execution_count": 34,
   "id": "be61862e-77b7-4867-8613-5a2994497c73",
   "metadata": {},
   "outputs": [
    {
     "name": "stdout",
     "output_type": "stream",
     "text": [
      "+--------------------+--------+------+------+------+-------+-------+-------+--------------------+\n",
      "|                msno|    date|num_25|num_50|num_75|num_985|num_100|num_unq|          total_secs|\n",
      "+--------------------+--------+------+------+------+-------+-------+-------+--------------------+\n",
      "|T4wnYowN3mabEGttj...|20150108|    38|    23|     5|      1|     41|    102|-9.22337203684098...|\n",
      "|txa9nJLmjzY2RlrU4...|20150123|     6|     1|     0|      4|     96|     63|-9.22337203682871...|\n",
      "|8iC+wFW+Q+XzOaD7i...|20150101|     2|    11|     7|      1|      4|     23|-9.22337203685156...|\n",
      "+--------------------+--------+------+------+------+-------+-------+-------+--------------------+\n",
      "\n"
     ]
    }
   ],
   "source": [
    "df.filter(col(\"total_secs\") < 0).show(10)"
   ]
  },
  {
   "cell_type": "code",
   "execution_count": 35,
   "id": "5b612b2c-f3f4-417b-82d3-771c81542522",
   "metadata": {},
   "outputs": [],
   "source": [
    "# Remove rows with negative total_secs\n",
    "df = df.filter(col(\"total_secs\") >= 0)"
   ]
  },
  {
   "cell_type": "markdown",
   "id": "bb001f27-4c50-4872-bda3-49ca5d5a01fa",
   "metadata": {},
   "source": [
    "## Check for outliers"
   ]
  },
  {
   "cell_type": "code",
   "execution_count": 36,
   "id": "5e173836-1345-4326-ac9b-f1786481b956",
   "metadata": {},
   "outputs": [
    {
     "name": "stderr",
     "output_type": "stream",
     "text": [
      "                                                                                "
     ]
    },
    {
     "name": "stdout",
     "output_type": "stream",
     "text": [
      "num_25: outliers = 1099579, fences -> lower=-10.5, upper=17.5\n"
     ]
    },
    {
     "data": {
      "image/png": "[encoded data removed]",
      "text/plain": [
       "<Figure size 900x300 with 1 Axes>"
      ]
     },
     "metadata": {},
     "output_type": "display_data"
    },
    {
     "name": "stdout",
     "output_type": "stream",
     "text": [
      "num_50: outliers = 848566, fences -> lower=-3.0, upper=5.0\n"
     ]
    },
    {
     "data": {
      "image/png": "[encoded data removed]",
      "text/plain": [
       "<Figure size 900x300 with 1 Axes>"
      ]
     },
     "metadata": {},
     "output_type": "display_data"
    },
    {
     "name": "stdout",
     "output_type": "stream",
     "text": [
      "num_75: outliers = 1510848, fences -> lower=-1.5, upper=2.5\n"
     ]
    },
    {
     "data": {
      "image/png": "[encoded data removed]",
      "text/plain": [
       "<Figure size 900x300 with 1 Axes>"
      ]
     },
     "metadata": {},
     "output_type": "display_data"
    },
    {
     "name": "stderr",
     "output_type": "stream",
     "text": [
      "                                                                                "
     ]
    },
    {
     "name": "stdout",
     "output_type": "stream",
     "text": [
      "num_985: outliers = 1759702, fences -> lower=-1.5, upper=2.5\n"
     ]
    },
    {
     "data": {
      "image/png": "[encoded data removed]",
      "text/plain": [
       "<Figure size 900x300 with 1 Axes>"
      ]
     },
     "metadata": {},
     "output_type": "display_data"
    },
    {
     "name": "stderr",
     "output_type": "stream",
     "text": [
      "                                                                                "
     ]
    },
    {
     "name": "stdout",
     "output_type": "stream",
     "text": [
      "num_100: outliers = 1108016, fences -> lower=-45.0, upper=91.0\n"
     ]
    },
    {
     "data": {
      "image/png": "[encoded data removed]",
      "text/plain": [
       "<Figure size 900x300 with 1 Axes>"
      ]
     },
     "metadata": {},
     "output_type": "display_data"
    },
    {
     "name": "stderr",
     "output_type": "stream",
     "text": [
      "                                                                                "
     ]
    },
    {
     "name": "stdout",
     "output_type": "stream",
     "text": [
      "num_unq: outliers = 865402, fences -> lower=-42.5, upper=89.5\n"
     ]
    },
    {
     "data": {
      "image/png": "[encoded data removed]",
      "text/plain": [
       "<Figure size 900x300 with 1 Axes>"
      ]
     },
     "metadata": {},
     "output_type": "display_data"
    },
    {
     "name": "stderr",
     "output_type": "stream",
     "text": [
      "                                                                                "
     ]
    },
    {
     "name": "stdout",
     "output_type": "stream",
     "text": [
      "total_secs: outliers = 1073894, fences -> lower=-11842.704999999998, upper=24429.894999999997\n"
     ]
    },
    {
     "data": {
      "image/png": "[encoded data removed]",
      "text/plain": [
       "<Figure size 900x300 with 1 Axes>"
      ]
     },
     "metadata": {},
     "output_type": "display_data"
    }
   ],
   "source": [
    "# --- PySpark: compute outliers (no sampling) and plot them separately ---\n",
    "from pyspark.sql.functions import col\n",
    "import matplotlib.pyplot as plt\n",
    "\n",
    "# Columns to check\n",
    "cols = [\"num_25\",\"num_50\",\"num_75\",\"num_985\",\"num_100\",\"num_unq\",\"total_secs\"]\n",
    "\n",
    "# (Optional) ensure date typed correctly\n",
    "# from pyspark.sql.functions import to_date\n",
    "# df = df.withColumn(\"date\", to_date(col(\"date\").cast(\"string\"), \"yyyyMMdd\"))\n",
    "\n",
    "def fences_for(colname):\n",
    "    # approxQuantile is exact enough and scalable; probError=0.001 keeps it tight\n",
    "    q1, q3 = df.approxQuantile(colname, [0.25, 0.75], 0.001)\n",
    "    iqr = q3 - q1\n",
    "    lower = q1 - 1.5 * iqr\n",
    "    upper = q3 + 1.5 * iqr\n",
    "    return q1, q3, iqr, lower, upper\n",
    "\n",
    "for c in cols:\n",
    "    q1, q3, iqr, lower, upper = fences_for(c)\n",
    "\n",
    "    # Filter TRUE outliers only (no sampling)\n",
    "    out_df = df.select(\"msno\", \"date\", c).where((col(c) < lower) | (col(c) > upper))\n",
    "\n",
    "    # If there are no outliers, just print and continue\n",
    "    out_count = out_df.count()\n",
    "    print(f\"{c}: outliers = {out_count}, fences -> lower={lower}, upper={upper}\")\n",
    "\n",
    "    if out_count == 0:\n",
    "        continue\n",
    "\n",
    "    # Bring only outliers to driver for plotting\n",
    "    pdf = out_df.toPandas()  # only outlier rows\n",
    "\n",
    "    # ---- Plot separately per column ----\n",
    "    plt.figure(figsize=(9, 3))\n",
    "    # Plot outlier values as a 1D scatter (strip) along x-axis\n",
    "    plt.scatter(pdf[c], [1]*len(pdf), s=6, alpha=0.5)\n",
    "\n",
    "    # Draw IQR box region and fences as reference\n",
    "    plt.axvline(q1, linestyle=\"--\", linewidth=1)\n",
    "    plt.axvline(q3, linestyle=\"--\", linewidth=1)\n",
    "    plt.axvline(lower, linestyle=\":\", linewidth=1)\n",
    "    plt.axvline(upper, linestyle=\":\", linewidth=1)\n",
    "\n",
    "    plt.yticks([])  # cosmetic\n",
    "    plt.xlabel(c)\n",
    "    plt.title(f\"Outliers for {c}  |  Q1={q1:.2f}, Q3={q3:.2f}, L={lower:.2f}, U={upper:.2f}\")\n",
    "    # Uncomment to help with huge ranges like total_secs:\n",
    "    # plt.xscale(\"log\")\n",
    "    plt.tight_layout()\n",
    "    plt.show()\n",
    "\n"
   ]
  },
  {
   "cell_type": "markdown",
   "id": "4ce172c4-df69-4004-926e-a06dbaf24330",
   "metadata": {},
   "source": [
    "## Remove Outliers"
   ]
  },
  {
   "cell_type": "code",
   "execution_count": 40,
   "id": "e122974b-2f5d-4a43-a783-bc3b5995690c",
   "metadata": {},
   "outputs": [
    {
     "name": "stdout",
     "output_type": "stream",
     "text": [
      "num_25: keeping values between -10.50 and 17.50\n"
     ]
    },
    {
     "name": "stderr",
     "output_type": "stream",
     "text": [
      "                                                                                "
     ]
    },
    {
     "name": "stdout",
     "output_type": "stream",
     "text": [
      "num_50: keeping values between -3.00 and 5.00\n"
     ]
    },
    {
     "name": "stderr",
     "output_type": "stream",
     "text": [
      "                                                                                "
     ]
    },
    {
     "name": "stdout",
     "output_type": "stream",
     "text": [
      "num_75: keeping values between -1.50 and 2.50\n"
     ]
    },
    {
     "name": "stderr",
     "output_type": "stream",
     "text": [
      "                                                                                "
     ]
    },
    {
     "name": "stdout",
     "output_type": "stream",
     "text": [
      "num_985: keeping values between -1.50 and 2.50\n"
     ]
    },
    {
     "name": "stderr",
     "output_type": "stream",
     "text": [
      "                                                                                "
     ]
    },
    {
     "name": "stdout",
     "output_type": "stream",
     "text": [
      "num_100: keeping values between -45.00 and 91.00\n"
     ]
    },
    {
     "name": "stderr",
     "output_type": "stream",
     "text": [
      "                                                                                "
     ]
    },
    {
     "name": "stdout",
     "output_type": "stream",
     "text": [
      "num_unq: keeping values between -42.50 and 89.50\n"
     ]
    },
    {
     "name": "stderr",
     "output_type": "stream",
     "text": [
      "                                                                                "
     ]
    },
    {
     "name": "stdout",
     "output_type": "stream",
     "text": [
      "total_secs: keeping values between -11842.70 and 24429.89\n",
      "Before cleaning: 12897703\n",
      "After cleaning: 9147620\n"
     ]
    }
   ],
   "source": [
    "from pyspark.sql.functions import col\n",
    "\n",
    "# Columns to clean\n",
    "cols = [\"num_25\",\"num_50\",\"num_75\",\"num_985\",\"num_100\",\"num_unq\", \"total_secs\"]\n",
    "\n",
    "def fences_for(colname):\n",
    "    q1, q3 = df.approxQuantile(colname, [0.25, 0.75], 0.001)\n",
    "    iqr = q3 - q1\n",
    "    lower = q1 - 1.5 * iqr\n",
    "    upper = q3 + 1.5 * iqr\n",
    "    return lower, upper\n",
    "\n",
    "# Build filter condition to keep only rows within valid ranges for all columns\n",
    "condition = None\n",
    "for c in cols:\n",
    "    lower, upper = fences_for(c)\n",
    "    cond = (col(c) >= lower) & (col(c) <= upper)\n",
    "    condition = cond if condition is None else (condition & cond)\n",
    "    print(f\"{c}: keeping values between {lower:.2f} and {upper:.2f}\")\n",
    "\n",
    "# Apply filter\n",
    "df_clean = df.filter(condition)\n",
    "\n",
    "print(\"Before cleaning:\", df.count())\n",
    "print(\"After cleaning:\", df_clean.count())\n"
   ]
  },
  {
   "cell_type": "code",
   "execution_count": 41,
   "id": "c9d59c1d-1296-422f-93d7-5aa61b87d5b9",
   "metadata": {},
   "outputs": [
    {
     "name": "stderr",
     "output_type": "stream",
     "text": [
      "[Stage 505:==================================================>    (12 + 1) / 13]"
     ]
    },
    {
     "name": "stdout",
     "output_type": "stream",
     "text": [
      "+-------+--------------------+--------------------+------------------+------------------+------------------+-------------------+------------------+------------------+------------------+\n",
      "|summary|                msno|                date|            num_25|            num_50|            num_75|            num_985|           num_100|           num_unq|        total_secs|\n",
      "+-------+--------------------+--------------------+------------------+------------------+------------------+-------------------+------------------+------------------+------------------+\n",
      "|  count|             9147620|             9147620|           9147620|           9147620|           9147620|            9147620|           9147620|           9147620|           9147620|\n",
      "|   mean|                NULL|2.0150116072051965E7| 2.499145023514313|0.6657413622341112|0.4051955590634504|0.42444067418629106|18.251988386050144| 17.12490429204536| 4796.136464328834|\n",
      "| stddev|                NULL|    8.90529474588174|3.3854240951778447|1.0231620670799921|0.6344020498762044| 0.6494501728384704| 19.35644367063043|16.635514577099475|4895.6118757712775|\n",
      "|    min|+++IZseRRiQS9aaSk...|            20150101|                 0|                 0|                 0|                  0|                 0|                 1|             0.001|\n",
      "|    max|zzztPAN9xjMytpZ0R...|            20150131|                17|                 5|                 2|                  2|                91|                89|         24429.853|\n",
      "+-------+--------------------+--------------------+------------------+------------------+------------------+-------------------+------------------+------------------+------------------+\n",
      "\n"
     ]
    },
    {
     "name": "stderr",
     "output_type": "stream",
     "text": [
      "                                                                                "
     ]
    }
   ],
   "source": [
    "df_clean.describe().show()"
   ]
  },
  {
   "cell_type": "markdown",
   "id": "2c7a8317-8f39-411b-aeab-98b0e29bdf04",
   "metadata": {},
   "source": [
    "Looks clean"
   ]
  },
  {
   "cell_type": "code",
   "execution_count": 47,
   "id": "0c4aff9b-f45e-4661-9213-3928641b5890",
   "metadata": {},
   "outputs": [
    {
     "name": "stdout",
     "output_type": "stream",
     "text": [
      "Found 0 rows with negative numeric values.\n",
      "Found 0 rows where total_secs exceeds 24 hours.\n"
     ]
    }
   ],
   "source": [
    "from pyspark.sql.functions import col\n",
    "\n",
    "# Check for negative values in any of the numeric columns\n",
    "negative_counts = df_clean.where(\n",
    "    (col(\"num_25\") < 0) |\n",
    "    (col(\"num_50\") < 0) |\n",
    "    (col(\"num_75\") < 0) |\n",
    "    (col(\"num_985\") < 0) |\n",
    "    (col(\"num_100\") < 0) |\n",
    "    (col(\"num_unq\") < 0) |\n",
    "    (col(\"total_secs\") < 0)\n",
    ").count()\n",
    "\n",
    "print(f\"Found {negative_counts} rows with negative numeric values.\")\n",
    "\n",
    "# Check for listening times that are impossibly long (more than 24 hours)\n",
    "impossible_time_count = df_clean.where(col(\"total_secs\") > 86400).count()\n",
    "print(f\"Found {impossible_time_count} rows where total_secs exceeds 24 hours.\")"
   ]
  },
  {
   "cell_type": "code",
   "execution_count": 50,
   "id": "0f443caa-7536-4b29-a1db-6b934849b11c",
   "metadata": {},
   "outputs": [
    {
     "name": "stderr",
     "output_type": "stream",
     "text": [
      "[Stage 558:==================================================>    (12 + 1) / 13]"
     ]
    },
    {
     "name": "stdout",
     "output_type": "stream",
     "text": [
      "Duplicate (msno, date) pairs: 0\n"
     ]
    },
    {
     "name": "stderr",
     "output_type": "stream",
     "text": [
      "                                                                                "
     ]
    }
   ],
   "source": [
    "from pyspark.sql import functions as F\n",
    "\n",
    "dups = (\n",
    "    df_clean.groupBy(\"msno\", \"date\")\n",
    "      .agg(F.count(F.lit(1)).alias(\"row_count\"))\n",
    "      .filter(F.col(\"row_count\") > 1)\n",
    ")\n",
    "\n",
    "\n",
    "print(\"Duplicate (msno, date) pairs:\", dups.count())\n"
   ]
  },
  {
   "cell_type": "markdown",
   "id": "15d29ea9-52d7-4fc4-bc38-e06b883a9309",
   "metadata": {},
   "source": [
    "### Change date column to date type"
   ]
  },
  {
   "cell_type": "code",
   "execution_count": 51,
   "id": "62d9f8c8-5041-40ac-b50a-70cfb2d4b514",
   "metadata": {},
   "outputs": [
    {
     "name": "stdout",
     "output_type": "stream",
     "text": [
      "root\n",
      " |-- msno: string (nullable = true)\n",
      " |-- date: integer (nullable = true)\n",
      " |-- num_25: integer (nullable = true)\n",
      " |-- num_50: integer (nullable = true)\n",
      " |-- num_75: integer (nullable = true)\n",
      " |-- num_985: integer (nullable = true)\n",
      " |-- num_100: integer (nullable = true)\n",
      " |-- num_unq: integer (nullable = true)\n",
      " |-- total_secs: double (nullable = true)\n",
      "\n"
     ]
    }
   ],
   "source": [
    "df_clean.printSchema()"
   ]
  },
  {
   "cell_type": "code",
   "execution_count": 53,
   "id": "856438ad-97ac-4b09-bd20-e203ec2c974c",
   "metadata": {},
   "outputs": [],
   "source": [
    "from pyspark.sql.functions import to_date, col\n",
    "df_clean = df_clean.withColumn(\"date\", to_date(col(\"date\").cast(\"string\"), \"yyyyMMdd\"))"
   ]
  },
  {
   "cell_type": "code",
   "execution_count": 55,
   "id": "ae50d671-6d23-4902-bc5f-0a9fa8020f8a",
   "metadata": {},
   "outputs": [
    {
     "name": "stdout",
     "output_type": "stream",
     "text": [
      "root\n",
      " |-- msno: string (nullable = true)\n",
      " |-- date: date (nullable = true)\n",
      " |-- num_25: integer (nullable = true)\n",
      " |-- num_50: integer (nullable = true)\n",
      " |-- num_75: integer (nullable = true)\n",
      " |-- num_985: integer (nullable = true)\n",
      " |-- num_100: integer (nullable = true)\n",
      " |-- num_unq: integer (nullable = true)\n",
      " |-- total_secs: double (nullable = true)\n",
      "\n"
     ]
    }
   ],
   "source": [
    "df_clean.printSchema()"
   ]
  },
  {
   "cell_type": "code",
   "execution_count": 56,
   "id": "c1b524fd-b3b5-42aa-bc7a-b420a8a41dd5",
   "metadata": {},
   "outputs": [
    {
     "name": "stdout",
     "output_type": "stream",
     "text": [
      "+--------------------+--------+\n",
      "|                msno|    date|\n",
      "+--------------------+--------+\n",
      "|C4StQg63rttGAOqto...|20150120|\n",
      "|8lZ3LnlnX1kWyKkGt...|20150109|\n",
      "|GCqC99i1NrtvDGMkx...|20150129|\n",
      "|Dnpj5VLwwN5mUR8HA...|20150128|\n",
      "|l1PoAgkJoUkdBz9aH...|20150112|\n",
      "|xrIHhq+6/NnEwklQp...|20150120|\n",
      "|9iUqNqp4tOo/Gu+dk...|20150115|\n",
      "|fkYsxuAJ0fyDu8wqj...|20150107|\n",
      "|vEB1w4iqIf3SvU37X...|20150106|\n",
      "|ccqIvziyLZs/Ivbob...|20150110|\n",
      "+--------------------+--------+\n",
      "only showing top 10 rows\n",
      "\n"
     ]
    }
   ],
   "source": [
    "df.select(\"msno\", \"date\").show(10)"
   ]
  },
  {
   "cell_type": "code",
   "execution_count": 57,
   "id": "2e91b9d6-dcbb-4287-a255-6588216debc1",
   "metadata": {},
   "outputs": [
    {
     "name": "stdout",
     "output_type": "stream",
     "text": [
      "+--------------------+--------+------+------+------+-------+-------+-------+----------+\n",
      "|                msno|    date|num_25|num_50|num_75|num_985|num_100|num_unq|total_secs|\n",
      "+--------------------+--------+------+------+------+-------+-------+-------+----------+\n",
      "|C4StQg63rttGAOqto...|20150120|     2|     2|     1|      0|      6|      9|  1699.446|\n",
      "|8lZ3LnlnX1kWyKkGt...|20150109|     5|     2|     1|      0|     82|     55| 17811.605|\n",
      "|GCqC99i1NrtvDGMkx...|20150129|     2|     1|     0|      1|    129|      4| 34703.904|\n",
      "|Dnpj5VLwwN5mUR8HA...|20150128|     0|     0|     0|      1|      7|      7|  2162.177|\n",
      "|l1PoAgkJoUkdBz9aH...|20150112|     2|     0|     0|      0|     34|     27|  9284.661|\n",
      "|xrIHhq+6/NnEwklQp...|20150120|     4|     1|     1|      1|    161|    115| 40552.138|\n",
      "|9iUqNqp4tOo/Gu+dk...|20150115|    20|     6|     1|      5|     30|     21|  9404.582|\n",
      "|fkYsxuAJ0fyDu8wqj...|20150107|     2|     0|     0|      0|     36|     32|  8196.252|\n",
      "|vEB1w4iqIf3SvU37X...|20150106|     1|     0|     0|      0|      9|     10|  2326.174|\n",
      "|ccqIvziyLZs/Ivbob...|20150110|     1|     0|     0|      0|      6|      7|  1605.832|\n",
      "|xKKR50oC2MlZ0zd+o...|20150105|     3|     0|     0|      0|      0|      3|    70.019|\n",
      "|TUWjZbEJkEvyq8rv4...|20150131|     1|     0|     0|      0|      0|      1|    20.651|\n",
      "|k6F2zRxgWsYSNWHK2...|20150117|     3|     1|     0|      1|     10|     15|  3155.356|\n",
      "|dmvdNxpnayMipYpp0...|20150123|     2|     2|     0|      1|      8|     13|  2821.996|\n",
      "|7rP5PTRRZkv88mQaW...|20150129|     0|     0|     0|      0|      2|      2|   562.586|\n",
      "|bYBeBROvV+s0RZU2D...|20150115|     0|     0|     0|      0|      3|      3|   796.591|\n",
      "|416PJx00y8Xu2Dekh...|20150108|    10|     4|     4|      1|     27|     30|  8709.144|\n",
      "|mB+snLpBSX+YtaPt9...|20150113|   140|     9|     3|     10|     93|    186| 27705.927|\n",
      "|3b7gK9oqxxqc8Q05L...|20150108|    16|     1|     0|      1|    132|    135| 33631.914|\n",
      "|RZlcKWTntwjrN+eFm...|20150123|    48|    13|     5|      3|     75|    138| 21303.531|\n",
      "+--------------------+--------+------+------+------+-------+-------+-------+----------+\n",
      "only showing top 20 rows\n",
      "\n"
     ]
    }
   ],
   "source": [
    "df.show()"
   ]
  },
  {
   "cell_type": "markdown",
   "id": "5f5e568b-0dc7-443f-99d4-0505cad6cc33",
   "metadata": {
    "jp-MarkdownHeadingCollapsed": true
   },
   "source": [
    "# Transactions"
   ]
  },
  {
   "cell_type": "code",
   "execution_count": 3,
   "id": "8292be9d-c987-4f47-b20a-17919fd6a048",
   "metadata": {},
   "outputs": [
    {
     "name": "stderr",
     "output_type": "stream",
     "text": [
      "                                                                                "
     ]
    }
   ],
   "source": [
    "df_transactions = (spark.read\n",
    "      .option(\"header\", True)\n",
    "      .option(\"inferSchema\", True)\n",
    "      .csv(\"data/transactions.csv\"))"
   ]
  },
  {
   "cell_type": "code",
   "execution_count": 4,
   "id": "5a9675d5-8244-49df-9527-2ca2acd5c92d",
   "metadata": {},
   "outputs": [
    {
     "name": "stdout",
     "output_type": "stream",
     "text": [
      "+--------------------+-----------------+-----------------+---------------+------------------+-------------+----------------+----------------------+---------+\n",
      "|                msno|payment_method_id|payment_plan_days|plan_list_price|actual_amount_paid|is_auto_renew|transaction_date|membership_expire_date|is_cancel|\n",
      "+--------------------+-----------------+-----------------+---------------+------------------+-------------+----------------+----------------------+---------+\n",
      "|YyO+tlZtAXYXoZhNr...|               41|               30|            129|               129|            1|        20150930|              20151101|        0|\n",
      "|AZtu6Wl0gPojrEQYB...|               41|               30|            149|               149|            1|        20150930|              20151031|        0|\n",
      "|UkDFI97Qb6+s2LWci...|               41|               30|            129|               129|            1|        20150930|              20160427|        0|\n",
      "|M1C56ijxozNaGD0t2...|               39|               30|            149|               149|            1|        20150930|              20151128|        0|\n",
      "|yvj6zyBUaqdbUQSrK...|               39|               30|            149|               149|            1|        20150930|              20151121|        0|\n",
      "|KN7I82kjY0Tn76Ny9...|               21|               30|            149|               149|            1|        20150930|              20151107|        0|\n",
      "|m5ptKif9BjdUghHXX...|               39|               30|            149|               149|            1|        20150930|              20151128|        0|\n",
      "|uQxbyACsPOEkTIrv9...|               39|               30|            149|               149|            1|        20150930|              20151125|        0|\n",
      "|LUPRfoE2r3WwVWhYO...|               39|               30|            149|               149|            1|        20150930|              20151222|        0|\n",
      "|pMVjPLgVknaJYm9L0...|               39|               30|            149|               149|            1|        20150930|              20151118|        0|\n",
      "|bQkbrEPdMfVfdsoz0...|               39|               30|            149|               149|            1|        20150930|              20151121|        0|\n",
      "|TZVCT9pCufI/AWjrG...|               39|               30|            149|               149|            1|        20150930|              20151124|        0|\n",
      "|b2AiGMFhT6fbDyN12...|               39|               30|            149|               149|            1|        20150930|              20151117|        0|\n",
      "|ksInNb4D5jdSSIYUr...|               39|               30|            149|               149|            1|        20150930|              20151129|        0|\n",
      "|aQKXNflQtXF92cpv4...|               39|               30|            149|               149|            1|        20150930|              20151111|        0|\n",
      "|iFxPpElVK6kXnZbuh...|               39|               30|            149|               149|            1|        20150930|              20151122|        0|\n",
      "|8qrtRZQTuCih4YJhj...|               39|               30|            149|               149|            1|        20150930|              20151106|        0|\n",
      "|pE2FeJOBZv5snDGdF...|               39|               30|            149|               149|            1|        20150930|              20151114|        0|\n",
      "|vma4rQzDa/l4Wb/My...|               39|               30|            149|               149|            1|        20150930|              20151123|        0|\n",
      "|Qw6UVFUknPVOLxSSs...|               39|               30|            149|               149|            1|        20150930|              20151108|        0|\n",
      "+--------------------+-----------------+-----------------+---------------+------------------+-------------+----------------+----------------------+---------+\n",
      "only showing top 20 rows\n",
      "\n"
     ]
    }
   ],
   "source": [
    "df_transactions.show()"
   ]
  },
  {
   "cell_type": "code",
   "execution_count": 5,
   "id": "5450df58-9fc7-4c17-af85-5c7520048bcb",
   "metadata": {},
   "outputs": [
    {
     "name": "stderr",
     "output_type": "stream",
     "text": [
      "                                                                                "
     ]
    },
    {
     "data": {
      "text/plain": [
       "21547746"
      ]
     },
     "execution_count": 5,
     "metadata": {},
     "output_type": "execute_result"
    }
   ],
   "source": [
    "df_transactions.count()"
   ]
  },
  {
   "cell_type": "code",
   "execution_count": 6,
   "id": "82c47b67-1f78-4919-99df-a828fa78c305",
   "metadata": {},
   "outputs": [
    {
     "name": "stderr",
     "output_type": "stream",
     "text": [
      "[Stage 6:====================================================>    (12 + 1) / 13]"
     ]
    },
    {
     "name": "stdout",
     "output_type": "stream",
     "text": [
      "+----------+--------+\n",
      "|start_date|end_date|\n",
      "+----------+--------+\n",
      "|  20150101|20170228|\n",
      "+----------+--------+\n",
      "\n"
     ]
    },
    {
     "name": "stderr",
     "output_type": "stream",
     "text": [
      "                                                                                "
     ]
    }
   ],
   "source": [
    "from pyspark.sql import functions as F\n",
    "\n",
    "df_transactions.select(\n",
    "    F.min(\"transaction_date\").alias(\"start_date\"),\n",
    "    F.max(\"transaction_date\").alias(\"end_date\")\n",
    ").show()\n"
   ]
  },
  {
   "cell_type": "code",
   "execution_count": 7,
   "id": "5ab0881e-9c30-4009-bf30-49fdce9b50a6",
   "metadata": {},
   "outputs": [
    {
     "name": "stderr",
     "output_type": "stream",
     "text": [
      "                                                                                "
     ]
    }
   ],
   "source": [
    "df_transactions_v2 = (spark.read\n",
    "      .option(\"header\", True)\n",
    "      .option(\"inferSchema\", True)\n",
    "      .csv(\"data/transactions_v2.csv\"))"
   ]
  },
  {
   "cell_type": "code",
   "execution_count": 8,
   "id": "e6f9a82b-7587-4c7c-8a3d-5f75374776ca",
   "metadata": {},
   "outputs": [
    {
     "data": {
      "text/plain": [
       "1431009"
      ]
     },
     "execution_count": 8,
     "metadata": {},
     "output_type": "execute_result"
    }
   ],
   "source": [
    "df_transactions_v2.count()"
   ]
  },
  {
   "cell_type": "code",
   "execution_count": 56,
   "id": "b6515036-c725-47f3-828d-d7dd7b86e34e",
   "metadata": {},
   "outputs": [
    {
     "name": "stdout",
     "output_type": "stream",
     "text": [
      "+----------+--------+\n",
      "|start_date|end_date|\n",
      "+----------+--------+\n",
      "|  20150101|20170331|\n",
      "+----------+--------+\n",
      "\n"
     ]
    }
   ],
   "source": [
    "from pyspark.sql import functions as F\n",
    "\n",
    "df_transactions_v2.select(\n",
    "    F.min(\"transaction_date\").alias(\"start_date\"),\n",
    "    F.max(\"transaction_date\").alias(\"end_date\")\n",
    ").show()"
   ]
  },
  {
   "cell_type": "markdown",
   "id": "132dc6f1-7500-4bb9-9d52-9b9dd467fd94",
   "metadata": {},
   "source": [
    "# Members"
   ]
  },
  {
   "cell_type": "code",
   "execution_count": 3,
   "id": "9bb466f4-f30d-4ee8-8795-9c295e4add54",
   "metadata": {},
   "outputs": [
    {
     "name": "stderr",
     "output_type": "stream",
     "text": [
      "                                                                                "
     ]
    }
   ],
   "source": [
    "df_members = (spark.read\n",
    "      .option(\"header\", True)\n",
    "      .option(\"inferSchema\", True)\n",
    "      .parquet(\"datamart/bronze/members\"))"
   ]
  },
  {
   "cell_type": "code",
   "execution_count": 6,
   "id": "e37218cc-ffa9-4ecd-940b-b7ea9820e5ea",
   "metadata": {},
   "outputs": [
    {
     "name": "stderr",
     "output_type": "stream",
     "text": [
      "                                                                                "
     ]
    },
    {
     "name": "stdout",
     "output_type": "stream",
     "text": [
      "+--------------------+----+---+------+--------------+----------------------+----+-----+\n",
      "|                msno|city| bd|gender|registered_via|registration_init_time|year|month|\n",
      "+--------------------+----+---+------+--------------+----------------------+----+-----+\n",
      "|QJ9CySwCo+iomREZt...|  14| 23|female|             9|              20070318|2007|   03|\n",
      "|y7sBbp5P3iywwZ/uV...|  13| 28|  male|             9|              20070318|2007|   03|\n",
      "|tkHWaNHpDxbqhLj6f...|   6| 29|female|             9|              20070319|2007|   03|\n",
      "|PZs2zouRsd1AlSdGb...|  13| 47|female|             9|              20070320|2007|   03|\n",
      "|XS+J5kXqiIjEfBpQ3...|  15| 23|female|             9|              20070320|2007|   03|\n",
      "|l2+LvmYRptafj7Jnu...|   4| 30|female|             9|              20070322|2007|   03|\n",
      "|Dwtb8GfTATdc8AxVQ...|   1|  0|  NULL|             9|              20140711|2014|   07|\n",
      "|Yw3kUW6IO6tFrMErl...|   1|  0|  male|             3|              20140711|2014|   07|\n",
      "|cG2zXGAlh/Pnoxdlg...|   4| 27|  NULL|             9|              20140711|2014|   07|\n",
      "|msnHQkE8zNfWcjr+z...|   1|  0|  NULL|             3|              20140711|2014|   07|\n",
      "|uYzLx/ICMldufa+v2...|  11| 22|female|             3|              20140711|2014|   07|\n",
      "|Yc6M+4QSwHnrX0AhH...|   1|  0|  NULL|             3|              20140711|2014|   07|\n",
      "|NPqs1UOCwIvSfAJON...|   1|  0|  NULL|             9|              20140711|2014|   07|\n",
      "|Ns9YcgZGUUnYQx4um...|   1|  0|  NULL|             3|              20140712|2014|   07|\n",
      "|Bh1/QjpAigcHPQR4F...|   1|  0|  NULL|             9|              20140712|2014|   07|\n",
      "|PQjY9OqXwA8y19h5/...|   1|  0|  NULL|             3|              20140712|2014|   07|\n",
      "|LwHiv5zBCxn90xPQD...|   1|  0|  NULL|             3|              20140712|2014|   07|\n",
      "|sZZ0TO9hu5foUsmuZ...|   1|  0|  NULL|             4|              20170204|2017|   02|\n",
      "|+BtB89VMxmpB6BVAW...|   1|  0|  NULL|             3|              20140712|2014|   07|\n",
      "|FvpvPY9viB5msobxe...|   1|  0|  NULL|             3|              20140712|2014|   07|\n",
      "+--------------------+----+---+------+--------------+----------------------+----+-----+\n",
      "only showing top 20 rows\n",
      "\n"
     ]
    }
   ],
   "source": [
    "df_members.show(20)"
   ]
  },
  {
   "cell_type": "code",
   "execution_count": 7,
   "id": "be4e5692-49b2-4176-b03e-f21ba47abfea",
   "metadata": {},
   "outputs": [
    {
     "data": {
      "text/plain": [
       "6769473"
      ]
     },
     "execution_count": 7,
     "metadata": {},
     "output_type": "execute_result"
    }
   ],
   "source": [
    "df_members.count()"
   ]
  },
  {
   "cell_type": "code",
   "execution_count": 8,
   "id": "18b6d8aa-21a4-4287-ba1d-0e1ed9917f37",
   "metadata": {
    "scrolled": true
   },
   "outputs": [
    {
     "name": "stderr",
     "output_type": "stream",
     "text": [
      "[Stage 6:>                                                          (0 + 8) / 8]"
     ]
    },
    {
     "name": "stdout",
     "output_type": "stream",
     "text": [
      "+-----+-------+\n",
      "|   bd|  count|\n",
      "+-----+-------+\n",
      "|-7168|      1|\n",
      "|-6998|      1|\n",
      "|-6807|      1|\n",
      "|-6445|      1|\n",
      "|-5978|      1|\n",
      "|-3152|      1|\n",
      "|-2828|      1|\n",
      "|-1970|      1|\n",
      "| -974|      1|\n",
      "| -958|      1|\n",
      "| -956|      1|\n",
      "| -951|      1|\n",
      "| -540|      1|\n",
      "| -529|      1|\n",
      "| -527|      1|\n",
      "| -526|      2|\n",
      "| -525|      1|\n",
      "| -524|      1|\n",
      "| -523|      5|\n",
      "| -522|      2|\n",
      "| -521|      2|\n",
      "| -520|      1|\n",
      "| -519|      6|\n",
      "| -518|      5|\n",
      "| -517|      5|\n",
      "| -516|      6|\n",
      "| -515|      3|\n",
      "| -514|      4|\n",
      "| -513|      2|\n",
      "| -512|      1|\n",
      "| -511|      4|\n",
      "| -510|      4|\n",
      "| -509|      3|\n",
      "| -508|      2|\n",
      "| -507|      1|\n",
      "| -506|      3|\n",
      "| -505|      2|\n",
      "| -504|      4|\n",
      "| -503|      5|\n",
      "| -502|      1|\n",
      "| -501|      1|\n",
      "| -500|      2|\n",
      "| -498|      1|\n",
      "| -497|      1|\n",
      "| -496|      1|\n",
      "| -493|      1|\n",
      "| -489|      1|\n",
      "| -488|      1|\n",
      "| -484|      1|\n",
      "| -482|      1|\n",
      "| -178|      1|\n",
      "| -176|      1|\n",
      "|  -52|      4|\n",
      "|  -51|     18|\n",
      "|  -50|     13|\n",
      "|  -49|     16|\n",
      "|  -48|     19|\n",
      "|  -47|      6|\n",
      "|  -46|      8|\n",
      "|  -45|     10|\n",
      "|  -44|      9|\n",
      "|  -43|     12|\n",
      "|  -42|      9|\n",
      "|  -41|      6|\n",
      "|  -40|      5|\n",
      "|  -39|      3|\n",
      "|  -38|      5|\n",
      "|  -37|      3|\n",
      "|  -36|      5|\n",
      "|  -35|      1|\n",
      "|  -34|      2|\n",
      "|  -33|      2|\n",
      "|  -32|      1|\n",
      "|  -31|      1|\n",
      "|  -30|      1|\n",
      "|  -23|      2|\n",
      "|  -22|      2|\n",
      "|  -19|      1|\n",
      "|  -14|      1|\n",
      "|  -12|      1|\n",
      "|  -10|      1|\n",
      "|   -9|      1|\n",
      "|   -8|      1|\n",
      "|   -7|      1|\n",
      "|   -5|      1|\n",
      "|    0|4540215|\n",
      "|    1|     67|\n",
      "|    2|     37|\n",
      "|    3|     53|\n",
      "|    4|    108|\n",
      "|    5|    122|\n",
      "|    6|    170|\n",
      "|    7|    148|\n",
      "|    8|    113|\n",
      "|    9|     81|\n",
      "|   10|     97|\n",
      "|   11|    106|\n",
      "|   12|    199|\n",
      "|   13|    790|\n",
      "|   14|   5632|\n",
      "|   15|  16645|\n",
      "|   16|  42778|\n",
      "|   17|  82111|\n",
      "|   18|  90659|\n",
      "|   19|  91374|\n",
      "|   20| 110452|\n",
      "|   21| 110574|\n",
      "|   22| 112200|\n",
      "|   23| 101500|\n",
      "|   24|  97252|\n",
      "|   25|  91514|\n",
      "|   26|  92433|\n",
      "|   27| 102769|\n",
      "|   28|  82722|\n",
      "|   29|  82026|\n",
      "|   30|  70443|\n",
      "|   31|  62612|\n",
      "|   32|  64607|\n",
      "|   33|  58559|\n",
      "|   34|  55667|\n",
      "|   35|  53195|\n",
      "|   36|  51415|\n",
      "|   37|  54381|\n",
      "|   38|  42795|\n",
      "|   39|  38839|\n",
      "|   40|  35420|\n",
      "|   41|  33968|\n",
      "|   42|  28354|\n",
      "|   43|  25285|\n",
      "|   44|  22998|\n",
      "|   45|  21401|\n",
      "|   46|  20670|\n",
      "|   47|  22209|\n",
      "|   48|  17091|\n",
      "|   49|  15697|\n",
      "|   50|  13785|\n",
      "|   51|  13134|\n",
      "|   52|  11457|\n",
      "|   53|   9494|\n",
      "|   54|   8392|\n",
      "|   55|   7259|\n",
      "|   56|   6344|\n",
      "|   57|   5901|\n",
      "|   58|   4581|\n",
      "|   59|   4121|\n",
      "|   60|   3441|\n",
      "|   61|   3236|\n",
      "|   62|   3066|\n",
      "|   63|   2291|\n",
      "|   64|   1861|\n",
      "|   65|   1811|\n",
      "|   66|   1628|\n",
      "|   67|   1713|\n",
      "|   68|   1022|\n",
      "|   69|    813|\n",
      "|   70|    678|\n",
      "|   71|    534|\n",
      "|   72|    643|\n",
      "|   73|    509|\n",
      "|   74|    379|\n",
      "|   75|    294|\n",
      "|   76|    289|\n",
      "|   77|    279|\n",
      "|   78|    188|\n",
      "|   79|    187|\n",
      "|   80|    146|\n",
      "|   81|    166|\n",
      "|   82|    127|\n",
      "|   83|    159|\n",
      "|   84|    164|\n",
      "|   85|    123|\n",
      "|   86|    131|\n",
      "|   87|    186|\n",
      "|   88|    110|\n",
      "|   89|    152|\n",
      "|   90|    132|\n",
      "|   91|    180|\n",
      "|   92|    190|\n",
      "|   93|    251|\n",
      "|   94|    330|\n",
      "|   95|    373|\n",
      "|   96|    237|\n",
      "|   97|    323|\n",
      "|   98|    202|\n",
      "|   99|    114|\n",
      "|  100|    143|\n",
      "|  101|    291|\n",
      "|  102|    424|\n",
      "|  103|    449|\n",
      "|  104|    307|\n",
      "|  105|    205|\n",
      "|  106|    743|\n",
      "|  107|    290|\n",
      "|  108|     55|\n",
      "|  109|     80|\n",
      "|  110|     70|\n",
      "|  111|    257|\n",
      "|  112|   1309|\n",
      "|  113|      7|\n",
      "|  114|      5|\n",
      "|  115|     13|\n",
      "|  116|     54|\n",
      "|  117|    439|\n",
      "|  118|      2|\n",
      "|  119|      5|\n",
      "|  120|      3|\n",
      "|  121|      3|\n",
      "|  122|      5|\n",
      "|  123|      3|\n",
      "|  124|      1|\n",
      "|  125|      2|\n",
      "|  126|      5|\n",
      "|  128|      4|\n",
      "|  129|      4|\n",
      "|  130|      2|\n",
      "|  131|      2|\n",
      "|  132|      3|\n",
      "|  133|      2|\n",
      "|  136|      1|\n",
      "|  137|      2|\n",
      "|  138|      2|\n",
      "|  139|      2|\n",
      "|  140|      1|\n",
      "|  141|      2|\n",
      "|  143|      2|\n",
      "|  144|      2|\n",
      "|  148|      1|\n",
      "|  151|      2|\n",
      "|  153|      2|\n",
      "|  155|      1|\n",
      "|  160|      2|\n",
      "|  163|      1|\n",
      "|  164|      1|\n",
      "|  167|      1|\n",
      "|  183|      1|\n",
      "|  197|      1|\n",
      "|  217|      1|\n",
      "|  220|      4|\n",
      "|  222|      1|\n",
      "|  228|      1|\n",
      "|  230|      1|\n",
      "|  231|      1|\n",
      "|  232|      2|\n",
      "|  237|      1|\n",
      "|  240|      1|\n",
      "|  243|      1|\n",
      "|  244|      1|\n",
      "|  265|      1|\n",
      "|  319|      1|\n",
      "|  320|      2|\n",
      "|  321|      2|\n",
      "|  322|      1|\n",
      "|  323|      1|\n",
      "|  327|      1|\n",
      "|  328|      1|\n",
      "|  332|      2|\n",
      "|  334|      1|\n",
      "|  340|      1|\n",
      "|  353|      1|\n",
      "|  357|      1|\n",
      "|  386|      1|\n",
      "|  462|      1|\n",
      "|  519|      1|\n",
      "|  573|      1|\n",
      "|  584|      1|\n",
      "|  649|      1|\n",
      "|  685|      1|\n",
      "|  689|      1|\n",
      "|  743|      1|\n",
      "|  761|      1|\n",
      "|  778|      1|\n",
      "|  783|      1|\n",
      "|  786|      1|\n",
      "|  793|      1|\n",
      "|  806|      1|\n",
      "|  810|      1|\n",
      "|  819|      1|\n",
      "|  820|      2|\n",
      "|  821|      2|\n",
      "|  822|      1|\n",
      "|  823|      2|\n",
      "|  824|      2|\n",
      "|  825|      1|\n",
      "|  826|      1|\n",
      "|  827|      1|\n",
      "|  837|      1|\n",
      "|  906|      2|\n",
      "|  907|      1|\n",
      "|  919|      1|\n",
      "|  920|      1|\n",
      "|  922|      3|\n",
      "|  923|      1|\n",
      "|  924|      2|\n",
      "|  925|      1|\n",
      "|  926|      1|\n",
      "|  928|      2|\n",
      "|  929|      1|\n",
      "|  930|      2|\n",
      "|  931|      5|\n",
      "|  932|      2|\n",
      "|  933|      4|\n",
      "|  934|      1|\n",
      "|  935|      1|\n",
      "|  936|      6|\n",
      "|  937|      1|\n",
      "|  938|      4|\n",
      "|  939|      1|\n",
      "|  940|      1|\n",
      "|  941|      4|\n",
      "|  942|      6|\n",
      "|  943|      3|\n",
      "|  944|      4|\n",
      "|  945|      6|\n",
      "|  946|      4|\n",
      "|  947|      1|\n",
      "|  948|      4|\n",
      "|  949|      1|\n",
      "|  950|      4|\n",
      "|  951|      2|\n",
      "|  954|      1|\n",
      "|  955|      1|\n",
      "|  959|      1|\n",
      "|  961|      2|\n",
      "|  964|      1|\n",
      "|  994|      1|\n",
      "| 1008|      2|\n",
      "| 1009|      2|\n",
      "| 1011|      1|\n",
      "| 1013|      1|\n",
      "| 1017|      3|\n",
      "| 1018|      4|\n",
      "| 1019|      1|\n",
      "| 1021|      1|\n",
      "| 1022|      1|\n",
      "| 1025|      3|\n",
      "| 1026|      3|\n",
      "| 1028|      5|\n",
      "| 1029|      5|\n",
      "| 1030|      8|\n",
      "| 1031|      7|\n",
      "| 1032|     12|\n",
      "| 1033|     12|\n",
      "| 1034|      3|\n",
      "| 1035|      4|\n",
      "| 1036|      4|\n",
      "| 1037|      6|\n",
      "| 1038|      4|\n",
      "| 1039|      3|\n",
      "| 1040|      3|\n",
      "| 1041|      3|\n",
      "| 1042|      2|\n",
      "| 1043|      6|\n",
      "| 1044|      1|\n",
      "| 1045|      2|\n",
      "| 1046|      3|\n",
      "| 1048|      2|\n",
      "| 1049|      2|\n",
      "| 1050|      1|\n",
      "| 1051|      3|\n",
      "| 1052|      4|\n",
      "| 1053|      1|\n",
      "| 1056|      1|\n",
      "| 1058|      1|\n",
      "| 1061|      1|\n",
      "| 1062|      1|\n",
      "| 1064|      1|\n",
      "| 1089|      1|\n",
      "| 1111|      1|\n",
      "| 1213|      1|\n",
      "| 1309|      1|\n",
      "| 1421|      1|\n",
      "| 1501|      1|\n",
      "| 1819|      1|\n",
      "| 1820|      2|\n",
      "| 1821|      1|\n",
      "| 1937|      1|\n",
      "| 1946|      1|\n",
      "| 1949|      1|\n",
      "| 1954|      1|\n",
      "| 1958|      1|\n",
      "| 1968|      1|\n",
      "| 1970|      1|\n",
      "| 2009|      1|\n",
      "| 2011|      2|\n",
      "| 2014|      1|\n",
      "| 2016|      1|\n",
      "+-----+-------+\n",
      "\n"
     ]
    },
    {
     "name": "stderr",
     "output_type": "stream",
     "text": [
      "                                                                                "
     ]
    }
   ],
   "source": [
    "df_members.groupBy(\"bd\").count().orderBy(\"bd\").show(1000)"
   ]
  },
  {
   "cell_type": "code",
   "execution_count": 4,
   "id": "7444bf97-56ef-40fa-aae7-6852c3111556",
   "metadata": {},
   "outputs": [
    {
     "name": "stderr",
     "output_type": "stream",
     "text": [
      "                                                                                "
     ]
    },
    {
     "name": "stdout",
     "output_type": "stream",
     "text": [
      "+-------+----------+--------------+-----------+----------------+----------------+-------+--------+--------------+\n",
      "| n_rows|n_age_null|n_regdate_null|n_city_null|n_gender_unknown|n_gender_unknown| n_male|n_female|n_unknown_flag|\n",
      "+-------+----------+--------------+-----------+----------------+----------------+-------+--------+--------------+\n",
      "|6769473|   4556689|             0|          0|         4429505|         4429505|1195355| 1144613|       4429505|\n",
      "+-------+----------+--------------+-----------+----------------+----------------+-------+--------+--------------+\n",
      "\n",
      "🏙️ Top 5 city by frequency\n"
     ]
    },
    {
     "name": "stderr",
     "output_type": "stream",
     "text": [
      "                                                                                "
     ]
    },
    {
     "name": "stdout",
     "output_type": "stream",
     "text": [
      "+----------+--------------------+\n",
      "|city_clean|city_freq           |\n",
      "+----------+--------------------+\n",
      "|1         |0.7097045811751799  |\n",
      "|5         |0.05688315766983344 |\n",
      "|13        |0.047415507824558806|\n",
      "|4         |0.036464876955557016|\n",
      "|22        |0.031081740040747853|\n",
      "+----------+--------------------+\n",
      "\n",
      "📱 Top 5 registered_via by frequency\n"
     ]
    },
    {
     "name": "stderr",
     "output_type": "stream",
     "text": [
      "                                                                                "
     ]
    },
    {
     "name": "stdout",
     "output_type": "stream",
     "text": [
      "+--------------+--------------------+\n",
      "|registered_via|registered_via_freq |\n",
      "+--------------+--------------------+\n",
      "|4             |0.41261897343928855 |\n",
      "|3             |0.24273795021439126 |\n",
      "|9             |0.21905146826199465 |\n",
      "|7             |0.11904841041541657 |\n",
      "|11            |0.003699992599127816|\n",
      "+--------------+--------------------+\n",
      "\n"
     ]
    }
   ],
   "source": [
    "# ========= 0) Setup =========\n",
    "from pyspark.sql import functions as F\n",
    "\n",
    "SNAPSHOT_DATE_STR = \"2017-02-28\"   # cutoff cho train\n",
    "SNAPSHOT_YEAR     = 2017           # (không dùng nếu bạn giữ rule 14–68)\n",
    "\n",
    "# ========= 1) Field Format =========\n",
    "dfm = (\n",
    "    df_members\n",
    "      .withColumn(\"msno\", F.lower(F.trim(F.col(\"msno\"))))\n",
    "      .withColumn(\"city\", F.col(\"city\").cast(\"int\"))\n",
    "      .withColumn(\"bd\", F.col(\"bd\").cast(\"int\"))\n",
    "      .withColumn(\"gender\", F.lower(F.trim(F.col(\"gender\"))))\n",
    "      .withColumn(\"registered_via\", F.col(\"registered_via\").cast(\"int\"))\n",
    "      .withColumn(\"registration_init_time\", F.col(\"registration_init_time\").cast(\"string\"))\n",
    ")\n",
    "\n",
    "# ========= 2) Date =========\n",
    "dfm = dfm.withColumn(\n",
    "    \"registration_date\",\n",
    "    F.to_date(F.col(\"registration_init_time\"), \"yyyyMMdd\")\n",
    ")\n",
    "\n",
    "# ========= 3) City clean =========\n",
    "dfm = dfm.withColumn(\n",
    "    \"city_clean\",\n",
    "    F.when(F.col(\"city\") <= 0, None).otherwise(F.col(\"city\"))\n",
    ")\n",
    "\n",
    "# ========= 4.1) Gender clean =========\n",
    "dfm = dfm.withColumn(\n",
    "    \"gender_norm\",\n",
    "    F.when(F.col(\"gender\").isin(\"male\", \"female\"), F.col(\"gender\")).otherwise(F.lit(\"unknown\"))\n",
    ")\n",
    "\n",
    "# ========= 4.2) Gender one-hot =========\n",
    "dfm = (dfm\n",
    "    .drop(\"gender_male\",\"gender_female\",\"gender_unknown\")\n",
    "    .withColumn(\"gender_male\",    (F.col(\"gender_norm\")==\"male\").cast(\"int\"))\n",
    "    .withColumn(\"gender_female\",  (F.col(\"gender_norm\")==\"female\").cast(\"int\"))\n",
    "    .withColumn(\"gender_unknown\", (F.col(\"gender_norm\")==\"unknown\").cast(\"int\"))\n",
    ")\n",
    "\n",
    "# ========= 5) BD clean rule: 14–68 & count >= 1000 =========\n",
    "bd_hist = dfm.groupBy(\"bd\").agg(F.count(\"*\").alias(\"bd_count\"))\n",
    "dfm = (\n",
    "    dfm.join(bd_hist, on=\"bd\", how=\"left\")\n",
    "       .withColumn(\"bd_count\", F.coalesce(F.col(\"bd_count\"), F.lit(0)))\n",
    "       .withColumn(\n",
    "           \"bd_clean\",\n",
    "           F.when((F.col(\"bd\").between(14, 68)) & (F.col(\"bd_count\") >= 1000), F.col(\"bd\"))\n",
    "            .otherwise(F.lit(None).cast(\"int\"))\n",
    "       )\n",
    "       .drop(\"bd_count\")\n",
    ")\n",
    "\n",
    "\n",
    "# ========= 6) Tenure to cutoff =========\n",
    "dfm = dfm.withColumn(\n",
    "    \"tenure_days_at_snapshot\",\n",
    "    F.datediff(F.to_date(F.lit(SNAPSHOT_DATE_STR)), F.col(\"registration_date\"))\n",
    ")\n",
    "\n",
    "# ========= 7) Frequency enrich (Silver+) =========\n",
    "# 7a) registered_via frequency\n",
    "total_cnt = dfm.count()  # nếu bảng rất lớn, có thể approx bằng sample ratio\n",
    "via_freq = (\n",
    "    dfm.groupBy(\"registered_via\")\n",
    "       .agg((F.count(\"*\") / F.lit(total_cnt)).alias(\"registered_via_freq\"))\n",
    ")\n",
    "\n",
    "# 7b) city frequency\n",
    "city_freq = (\n",
    "    dfm.groupBy(\"city_clean\")\n",
    "       .agg((F.count(\"*\") / F.lit(total_cnt)).alias(\"city_freq\"))\n",
    ")\n",
    "\n",
    "# 7c) Join freq\n",
    "dfm = (\n",
    "    dfm.drop(\"registered_via_freq\", \"city_freq\")\n",
    "       .join(via_freq, on=\"registered_via\", how=\"left\")\n",
    "       .join(city_freq, on=\"city_clean\",  how=\"left\")\n",
    "       .fillna({\"registered_via_freq\": 0.0, \"city_freq\": 0.0})\n",
    ")\n",
    "\n",
    "# ========= 8) SILVER (clean + enrich) =========\n",
    "silver_cols = [\n",
    "    \"msno\",\n",
    "    \"city_clean\",\n",
    "    \"bd_clean\",\n",
    "    \"gender_norm\", \"gender_male\",\"gender_female\",\"gender_unknown\",\n",
    "    \"registered_via\",\n",
    "    \"registration_date\",\n",
    "    \"tenure_days_at_snapshot\",\n",
    "    \"registered_via_freq\",\n",
    "    \"city_freq\"\n",
    "]\n",
    "silver_members = dfm.select(*silver_cols)\n",
    "\n",
    "# ========= 9) QC =========\n",
    "silver_members.selectExpr(\n",
    "    \"count(*) as n_rows\",\n",
    "    \"sum(case when bd_clean is null then 1 else 0 end) as n_age_null\",\n",
    "    \"sum(case when registration_date is null then 1 else 0 end) as n_regdate_null\",\n",
    "    \"sum(case when city_clean is null then 1 else 0 end) as n_city_null\",\n",
    "    \"sum(case when gender_norm = 'unknown' then 1 else 0 end) as n_gender_unknown\",\n",
    "    \"sum(case when gender_norm = 'unknown' then 1 else 0 end) as n_gender_unknown\",\n",
    "    \"sum(gender_male) as n_male\",\n",
    "    \"sum(gender_female) as n_female\",\n",
    "    \"sum(gender_unknown) as n_unknown_flag\"\n",
    ").show()\n",
    "\n",
    "# ========= 10) In top-5 frequency =========\n",
    "print(\"🏙️ Top 5 city by frequency\")\n",
    "(silver_members.groupBy(\"city_clean\")\n",
    "               .agg(F.avg(\"city_freq\").alias(\"city_freq\"))\n",
    "               .orderBy(F.desc(\"city_freq\"))\n",
    "               .limit(5)\n",
    "               .show(truncate=False))\n",
    "\n",
    "print(\"📱 Top 5 registered_via by frequency\")\n",
    "(silver_members.groupBy(\"registered_via\")\n",
    "               .agg(F.avg(\"registered_via_freq\").alias(\"registered_via_freq\"))\n",
    "               .orderBy(F.desc(\"registered_via_freq\"))\n",
    "               .limit(5)\n",
    "               .show(truncate=False))"
   ]
  },
  {
   "cell_type": "code",
   "execution_count": 9,
   "id": "79516d0b-ffb3-4095-914f-a8d7e3891b72",
   "metadata": {},
   "outputs": [
    {
     "name": "stderr",
     "output_type": "stream",
     "text": [
      "[Stage 54:>                 (0 + 1) / 1][Stage 56:>                 (0 + 1) / 1]"
     ]
    },
    {
     "name": "stdout",
     "output_type": "stream",
     "text": [
      "+--------------------+----------+--------+-----------+-----------+-------------+--------------+--------------+-----------------+-----------------------+-------------------+--------------------+\n",
      "|                msno|city_clean|bd_clean|gender_norm|gender_male|gender_female|gender_unknown|registered_via|registration_date|tenure_days_at_snapshot|registered_via_freq|           city_freq|\n",
      "+--------------------+----------+--------+-----------+-----------+-------------+--------------+--------------+-----------------+-----------------------+-------------------+--------------------+\n",
      "|y7sbbp5p3iywwz/uv...|        13|      28|       male|          1|            0|             0|             9|       2007-03-18|                   3635|0.21905146826052782| 0.04741550782461205|\n",
      "|cg2zxgalh/pnoxdlg...|         4|      27|    unknown|          0|            0|             1|             9|       2014-07-11|                    963|0.21905146826052782|0.036464876955709845|\n",
      "|uyzlx/icmldufa+v2...|        11|      22|     female|          0|            1|             0|             3|       2014-07-11|                    963| 0.2427379502067591|0.007015169423085...|\n",
      "|pzs2zoursd1alsdgb...|        13|      47|     female|          0|            1|             0|             9|       2007-03-20|                   3633|0.21905146826052782| 0.04741550782461205|\n",
      "|qj9cyswco+iomrezt...|        14|      23|     female|          0|            1|             0|             9|       2007-03-18|                   3635|0.21905146826052782|0.013286115477526833|\n",
      "|xs+j5kxqiijefbpq3...|        15|      23|     female|          0|            1|             0|             9|       2007-03-20|                   3633|0.21905146826052782|0.028098642242904284|\n",
      "|tkhwanhpdxbqhlj6f...|         6|      29|     female|          0|            1|             0|             9|       2007-03-19|                   3634|0.21905146826052782| 0.01997201259241303|\n",
      "|l2+lvmyrptafj7jnu...|         4|      30|     female|          0|            1|             0|             9|       2007-03-22|                   3631|0.21905146826052782|0.036464876955709845|\n",
      "|dwtb8gftatdc8axvq...|         1|    NULL|    unknown|          0|            0|             1|             9|       2014-07-11|                    963|0.21905146826052782|  0.7097045811394772|\n",
      "|yw3kuw6io6tfrmerl...|         1|    NULL|       male|          1|            0|             0|             3|       2014-07-11|                    963| 0.2427379502067591|  0.7097045811394772|\n",
      "|msnhqke8znfwcjr+z...|         1|    NULL|    unknown|          0|            0|             1|             3|       2014-07-11|                    963| 0.2427379502067591|  0.7097045811394772|\n",
      "|yc6m+4qswhnrx0ahh...|         1|    NULL|    unknown|          0|            0|             1|             3|       2014-07-11|                    963| 0.2427379502067591|  0.7097045811394772|\n",
      "|npqs1uocwivsfajon...|         1|    NULL|    unknown|          0|            0|             1|             9|       2014-07-11|                    963|0.21905146826052782|  0.7097045811394772|\n",
      "|ns9ycgzguunyqx4um...|         1|    NULL|    unknown|          0|            0|             1|             3|       2014-07-12|                    962| 0.2427379502067591|  0.7097045811394772|\n",
      "|bh1/qjpaigchpqr4f...|         1|    NULL|    unknown|          0|            0|             1|             9|       2014-07-12|                    962|0.21905146826052782|  0.7097045811394772|\n",
      "|pqjy9oqxwa8y19h5/...|         1|    NULL|    unknown|          0|            0|             1|             3|       2014-07-12|                    962| 0.2427379502067591|  0.7097045811394772|\n",
      "|lwhiv5zbcxn90xpqd...|         1|    NULL|    unknown|          0|            0|             1|             3|       2014-07-12|                    962| 0.2427379502067591|  0.7097045811394772|\n",
      "|szz0to9hu5fousmuz...|         1|    NULL|    unknown|          0|            0|             1|             4|       2017-02-04|                     24|0.41261897344150716|  0.7097045811394772|\n",
      "|+btb89vmxmpb6bvaw...|         1|    NULL|    unknown|          0|            0|             1|             3|       2014-07-12|                    962| 0.2427379502067591|  0.7097045811394772|\n",
      "|fvpvpy9vib5msobxe...|         1|    NULL|    unknown|          0|            0|             1|             3|       2014-07-12|                    962| 0.2427379502067591|  0.7097045811394772|\n",
      "+--------------------+----------+--------+-----------+-----------+-------------+--------------+--------------+-----------------+-----------------------+-------------------+--------------------+\n",
      "only showing top 20 rows\n",
      "\n"
     ]
    },
    {
     "name": "stderr",
     "output_type": "stream",
     "text": [
      "                                                                                "
     ]
    }
   ],
   "source": [
    "silver_members.show(20)"
   ]
  },
  {
   "cell_type": "code",
   "execution_count": null,
   "id": "9a551931-8c6e-40d1-8858-71c600199f51",
   "metadata": {},
   "outputs": [],
   "source": [
    "# ----- Layer 2 -------"
   ]
  },
  {
   "cell_type": "code",
   "execution_count": 5,
   "id": "0dc48c12-6a8f-4b5b-96f5-a758c7b42126",
   "metadata": {},
   "outputs": [],
   "source": [
    "from pyspark.sql import functions as F\n",
    "\n",
    "cols_to_drop = [c for c in [\n",
    "    \"bd\", \"bd_clean\",\n",
    "    \"gender\", \"gender_norm\",\n",
    "    \"gender_male\", \"gender_female\",\n",
    "    \"gender_unknown\", \"gender_unknown_flag\"\n",
    "] if c in silver_members.columns]\n",
    "\n",
    "df2 = silver_members.drop(*cols_to_drop)"
   ]
  },
  {
   "cell_type": "code",
   "execution_count": 6,
   "id": "1701b46c-5adf-4f7f-a03b-cdde6fb1b452",
   "metadata": {},
   "outputs": [],
   "source": [
    "df2 = df2.withColumn(\"city_clean\", F.col(\"city_clean\").cast(\"string\"))"
   ]
  },
  {
   "cell_type": "code",
   "execution_count": 7,
   "id": "d0ceeb3a-102e-468b-b0a6-bfdbd1bb122e",
   "metadata": {},
   "outputs": [],
   "source": [
    "if \"registered_via\" in df2.columns:\n",
    "    df2 = df2.withColumn(\"registered_via\", F.col(\"registered_via\").cast(\"string\"))"
   ]
  },
  {
   "cell_type": "code",
   "execution_count": 8,
   "id": "d849405a-6ef0-4a15-9798-e358b7b78320",
   "metadata": {},
   "outputs": [
    {
     "name": "stderr",
     "output_type": "stream",
     "text": [
      "                                                                                "
     ]
    }
   ],
   "source": [
    "from pyspark.ml.feature import StringIndexer, OneHotEncoder\n",
    "from pyspark.ml import Pipeline\n",
    "\n",
    "pipe_silver = Pipeline(stages=[\n",
    "    StringIndexer(inputCol=\"city_clean\",      outputCol=\"city_idx\", handleInvalid=\"keep\"),\n",
    "    StringIndexer(inputCol=\"registered_via\",  outputCol=\"via_idx\",  handleInvalid=\"keep\"),\n",
    "    OneHotEncoder(inputCols=[\"city_idx\",\"via_idx\"], outputCols=[\"city_oh\",\"via_oh\"], dropLast=True)\n",
    "])\n",
    "\n",
    "sil_model = pipe_silver.fit(df2)\n",
    "df_silver = (sil_model.transform(df2)\n",
    "             .select(*df2.columns, \"city_idx\",\"via_idx\",\"city_oh\",\"via_oh\"))"
   ]
  },
  {
   "cell_type": "code",
   "execution_count": 9,
   "id": "c6bc01bb-c4ca-4b36-9dbc-6b4387ca504b",
   "metadata": {},
   "outputs": [
    {
     "name": "stdout",
     "output_type": "stream",
     "text": [
      "root\n",
      " |-- msno: string (nullable = true)\n",
      " |-- city_clean: string (nullable = true)\n",
      " |-- registered_via: string (nullable = true)\n",
      " |-- registration_date: date (nullable = true)\n",
      " |-- tenure_days_at_snapshot: integer (nullable = true)\n",
      " |-- registered_via_freq: double (nullable = false)\n",
      " |-- city_freq: double (nullable = false)\n",
      " |-- city_idx: double (nullable = false)\n",
      " |-- via_idx: double (nullable = false)\n",
      " |-- city_oh: vector (nullable = true)\n",
      " |-- via_oh: vector (nullable = true)\n",
      "\n"
     ]
    },
    {
     "name": "stderr",
     "output_type": "stream",
     "text": [
      "                                                                                "
     ]
    },
    {
     "name": "stdout",
     "output_type": "stream",
     "text": [
      "+-------+-----------+----------+\n",
      "| n_rows|n_city_null|n_via_null|\n",
      "+-------+-----------+----------+\n",
      "|6769473|          0|         0|\n",
      "+-------+-----------+----------+\n",
      "\n",
      "+----------+--------+--------------+--------------+-------+--------------+\n",
      "|city_clean|city_idx|city_oh       |registered_via|via_idx|via_oh        |\n",
      "+----------+--------+--------------+--------------+-------+--------------+\n",
      "|14        |7.0     |(21,[7],[1.0])|9             |2.0    |(18,[2],[1.0])|\n",
      "|13        |2.0     |(21,[2],[1.0])|9             |2.0    |(18,[2],[1.0])|\n",
      "|6         |6.0     |(21,[6],[1.0])|9             |2.0    |(18,[2],[1.0])|\n",
      "|13        |2.0     |(21,[2],[1.0])|9             |2.0    |(18,[2],[1.0])|\n",
      "|15        |5.0     |(21,[5],[1.0])|9             |2.0    |(18,[2],[1.0])|\n",
      "+----------+--------+--------------+--------------+-------+--------------+\n",
      "\n"
     ]
    },
    {
     "name": "stderr",
     "output_type": "stream",
     "text": [
      "                                                                                "
     ]
    },
    {
     "name": "stdout",
     "output_type": "stream",
     "text": [
      "+--------------------------------------------+----------+--------------+-----------------+-----------------------+--------------------+------------------+--------+-------+--------------+---------------+\n",
      "|msno                                        |city_clean|registered_via|registration_date|tenure_days_at_snapshot|registered_via_freq |city_freq         |city_idx|via_idx|city_oh       |via_oh         |\n",
      "+--------------------------------------------+----------+--------------+-----------------+-----------------------+--------------------+------------------+--------+-------+--------------+---------------+\n",
      "|grugjyjs++wxah75n0kcpxr4qf9hb9mv0hbm1wkzfji=|1         |1             |2016-06-08       |265                    |6.352045425101776E-6|0.7097045811394772|0.0     |14.0   |(21,[0],[1.0])|(18,[14],[1.0])|\n",
      "|yxl0onnyqtkz3aio+e+3hqjia3kvyglhes9+pfpsspg=|1         |1             |2016-07-26       |217                    |6.352045425101776E-6|0.7097045811394772|0.0     |14.0   |(21,[0],[1.0])|(18,[14],[1.0])|\n",
      "|jnw5itaephaofmnkxbceurgp22jqdcchskgn3at8uzo=|1         |1             |2016-09-28       |153                    |6.352045425101776E-6|0.7097045811394772|0.0     |14.0   |(21,[0],[1.0])|(18,[14],[1.0])|\n",
      "|hy7hzet8vdxgjsxyeef9jdeuoggtbcu24cmk0o6q5ki=|1         |1             |2016-06-17       |256                    |6.352045425101776E-6|0.7097045811394772|0.0     |14.0   |(21,[0],[1.0])|(18,[14],[1.0])|\n",
      "|xlr5ekrdolykn3tusa2ptfpo8tcbeqwt1cltoj+8+qa=|1         |13            |2016-11-12       |108                    |8.05823437068144E-4 |0.7097045811394772|0.0     |5.0    |(21,[0],[1.0])|(18,[5],[1.0]) |\n",
      "|yohkfwts0bhbixxzo/ji46rspscai2rjrvjuwnfeh0u=|1         |13            |2016-11-22       |98                     |8.05823437068144E-4 |0.7097045811394772|0.0     |5.0    |(21,[0],[1.0])|(18,[5],[1.0]) |\n",
      "|zi7a3yqd/5sj/wrenhrxjyfiwsejyelo9fkglc/koq4=|1         |13            |2017-03-11       |-11                    |8.05823437068144E-4 |0.7097045811394772|0.0     |5.0    |(21,[0],[1.0])|(18,[5],[1.0]) |\n",
      "|f+g5iw4+w7up0iuyxlbviyk2kt8obtjupllflnvnzew=|1         |13            |2017-03-14       |-14                    |8.05823437068144E-4 |0.7097045811394772|0.0     |5.0    |(21,[0],[1.0])|(18,[5],[1.0]) |\n",
      "|iintxhevulupexwb2mhzwsfruic8q/kd5e0hxme/prw=|1         |13            |2016-12-03       |87                     |8.05823437068144E-4 |0.7097045811394772|0.0     |5.0    |(21,[0],[1.0])|(18,[5],[1.0]) |\n",
      "|jpojjiyjrsek3svtc3kzsyddoyzbqox/hwla/+0ai20=|1         |13            |2016-12-04       |86                     |8.05823437068144E-4 |0.7097045811394772|0.0     |5.0    |(21,[0],[1.0])|(18,[5],[1.0]) |\n",
      "+--------------------------------------------+----------+--------------+-----------------+-----------------------+--------------------+------------------+--------+-------+--------------+---------------+\n",
      "\n"
     ]
    }
   ],
   "source": [
    "df_silver.printSchema()\n",
    "df_silver.selectExpr(\n",
    "    \"count(*) as n_rows\",\n",
    "    \"sum(case when city_clean is null then 1 else 0 end) as n_city_null\",\n",
    "    \"sum(case when registered_via is null then 1 else 0 end) as n_via_null\"\n",
    ").show()\n",
    "\n",
    "df_silver.select(\"city_clean\",\"city_idx\",\"city_oh\",\n",
    "                 \"registered_via\",\"via_idx\",\"via_oh\").limit(5).show(truncate=False)\n",
    "\n",
    "df_silver.limit(10).show(truncate=False)"
   ]
  },
  {
   "cell_type": "code",
   "execution_count": 10,
   "id": "93ed8df2-b305-4ee1-a2d2-85294e278913",
   "metadata": {},
   "outputs": [
    {
     "name": "stderr",
     "output_type": "stream",
     "text": [
      "                                                                                "
     ]
    },
    {
     "name": "stdout",
     "output_type": "stream",
     "text": [
      "✅ Silver layer saved to datamart/silver/members\n"
     ]
    }
   ],
   "source": [
    "from pyspark.sql import SparkSession\n",
    "spark = SparkSession.builder.getOrCreate()\n",
    "\n",
    "output_path = \"datamart/silver/members\"\n",
    "\n",
    "(\n",
    "    df_silver\n",
    "      .coalesce(10)             # tùy: giảm số file output, nếu local có thể coalesce(10)\n",
    "      .write\n",
    "      .mode(\"overwrite\")         # ghi đè nếu có\n",
    "      .option(\"compression\", \"snappy\")\n",
    "      .parquet(output_path)\n",
    ")\n",
    "\n",
    "print(f\"✅ Silver layer saved to {output_path}\")"
   ]
  },
  {
   "cell_type": "markdown",
   "id": "1264c7e1-d5a1-4f0e-a996-978588cd63d0",
   "metadata": {
    "jp-MarkdownHeadingCollapsed": true
   },
   "source": [
    "# Train"
   ]
  },
  {
   "cell_type": "code",
   "execution_count": 61,
   "id": "3e714473-bf0b-4702-bf05-ddd60ceee877",
   "metadata": {},
   "outputs": [],
   "source": [
    "df_train = (spark.read\n",
    "      .option(\"header\", True)\n",
    "      .option(\"inferSchema\", True)\n",
    "      .csv(\"data/train.csv\"))"
   ]
  },
  {
   "cell_type": "code",
   "execution_count": 62,
   "id": "11cf6904-d634-4c63-931f-cc3400b7a0ff",
   "metadata": {},
   "outputs": [
    {
     "name": "stdout",
     "output_type": "stream",
     "text": [
      "+--------------------+--------+\n",
      "|                msno|is_churn|\n",
      "+--------------------+--------+\n",
      "|waLDQMmcOu2jLDaV1...|       1|\n",
      "|QA7uiXy8vIbUSPOkC...|       1|\n",
      "|fGwBva6hikQmTJzrb...|       1|\n",
      "|mT5V8rEpa+8wuqi6x...|       1|\n",
      "|XaPhtGLk/5UvvOYHc...|       1|\n",
      "|GBy8qSz16X5iYWD+3...|       1|\n",
      "|lYLh7TdkWpIoQs3i3...|       1|\n",
      "|T0FF6lumjKcqEO0O+...|       1|\n",
      "|Nb1ZGEmagQeba5E+n...|       1|\n",
      "|MkuWz0Nq6/Oq5fKqR...|       1|\n",
      "|I8dFN2EjFN1mt4Xel...|       1|\n",
      "|0Ip2rzeoa44alqEw3...|       1|\n",
      "|piVhWxrWDmiNQFY6x...|       1|\n",
      "|wEUOkYvyz3xTOx2p9...|       1|\n",
      "|xt4EjWRyXBMgEgKBJ...|       1|\n",
      "|QS3ob4zLlWcWzBIlb...|       1|\n",
      "|9iW/UpqRoviya9CQh...|       1|\n",
      "|d7QVMhAzjj4yc1Ojj...|       1|\n",
      "|uV7rJjHPrpNssDMmY...|       1|\n",
      "|TZxhkfZ9NwxqnUrNs...|       1|\n",
      "+--------------------+--------+\n",
      "only showing top 20 rows\n",
      "\n"
     ]
    }
   ],
   "source": [
    "df_train.show()"
   ]
  },
  {
   "cell_type": "code",
   "execution_count": 63,
   "id": "3ca70938-0fef-49a0-9b1e-734a721b6f3d",
   "metadata": {},
   "outputs": [
    {
     "data": {
      "text/plain": [
       "992931"
      ]
     },
     "execution_count": 63,
     "metadata": {},
     "output_type": "execute_result"
    }
   ],
   "source": [
    "df_train.count()"
   ]
  },
  {
   "cell_type": "code",
   "execution_count": 64,
   "id": "7c67f434-5ebc-435c-b182-55e6c68022ba",
   "metadata": {},
   "outputs": [
    {
     "name": "stderr",
     "output_type": "stream",
     "text": [
      "                                                                                "
     ]
    }
   ],
   "source": [
    "df_train_v2 = (spark.read\n",
    "      .option(\"header\", True)\n",
    "      .option(\"inferSchema\", True)\n",
    "      .csv(\"data/train_v2.csv\"))"
   ]
  },
  {
   "cell_type": "code",
   "execution_count": 66,
   "id": "b6f55ece-5fe1-47b5-ada6-7eab484014b7",
   "metadata": {},
   "outputs": [
    {
     "data": {
      "text/plain": [
       "970960"
      ]
     },
     "execution_count": 66,
     "metadata": {},
     "output_type": "execute_result"
    }
   ],
   "source": [
    "df_train_v2.count()"
   ]
  },
  {
   "cell_type": "code",
   "execution_count": 9,
   "id": "5249016b-b11f-4c40-baa3-5f10152b6f19",
   "metadata": {},
   "outputs": [
    {
     "ename": "NameError",
     "evalue": "name 'df_members' is not defined",
     "output_type": "error",
     "traceback": [
      "\u001b[31m---------------------------------------------------------------------------\u001b[39m",
      "\u001b[31mNameError\u001b[39m                                 Traceback (most recent call last)",
      "\u001b[36mCell\u001b[39m\u001b[36m \u001b[39m\u001b[32mIn[9]\u001b[39m\u001b[32m, line 1\u001b[39m\n\u001b[32m----> \u001b[39m\u001b[32m1\u001b[39m \u001b[43mdf_members\u001b[49m.head()\n",
      "\u001b[31mNameError\u001b[39m: name 'df_members' is not defined"
     ]
    }
   ],
   "source": [
    "df_members.head()"
   ]
  },
  {
   "cell_type": "code",
   "execution_count": null,
   "id": "51668a49-4d44-4501-9ba3-6d20b25cafee",
   "metadata": {},
   "outputs": [],
   "source": [
    "df_train_v2.show()"
   ]
  },
  {
   "cell_type": "code",
   "execution_count": 1,
   "id": "a9a81ded-bdfa-4ab0-b985-5398553505fe",
   "metadata": {},
   "outputs": [
    {
     "ename": "NameError",
     "evalue": "name 'df_train_v2' is not defined",
     "output_type": "error",
     "traceback": [
      "\u001b[31m---------------------------------------------------------------------------\u001b[39m",
      "\u001b[31mNameError\u001b[39m                                 Traceback (most recent call last)",
      "\u001b[36mCell\u001b[39m\u001b[36m \u001b[39m\u001b[32mIn[1]\u001b[39m\u001b[32m, line 1\u001b[39m\n\u001b[32m----> \u001b[39m\u001b[32m1\u001b[39m \u001b[43mdf_train_v2\u001b[49m.show(\u001b[32m5\u001b[39m)\n",
      "\u001b[31mNameError\u001b[39m: name 'df_train_v2' is not defined"
     ]
    }
   ],
   "source": [
    "df_train_v2.show(5)"
   ]
  }
 ],
 "metadata": {
  "kernelspec": {
   "display_name": "Python 3 (ipykernel)",
   "language": "python",
   "name": "python3"
  },
  "language_info": {
   "codemirror_mode": {
    "name": "ipython",
    "version": 3
   },
   "file_extension": ".py",
   "mimetype": "text/x-python",
   "name": "python",
   "nbconvert_exporter": "python",
   "pygments_lexer": "ipython3",
   "version": "3.12.12"
  }
 },
 "nbformat": 4,
 "nbformat_minor": 5
}
