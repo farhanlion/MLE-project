{
 "cells": [
  {
   "cell_type": "code",
   "execution_count": 1,
   "id": "36a9dcd2-e6e1-420e-bd33-41ff6175cd02",
   "metadata": {},
   "outputs": [],
   "source": [
    "import os\n",
    "import glob\n",
    "import pandas as pd\n",
    "import matplotlib.pyplot as plt\n",
    "import numpy as np\n",
    "import random\n",
    "from datetime import datetime, timedelta\n",
    "from dateutil.relativedelta import relativedelta\n",
    "import pprint\n",
    "import pyspark\n",
    "import pyspark.sql.functions as F\n",
    "\n",
    "from pyspark.sql.functions import to_date, col, lit\n",
    "from pyspark.sql.types import StringType, IntegerType, FloatType, DateType"
   ]
  },
  {
   "cell_type": "code",
   "execution_count": 2,
   "id": "da2a53b4-11bd-4434-a538-a3c90cb5e453",
   "metadata": {},
   "outputs": [
    {
     "name": "stderr",
     "output_type": "stream",
     "text": [
      "Setting default log level to \"WARN\".\n",
      "To adjust logging level use sc.setLogLevel(newLevel). For SparkR, use setLogLevel(newLevel).\n",
      "25/10/29 06:54:11 WARN NativeCodeLoader: Unable to load native-hadoop library for your platform... using builtin-java classes where applicable\n",
      "25/10/29 06:54:12 WARN Utils: Service 'SparkUI' could not bind on port 4040. Attempting port 4041.\n",
      "25/10/29 06:54:12 WARN Utils: Service 'SparkUI' could not bind on port 4041. Attempting port 4042.\n"
     ]
    }
   ],
   "source": [
    "# Initialize SparkSession\n",
    "spark = pyspark.sql.SparkSession.builder \\\n",
    "    .appName(\"dev\") \\\n",
    "    .config(\"spark.driver.memory\", \"4g\") \\\n",
    "    .master(\"local[*]\") \\\n",
    "    .getOrCreate()\n",
    "# Set log level to ERROR to hide warnings\n",
    "spark.sparkContext.setLogLevel(\"ERROR\")"
   ]
  },
  {
   "cell_type": "markdown",
   "id": "a1891990-15ae-45a5-b259-d757e2484123",
   "metadata": {},
   "source": [
    "# Gold label store"
   ]
  },
  {
   "cell_type": "code",
   "execution_count": 3,
   "id": "c4cd3400-04f2-43b4-a091-20c3f28cfd23",
   "metadata": {},
   "outputs": [],
   "source": [
    "df_members = (spark.read\n",
    "      .option(\"header\", True)\n",
    "      .option(\"inferSchema\", True)\n",
    "      .parquet(\"datamart/silver/members\"))"
   ]
  },
  {
   "cell_type": "code",
   "execution_count": 4,
   "id": "885f8755-ff92-4810-bbc6-c1b28ba2cb18",
   "metadata": {},
   "outputs": [
    {
     "name": "stderr",
     "output_type": "stream",
     "text": [
      "                                                                                "
     ]
    },
    {
     "name": "stdout",
     "output_type": "stream",
     "text": [
      "+--------------------+----------+--------------+-----------------+-----------------------+--------------------+------------------+--------+-------+--------------+---------------+\n",
      "|                msno|city_clean|registered_via|registration_date|tenure_days_at_snapshot| registered_via_freq|         city_freq|city_idx|via_idx|       city_oh|         via_oh|\n",
      "+--------------------+----------+--------------+-----------------+-----------------------+--------------------+------------------+--------+-------+--------------+---------------+\n",
      "|Z1SBrlbnzZzQZtlS3...|         1|             1|       2016-06-12|                    261|6.352045425101776E-6|0.7097045811394772|     0.0|   14.0|(21,[0],[1.0])|(18,[14],[1.0])|\n",
      "|2GkgHuwB+NCVnpSRS...|         1|             1|       2016-01-19|                    406|6.352045425101776E-6|0.7097045811394772|     0.0|   14.0|(21,[0],[1.0])|(18,[14],[1.0])|\n",
      "|X1AmJaNJ1bpGEgxLv...|         1|            13|       2016-12-27|                     63| 8.05823437068144E-4|0.7097045811394772|     0.0|    5.0|(21,[0],[1.0])| (18,[5],[1.0])|\n",
      "|bJrFIXFymwWPhavSK...|         1|            13|       2017-01-14|                     45| 8.05823437068144E-4|0.7097045811394772|     0.0|    5.0|(21,[0],[1.0])| (18,[5],[1.0])|\n",
      "|nq+4KRKNWTQkH9VNA...|         1|            13|       2017-02-01|                     27| 8.05823437068144E-4|0.7097045811394772|     0.0|    5.0|(21,[0],[1.0])| (18,[5],[1.0])|\n",
      "+--------------------+----------+--------------+-----------------+-----------------------+--------------------+------------------+--------+-------+--------------+---------------+\n",
      "only showing top 5 rows\n",
      "\n"
     ]
    }
   ],
   "source": [
    "df_members.show(5)"
   ]
  },
  {
   "cell_type": "code",
   "execution_count": 18,
   "id": "81b554e8-26db-42ce-bead-e99b760980ef",
   "metadata": {},
   "outputs": [],
   "source": [
    "df_transactions = (spark.read\n",
    "      .option(\"header\", True)\n",
    "      .option(\"inferSchema\", True)\n",
    "      .parquet(\"datamart/silver/transactions\"))"
   ]
  },
  {
   "cell_type": "code",
   "execution_count": 19,
   "id": "ebc3a00c-42ff-401e-b579-7dd165813a4f",
   "metadata": {},
   "outputs": [
    {
     "name": "stdout",
     "output_type": "stream",
     "text": [
      "+--------------------+-----------------+-----------------+---------------+------------------+-------------+----------------+----------------------+---------+-------------------+---+--------------------+----+-----+\n",
      "|                msno|payment_method_id|payment_plan_days|plan_list_price|actual_amount_paid|is_auto_renew|transaction_date|membership_expire_date|is_cancel|        source_file|day|      transaction_id|year|month|\n",
      "+--------------------+-----------------+-----------------+---------------+------------------+-------------+----------------+----------------------+---------+-------------------+---+--------------------+----+-----+\n",
      "|VIHHLepUEMXxF2iel...|               41|               30|            149|               149|            1|      2016-11-08|            2016-12-08|        0|   transactions.csv|  8|84c76dce-ee16-403...|2016|   11|\n",
      "|TkAhpvvz+vU7LBuVH...|               26|                1|              0|                 0|            0|      2016-11-23|            2016-11-30|        0|   transactions.csv| 23|218cfc0b-0139-443...|2016|   11|\n",
      "|VIl7ZhgbpR4kLC/Zx...|               41|               30|            149|               149|            1|      2016-11-06|            2016-12-06|        0|   transactions.csv|  6|08bba8c6-5efe-404...|2016|   11|\n",
      "|UBfqR1od2RUoO5UfD...|               26|                1|              0|                 0|            0|      2016-11-18|            2017-05-24|        0|transactions_v2.csv| 18|de5c9457-650f-45b...|2016|   11|\n",
      "|VIm9MHW1FcFvwKm5A...|               37|               30|            149|               149|            1|      2016-11-10|            2016-12-10|        0|   transactions.csv| 10|6b208684-2544-43a...|2016|   11|\n",
      "+--------------------+-----------------+-----------------+---------------+------------------+-------------+----------------+----------------------+---------+-------------------+---+--------------------+----+-----+\n",
      "only showing top 5 rows\n",
      "\n"
     ]
    }
   ],
   "source": [
    "df_transactions.show(5)"
   ]
  },
  {
   "cell_type": "markdown",
   "id": "fbdf88c7-fc54-43cf-a336-fc7707efd8a4",
   "metadata": {},
   "source": [
    "# Set Today's date (aka inference date)\n",
    "\n",
    "This date is training \"cutoff\".. anything after this date will not be used"
   ]
  },
  {
   "cell_type": "code",
   "execution_count": 20,
   "id": "04f08424-551e-4487-9a78-992b6be391d9",
   "metadata": {},
   "outputs": [
    {
     "name": "stdout",
     "output_type": "stream",
     "text": [
      "Today's date is set to: 2015-12-15\n"
     ]
    }
   ],
   "source": [
    "inference_date = \"2015-12-15\"\n",
    "print(f\"Today's date is set to: {inference_date}\")"
   ]
  },
  {
   "cell_type": "markdown",
   "id": "a40ff080-3603-4b79-b01c-631832058f62",
   "metadata": {},
   "source": [
    "### Filter members\n",
    "Fetch all users who were registered before this inference date."
   ]
  },
  {
   "cell_type": "code",
   "execution_count": 21,
   "id": "c5166c2b-0fbb-4836-a1b9-333937696d50",
   "metadata": {},
   "outputs": [
    {
     "name": "stdout",
     "output_type": "stream",
     "text": [
      "Registered users up to 2015-12-15 : 3924570\n"
     ]
    },
    {
     "name": "stderr",
     "output_type": "stream",
     "text": [
      "[Stage 85:===========================================>              (3 + 1) / 4]"
     ]
    },
    {
     "name": "stdout",
     "output_type": "stream",
     "text": [
      "+--------------------------------------------+-----------------+-----------------------+--------------+----------+---------------+--------------+\n",
      "|msno                                        |registration_date|tenure_days_at_snapshot|registered_via|city_clean|via_oh         |city_oh       |\n",
      "+--------------------------------------------+-----------------+-----------------------+--------------+----------+---------------+--------------+\n",
      "|2Dd2zaY3UQAbsnOW2ffCse4HYFpnBKkA3GNenPUYxdE=|2014-11-01       |409                    |16            |1         |(18,[12],[1.0])|(21,[0],[1.0])|\n",
      "|TgFv/gOLcbCTq1K5UrsCxZuozau6mWpTlGolwm6t1/g=|2014-10-23       |418                    |16            |1         |(18,[12],[1.0])|(21,[0],[1.0])|\n",
      "|ZZuGBLOObobJjHLd5aFRq0K/2jZk9mrZNdIY8UO7lrs=|2014-12-16       |364                    |16            |1         |(18,[12],[1.0])|(21,[0],[1.0])|\n",
      "|bh4qCoZL8kgUmYBBjglJm03CYujRqL4WdS1ybD4kSLc=|2014-12-21       |359                    |16            |1         |(18,[12],[1.0])|(21,[0],[1.0])|\n",
      "|byk67yBdEMCp5QmWIHON0RtXa9giwZSrsgcz6GMAL/8=|2014-12-22       |358                    |16            |1         |(18,[12],[1.0])|(21,[0],[1.0])|\n",
      "+--------------------------------------------+-----------------+-----------------------+--------------+----------+---------------+--------------+\n",
      "only showing top 5 rows\n",
      "\n"
     ]
    },
    {
     "name": "stderr",
     "output_type": "stream",
     "text": [
      "                                                                                "
     ]
    }
   ],
   "source": [
    "registered_users = (\n",
    "    df_members\n",
    "    .withColumn(\"registration_date\", F.to_date(\"registration_date\"))\n",
    "    .filter(F.col(\"registration_date\") <= F.to_date(F.lit(inference_date)))\n",
    "    .withColumn(\n",
    "        \"tenure_days_at_snapshot\",\n",
    "        F.datediff(F.to_date(F.lit(inference_date)), F.col(\"registration_date\"))\n",
    "    )\n",
    "    .select(\n",
    "        \"msno\",\n",
    "        \"registration_date\",\n",
    "        \"tenure_days_at_snapshot\",\n",
    "        \"registered_via\",\n",
    "        \"city_clean\",\n",
    "        \"via_oh\",\n",
    "        \"city_oh\"\n",
    "    )\n",
    ")\n",
    "\n",
    "\n",
    "print(\"Registered users up to\", inference_date, \":\", registered_users.count())\n",
    "registered_users.show(5, truncate=False)"
   ]
  },
  {
   "cell_type": "markdown",
   "id": "7392c8fb-986b-4609-9a15-5ac1b98eae14",
   "metadata": {},
   "source": [
    "### Filter Transactions\n",
    "Filter all transactions before the inference date"
   ]
  },
  {
   "cell_type": "code",
   "execution_count": null,
   "id": "c305cb29-6ed6-4029-acc2-0db2eb41bae4",
   "metadata": {},
   "outputs": [],
   "source": [
    "from pyspark.sql import functions as F\n",
    "\n",
    "latest_expiry = (\n",
    "    df_transactions\n",
    "    .filter(F.col(\"membership_expire_date\") <= F.to_date(F.lit(inference_date)))\n",
    "    .groupBy(\"msno\")\n",
    "    .agg(F.max(\"membership_expire_date\").alias(\"latest_expiry\"))\n",
    ")"
   ]
  },
  {
   "cell_type": "code",
   "execution_count": null,
   "id": "ad6f784e-c3ac-408d-a0ee-9d2742f9f96f",
   "metadata": {},
   "outputs": [],
   "source": []
  },
  {
   "cell_type": "code",
   "execution_count": null,
   "id": "2e57f60d-48f4-40d4-9d0d-428e73d29eaa",
   "metadata": {},
   "outputs": [],
   "source": []
  },
  {
   "cell_type": "code",
   "execution_count": null,
   "id": "bf8b237e-44d5-4712-8951-59b410b1ec50",
   "metadata": {},
   "outputs": [],
   "source": []
  },
  {
   "cell_type": "code",
   "execution_count": null,
   "id": "73065ff3-bb4a-484a-b860-be4f399e9109",
   "metadata": {},
   "outputs": [],
   "source": []
  },
  {
   "cell_type": "code",
   "execution_count": null,
   "id": "4f6cbe7a-d3eb-4c01-8fd7-7a635103d6f6",
   "metadata": {},
   "outputs": [],
   "source": []
  },
  {
   "cell_type": "code",
   "execution_count": null,
   "id": "07d3d634-eba3-40e0-b185-54fc55304f94",
   "metadata": {},
   "outputs": [],
   "source": []
  },
  {
   "cell_type": "code",
   "execution_count": null,
   "id": "7624fd91-fbc1-4e9d-9be3-eaa127e52bd9",
   "metadata": {},
   "outputs": [],
   "source": []
  }
 ],
 "metadata": {
  "kernelspec": {
   "display_name": "Python 3 (ipykernel)",
   "language": "python",
   "name": "python3"
  },
  "language_info": {
   "codemirror_mode": {
    "name": "ipython",
    "version": 3
   },
   "file_extension": ".py",
   "mimetype": "text/x-python",
   "name": "python",
   "nbconvert_exporter": "python",
   "pygments_lexer": "ipython3",
   "version": "3.12.12"
  }
 },
 "nbformat": 4,
 "nbformat_minor": 5
}
