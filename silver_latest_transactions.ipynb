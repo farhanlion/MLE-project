{
 "cells": [
  {
   "cell_type": "code",
   "execution_count": null,
   "id": "0a092768-e48e-451e-b4df-26e2e69c8269",
   "metadata": {},
   "outputs": [],
   "source": [
    "from pyspark.sql import SparkSession\n",
    "from pyspark.sql import functions as F\n",
    "from pyspark.sql.window import Window\n",
    "\n",
    "from pyspark.sql.functions import col, year, month, dayofmonth, to_date"
   ]
  },
  {
   "cell_type": "code",
   "execution_count": null,
   "id": "551f2e7d-2f14-4726-89c4-dfe7d87d6e67",
   "metadata": {},
   "outputs": [],
   "source": [
    "# Create or get Spark session\n",
    "spark = SparkSession.builder.appName(\"Latest_Transactions\").getOrCreate()"
   ]
  },
  {
   "cell_type": "code",
   "execution_count": null,
   "id": "96578403-c503-4a44-b88c-0cd115f60218",
   "metadata": {},
   "outputs": [],
   "source": [
    "spark.sparkContext.setLogLevel(\"ERROR\")"
   ]
  },
  {
   "cell_type": "code",
   "execution_count": null,
   "id": "4f81b185-c3a0-413d-bd77-5efa2864513c",
   "metadata": {},
   "outputs": [],
   "source": [
    "# Define paths\n",
    "silver_transactions_path = \"/app/datamart/silver/transactions\" \n",
    "silver_latest_transactions_path = \"/app/datamart/silver/latest_transactions\""
   ]
  },
  {
   "cell_type": "code",
   "execution_count": null,
   "id": "827e02c0-1d2e-42a9-a290-9b7a8fe648d9",
   "metadata": {},
   "outputs": [],
   "source": [
    "# Load all Silver parquet files\n",
    "df_silver = spark.read.parquet(silver_transactions_path)\n",
    "print(\"Silver Transactions schema:\")\n",
    "df_silver.printSchema()"
   ]
  },
  {
   "cell_type": "code",
   "execution_count": null,
   "id": "b1e62dac-2fdd-4bf3-a563-ecaebb1b5afc",
   "metadata": {},
   "outputs": [],
   "source": [
    "# Partition by msno (member ID) and order by transaction_date\n",
    "\n",
    "window_spec = Window.partitionBy(\"msno\").orderBy(F.col(\"transaction_date\").desc())"
   ]
  },
  {
   "cell_type": "code",
   "execution_count": null,
   "id": "887933cf-2e14-4192-ae8e-d9a7ed4c3d8b",
   "metadata": {},
   "outputs": [],
   "source": [
    "# Creating transaction_ID\n",
    "\n",
    "latest_transactions_df = df_silver.withColumn(\n",
    "    \"row_num\",\n",
    "    F.row_number().over(window_spec)\n",
    ").filter(\n",
    "    F.col(\"row_num\") == 1\n",
    ").drop(\n",
    "    \"row_num\"\n",
    ")\n",
    "\n",
    "# Add snapshot_date\n",
    "\n",
    "latest_transactions_df = latest_transactions_df.withColumn(\n",
    "    \"snapshot_date\", F.current_date()\n",
    ")"
   ]
  },
  {
   "cell_type": "code",
   "execution_count": null,
   "id": "c9671e26-e83d-4f49-b407-7f9d05e68254",
   "metadata": {},
   "outputs": [],
   "source": [
    "# Save to silver layer\n",
    "\n",
    "# Save as Parquet, without partitioning\n",
    "(\n",
    "    latest_transactions_df\n",
    "    .write\n",
    "    .mode(\"overwrite\")\n",
    "    .parquet(silver_latest_transactions_path)\n",
    ")\n",
    "\n",
    "print(f\"✅ Silver layer (Latest_transactions) successfully written to: {silver_latest_transactions_path}\")"
   ]
  }
 ],
 "metadata": {
  "kernelspec": {
   "display_name": "Python 3 (ipykernel)",
   "language": "python",
   "name": "python3"
  },
  "language_info": {
   "codemirror_mode": {
    "name": "ipython",
    "version": 3
   },
   "file_extension": ".py",
   "mimetype": "text/x-python",
   "name": "python",
   "nbconvert_exporter": "python",
   "pygments_lexer": "ipython3",
   "version": "3.12.11"
  }
 },
 "nbformat": 4,
 "nbformat_minor": 5
}
