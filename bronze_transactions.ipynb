{
 "cells": [
  {
   "cell_type": "markdown",
   "id": "bb3dd313-54b2-43df-bffc-186968dd5d84",
   "metadata": {},
   "source": [
    "# Transactions"
   ]
  },
  {
   "cell_type": "markdown",
   "id": "f0443ad1-45d2-4e7d-8613-f92e9db49046",
   "metadata": {},
   "source": [
    "- Combine transactions.csv and transaction_v2.csv.\n",
    "- Add year & month column\n",
    "- Then transform into parquet."
   ]
  },
  {
   "cell_type": "code",
   "execution_count": 1,
   "id": "19a7b7fa-1823-4b5f-92de-3e8039f47b71",
   "metadata": {},
   "outputs": [],
   "source": [
    "import os\n",
    "import glob\n",
    "import pandas as pd\n",
    "import matplotlib.pyplot as plt\n",
    "import numpy as np\n",
    "import random\n",
    "from datetime import datetime, timedelta\n",
    "from dateutil.relativedelta import relativedelta\n",
    "import pprint\n",
    "import pyspark\n",
    "import pyspark.sql.functions as F\n",
    "\n",
    "from pyspark.sql.functions import col\n",
    "from pyspark.sql.types import StringType, IntegerType, FloatType, DateType\n"
   ]
  },
  {
   "cell_type": "code",
   "execution_count": 2,
   "id": "a544fbb5-a99f-4517-812d-fdcbd40a47f2",
   "metadata": {},
   "outputs": [],
   "source": [
    "from pyspark.sql.functions import countDistinct"
   ]
  },
  {
   "cell_type": "code",
   "execution_count": 3,
   "id": "0bf9e73f-113a-406f-9f4d-4ff1b0b3ba36",
   "metadata": {},
   "outputs": [],
   "source": [
    "from pyspark.sql.functions import lit"
   ]
  },
  {
   "cell_type": "code",
   "execution_count": 4,
   "id": "73216c87-ace0-4f0e-a3ac-bb0b2dd339ea",
   "metadata": {},
   "outputs": [],
   "source": [
    "from pyspark.sql.functions import substring"
   ]
  },
  {
   "cell_type": "code",
   "execution_count": 5,
   "id": "c0427df6-704c-46e8-90af-9ae28ad4bf27",
   "metadata": {},
   "outputs": [
    {
     "data": {
      "text/plain": [
       "'/app'"
      ]
     },
     "execution_count": 5,
     "metadata": {},
     "output_type": "execute_result"
    }
   ],
   "source": [
    "os.getcwd()"
   ]
  },
  {
   "cell_type": "code",
   "execution_count": 6,
   "id": "13ff3993-de19-4a0c-aaad-ac30432e8730",
   "metadata": {},
   "outputs": [
    {
     "name": "stderr",
     "output_type": "stream",
     "text": [
      "Setting default log level to \"WARN\".\n",
      "To adjust logging level use sc.setLogLevel(newLevel). For SparkR, use setLogLevel(newLevel).\n",
      "25/10/28 16:20:18 WARN NativeCodeLoader: Unable to load native-hadoop library for your platform... using builtin-java classes where applicable\n"
     ]
    }
   ],
   "source": [
    "spark = (\n",
    "    pyspark.sql.SparkSession.builder\n",
    "    .appName(\"dev\")\n",
    "    .master(\"local[12]\")                     # Use all 12 logical cores\n",
    "    .config(\"spark.driver.memory\", \"10g\")   # Allocate ~10 GB memory\n",
    "    .config(\"spark.sql.shuffle.partitions\", \"12\")  # Match to number of threads\n",
    "    .getOrCreate()\n",
    ")"
   ]
  },
  {
   "cell_type": "code",
   "execution_count": 7,
   "id": "75a8953c-bf36-4c4a-9c45-11268228f6cd",
   "metadata": {},
   "outputs": [
    {
     "name": "stdout",
     "output_type": "stream",
     "text": [
      "http://c88f750897f2:4040\n"
     ]
    }
   ],
   "source": [
    "print(spark.sparkContext.uiWebUrl)"
   ]
  },
  {
   "cell_type": "code",
   "execution_count": 8,
   "id": "f42becea-9ddd-47f0-aed8-29d94fb25fa4",
   "metadata": {},
   "outputs": [
    {
     "name": "stderr",
     "output_type": "stream",
     "text": [
      "                                                                                "
     ]
    }
   ],
   "source": [
    "# Read CSV file\n",
    "v1 = spark.read.csv(\"data/transactions.csv\", header=True, inferSchema=True)"
   ]
  },
  {
   "cell_type": "code",
   "execution_count": 9,
   "id": "39f01836-5fa7-4318-82fa-a218cf454be6",
   "metadata": {},
   "outputs": [
    {
     "name": "stderr",
     "output_type": "stream",
     "text": [
      "                                                                                "
     ]
    }
   ],
   "source": [
    "v2 = spark.read.csv(\"data/transactions_v2.csv\", header=True, inferSchema=True)"
   ]
  },
  {
   "cell_type": "code",
   "execution_count": 10,
   "id": "4658cc60-4e1e-4402-9dfd-8902df000774",
   "metadata": {},
   "outputs": [],
   "source": [
    "#v1.show(5)"
   ]
  },
  {
   "cell_type": "code",
   "execution_count": 11,
   "id": "c7b3e4d9-1b76-4a77-98ef-7da3141b2baf",
   "metadata": {},
   "outputs": [],
   "source": [
    "#v2.show(5)"
   ]
  },
  {
   "cell_type": "code",
   "execution_count": 12,
   "id": "e6ee6252-9dee-48a7-be7c-8850accb6e66",
   "metadata": {},
   "outputs": [],
   "source": [
    "# Add source file tracking\n",
    "v1_tagged = v1.withColumn(\"source_file\", lit(\"transactions.csv\"))\n",
    "v2_tagged = v2.withColumn(\"source_file\", lit(\"transactions_v2.csv\"))"
   ]
  },
  {
   "cell_type": "code",
   "execution_count": 13,
   "id": "cb378db6-d05f-4f0e-939d-4a8b68e81ae8",
   "metadata": {},
   "outputs": [],
   "source": [
    "# Union both datasets\n",
    "combined = v1_tagged.union(v2_tagged)"
   ]
  },
  {
   "cell_type": "code",
   "execution_count": 14,
   "id": "07666b36-7fbf-4b64-a27d-2ac7c461a300",
   "metadata": {},
   "outputs": [],
   "source": [
    "# Deduplicate based on all original columns (excluding source_file)\n",
    "data_columns = v1.columns  # Original columns without source_file"
   ]
  },
  {
   "cell_type": "code",
   "execution_count": 15,
   "id": "0f2cf21a-e878-49a2-a919-06dc0c36df0c",
   "metadata": {},
   "outputs": [],
   "source": [
    "merged = combined.dropDuplicates(subset=data_columns)"
   ]
  },
  {
   "cell_type": "code",
   "execution_count": 16,
   "id": "59185392-c452-45be-9c97-649f18c91a3f",
   "metadata": {},
   "outputs": [],
   "source": [
    "#merged.show(10)"
   ]
  },
  {
   "cell_type": "code",
   "execution_count": 17,
   "id": "11815f3b-5318-4a7b-8206-65cd00e1627e",
   "metadata": {},
   "outputs": [
    {
     "name": "stderr",
     "output_type": "stream",
     "text": [
      "                                                                                "
     ]
    },
    {
     "data": {
      "text/plain": [
       "22975416"
      ]
     },
     "execution_count": 17,
     "metadata": {},
     "output_type": "execute_result"
    }
   ],
   "source": [
    "merged.count()"
   ]
  },
  {
   "cell_type": "code",
   "execution_count": 18,
   "id": "0d7fe137-72a9-43e0-b147-d343b5f0d814",
   "metadata": {},
   "outputs": [
    {
     "name": "stderr",
     "output_type": "stream",
     "text": [
      "[Stage 10:=====================================================>  (24 + 1) / 25]"
     ]
    },
    {
     "name": "stdout",
     "output_type": "stream",
     "text": [
      "+----------------+\n",
      "|transaction_date|\n",
      "+----------------+\n",
      "|        20150101|\n",
      "|        20150102|\n",
      "|        20150103|\n",
      "|        20150104|\n",
      "|        20150105|\n",
      "|        20150106|\n",
      "|        20150107|\n",
      "|        20150108|\n",
      "|        20150109|\n",
      "|        20150110|\n",
      "|        20150111|\n",
      "|        20150112|\n",
      "|        20150113|\n",
      "|        20150114|\n",
      "|        20150115|\n",
      "|        20150116|\n",
      "|        20150117|\n",
      "|        20150118|\n",
      "|        20150119|\n",
      "|        20150120|\n",
      "+----------------+\n",
      "only showing top 20 rows\n",
      "\n"
     ]
    },
    {
     "name": "stderr",
     "output_type": "stream",
     "text": [
      "                                                                                "
     ]
    }
   ],
   "source": [
    "merged.select(\"transaction_date\").distinct().orderBy(\"transaction_date\").show()"
   ]
  },
  {
   "cell_type": "code",
   "execution_count": 19,
   "id": "820f66ea-5d7a-42f2-8f97-a50de948aacf",
   "metadata": {},
   "outputs": [
    {
     "name": "stderr",
     "output_type": "stream",
     "text": [
      "                                                                                "
     ]
    },
    {
     "data": {
      "text/plain": [
       "(3, 12)"
      ]
     },
     "execution_count": 19,
     "metadata": {},
     "output_type": "execute_result"
    }
   ],
   "source": [
    "# Extract year and month\n",
    "df_with_ym = merged.withColumn(\"year\", substring(\"transaction_date\", 1, 4)) \\\n",
    "                   .withColumn(\"month\", substring(\"transaction_date\", 5, 2))\n",
    "\n",
    "# Count distinct years and months\n",
    "df_with_ym.select(\"year\").distinct().count(), df_with_ym.select(\"month\").distinct().count()"
   ]
  },
  {
   "cell_type": "code",
   "execution_count": 20,
   "id": "4e6a2040-082e-4b62-81b9-93545e475fb6",
   "metadata": {},
   "outputs": [
    {
     "data": {
      "text/plain": [
       "DataFrame[msno: string, payment_method_id: int, payment_plan_days: int, plan_list_price: int, actual_amount_paid: int, is_auto_renew: int, transaction_date: int, membership_expire_date: int, is_cancel: int, source_file: string, year: string, month: string]"
      ]
     },
     "execution_count": 20,
     "metadata": {},
     "output_type": "execute_result"
    }
   ],
   "source": [
    "df_with_ym"
   ]
  },
  {
   "cell_type": "code",
   "execution_count": 21,
   "id": "12b00fce-2053-4b84-8874-e4f4d44db2b3",
   "metadata": {},
   "outputs": [
    {
     "name": "stderr",
     "output_type": "stream",
     "text": [
      "                                                                                "
     ]
    }
   ],
   "source": [
    "df_with_ym.write \\\n",
    "    .mode(\"overwrite\") \\\n",
    "    .option(\"header\", \"true\") \\\n",
    "    .partitionBy(\"year\", \"month\") \\\n",
    "    .parquet(\"datamart/bronze/transactions\")"
   ]
  },
  {
   "cell_type": "code",
   "execution_count": 22,
   "id": "098f19da-3b66-4dba-859c-b6409e1ce19c",
   "metadata": {},
   "outputs": [
    {
     "name": "stderr",
     "output_type": "stream",
     "text": [
      "[Stage 30:======================================>                  (8 + 4) / 12]"
     ]
    },
    {
     "name": "stdout",
     "output_type": "stream",
     "text": [
      "+-------------------+\n",
      "|distinct_msno_count|\n",
      "+-------------------+\n",
      "|            2426143|\n",
      "+-------------------+\n",
      "\n"
     ]
    },
    {
     "name": "stderr",
     "output_type": "stream",
     "text": [
      "                                                                                "
     ]
    }
   ],
   "source": [
    "result = df_with_ym.agg(countDistinct(\"msno\").alias(\"distinct_msno_count\"))\n",
    "result.show()"
   ]
  },
  {
   "cell_type": "markdown",
   "id": "9b48e0f0-47a2-4e97-a2b6-232fa3e8fa70",
   "metadata": {},
   "source": [
    "# Members"
   ]
  },
  {
   "cell_type": "markdown",
   "id": "46a93038-a698-4574-857f-8dcf4d0009ed",
   "metadata": {},
   "source": [
    "- Add year & month column\n",
    "- Then transform into parquet."
   ]
  },
  {
   "cell_type": "code",
   "execution_count": 8,
   "id": "9f3be317-0ee4-4a3a-916f-16e36d629a66",
   "metadata": {},
   "outputs": [
    {
     "name": "stderr",
     "output_type": "stream",
     "text": [
      "                                                                                "
     ]
    }
   ],
   "source": [
    "# Read CSV file\n",
    "df = spark.read.csv(\"data/members_v3.csv\", header=True, inferSchema=True)"
   ]
  },
  {
   "cell_type": "code",
   "execution_count": 9,
   "id": "d2ffbd22-aef0-4db8-8f44-978ffcc69e3d",
   "metadata": {},
   "outputs": [
    {
     "name": "stdout",
     "output_type": "stream",
     "text": [
      "+--------------------+----+---+------+--------------+----------------------+\n",
      "|                msno|city| bd|gender|registered_via|registration_init_time|\n",
      "+--------------------+----+---+------+--------------+----------------------+\n",
      "|Rb9UwLQTrxzBVwCB6...|   1|  0|  NULL|            11|              20110911|\n",
      "|+tJonkh+O1CA796Fm...|   1|  0|  NULL|             7|              20110914|\n",
      "|cV358ssn7a0f7jZOw...|   1|  0|  NULL|            11|              20110915|\n",
      "|9bzDeJP6sQodK73K5...|   1|  0|  NULL|            11|              20110915|\n",
      "|WFLY3s7z4EZsieHCt...|   6| 32|female|             9|              20110915|\n",
      "|yLkV2gbZ4GLFwqTOX...|   4| 30|  male|             9|              20110916|\n",
      "|jNCGK78YkTyId3H3w...|   1|  0|  NULL|             7|              20110916|\n",
      "|WH5Jq4mgtfUFXh2yz...|   5| 34|  male|             9|              20110916|\n",
      "|tKmbR4X5VXjHmxERr...|   5| 19|  male|             9|              20110917|\n",
      "|I0yFvqMoNkM8ZNHb6...|  13| 63|  male|             9|              20110918|\n",
      "+--------------------+----+---+------+--------------+----------------------+\n",
      "only showing top 10 rows\n",
      "\n"
     ]
    }
   ],
   "source": [
    "df.show(10)"
   ]
  },
  {
   "cell_type": "code",
   "execution_count": 10,
   "id": "9ec19560-ecb5-4f4a-9169-fa90dd9009d9",
   "metadata": {},
   "outputs": [
    {
     "name": "stderr",
     "output_type": "stream",
     "text": [
      "                                                                                "
     ]
    },
    {
     "data": {
      "text/plain": [
       "6769473"
      ]
     },
     "execution_count": 10,
     "metadata": {},
     "output_type": "execute_result"
    }
   ],
   "source": [
    "df.count()"
   ]
  },
  {
   "cell_type": "code",
   "execution_count": 11,
   "id": "b30c5520-b303-4853-a2f1-43943ac24455",
   "metadata": {},
   "outputs": [
    {
     "name": "stderr",
     "output_type": "stream",
     "text": [
      "[Stage 6:==============>                                           (3 + 9) / 12]"
     ]
    },
    {
     "name": "stdout",
     "output_type": "stream",
     "text": [
      "+----------------------+\n",
      "|registration_init_time|\n",
      "+----------------------+\n",
      "|              20040326|\n",
      "|              20040327|\n",
      "|              20040328|\n",
      "|              20040329|\n",
      "|              20040330|\n",
      "|              20040331|\n",
      "|              20040401|\n",
      "|              20040402|\n",
      "|              20040403|\n",
      "|              20040404|\n",
      "|              20040405|\n",
      "|              20040406|\n",
      "|              20040407|\n",
      "|              20040408|\n",
      "|              20040409|\n",
      "|              20040410|\n",
      "|              20040411|\n",
      "|              20040412|\n",
      "|              20040413|\n",
      "|              20040414|\n",
      "+----------------------+\n",
      "only showing top 20 rows\n",
      "\n"
     ]
    },
    {
     "name": "stderr",
     "output_type": "stream",
     "text": [
      "                                                                                "
     ]
    }
   ],
   "source": [
    "df.select(\"registration_init_time\").distinct().orderBy(\"registration_init_time\").show()"
   ]
  },
  {
   "cell_type": "code",
   "execution_count": 12,
   "id": "57a52915-fbc2-45c3-8dfc-46924b9a6655",
   "metadata": {},
   "outputs": [
    {
     "name": "stderr",
     "output_type": "stream",
     "text": [
      "                                                                                "
     ]
    },
    {
     "data": {
      "text/plain": [
       "(14, 12)"
      ]
     },
     "execution_count": 12,
     "metadata": {},
     "output_type": "execute_result"
    }
   ],
   "source": [
    "# Extract year and month\n",
    "dfm_with_ym = df.withColumn(\"year\", substring(\"registration_init_time\", 1, 4)) \\\n",
    "                   .withColumn(\"month\", substring(\"registration_init_time\", 5, 2))\n",
    "\n",
    "# Count distinct years and months\n",
    "dfm_with_ym.select(\"year\").distinct().count(), dfm_with_ym.select(\"month\").distinct().count()"
   ]
  },
  {
   "cell_type": "code",
   "execution_count": 13,
   "id": "b0b2aa33-c2a6-4683-8509-8c0fadc34192",
   "metadata": {},
   "outputs": [
    {
     "name": "stdout",
     "output_type": "stream",
     "text": [
      "+--------------------+----+---+------+--------------+----------------------+----+-----+\n",
      "|                msno|city| bd|gender|registered_via|registration_init_time|year|month|\n",
      "+--------------------+----+---+------+--------------+----------------------+----+-----+\n",
      "|Rb9UwLQTrxzBVwCB6...|   1|  0|  NULL|            11|              20110911|2011|   09|\n",
      "|+tJonkh+O1CA796Fm...|   1|  0|  NULL|             7|              20110914|2011|   09|\n",
      "|cV358ssn7a0f7jZOw...|   1|  0|  NULL|            11|              20110915|2011|   09|\n",
      "|9bzDeJP6sQodK73K5...|   1|  0|  NULL|            11|              20110915|2011|   09|\n",
      "|WFLY3s7z4EZsieHCt...|   6| 32|female|             9|              20110915|2011|   09|\n",
      "|yLkV2gbZ4GLFwqTOX...|   4| 30|  male|             9|              20110916|2011|   09|\n",
      "|jNCGK78YkTyId3H3w...|   1|  0|  NULL|             7|              20110916|2011|   09|\n",
      "|WH5Jq4mgtfUFXh2yz...|   5| 34|  male|             9|              20110916|2011|   09|\n",
      "|tKmbR4X5VXjHmxERr...|   5| 19|  male|             9|              20110917|2011|   09|\n",
      "|I0yFvqMoNkM8ZNHb6...|  13| 63|  male|             9|              20110918|2011|   09|\n",
      "+--------------------+----+---+------+--------------+----------------------+----+-----+\n",
      "only showing top 10 rows\n",
      "\n"
     ]
    }
   ],
   "source": [
    "dfm_with_ym.show(10)"
   ]
  },
  {
   "cell_type": "code",
   "execution_count": 14,
   "id": "e7363b93-db5a-4a32-a436-d1d63472a775",
   "metadata": {},
   "outputs": [
    {
     "name": "stderr",
     "output_type": "stream",
     "text": [
      "[Stage 22:>                                                       (0 + 12) / 12]"
     ]
    },
    {
     "name": "stdout",
     "output_type": "stream",
     "text": [
      "+----+-----+-----+\n",
      "|year|month|count|\n",
      "+----+-----+-----+\n",
      "|2004|   03| 4258|\n",
      "|2004|   04| 1417|\n",
      "|2004|   05|  436|\n",
      "|2004|   06|  550|\n",
      "|2004|   07| 4713|\n",
      "|2004|   08| 2474|\n",
      "|2004|   09| 3323|\n",
      "|2004|   10| 4547|\n",
      "|2004|   11| 3075|\n",
      "|2004|   12| 1441|\n",
      "|2005|   01| 1382|\n",
      "|2005|   02| 2520|\n",
      "|2005|   03| 2752|\n",
      "|2005|   04| 2132|\n",
      "|2005|   05| 1939|\n",
      "|2005|   06| 1993|\n",
      "|2005|   07| 2177|\n",
      "|2005|   08| 2053|\n",
      "|2005|   09| 5054|\n",
      "|2005|   10| 8642|\n",
      "+----+-----+-----+\n",
      "only showing top 20 rows\n",
      "\n"
     ]
    },
    {
     "name": "stderr",
     "output_type": "stream",
     "text": [
      "                                                                                "
     ]
    }
   ],
   "source": [
    "result = dfm_with_ym.groupBy(\"year\", \"month\") \\\n",
    "           .count() \\\n",
    "           .orderBy(\"year\", \"month\")\n",
    "result.show()"
   ]
  },
  {
   "cell_type": "code",
   "execution_count": 15,
   "id": "f79333cd-8a97-4e5c-a525-3e0793799bfc",
   "metadata": {},
   "outputs": [
    {
     "name": "stderr",
     "output_type": "stream",
     "text": [
      "[Stage 25:>                                                       (0 + 12) / 12]"
     ]
    },
    {
     "name": "stdout",
     "output_type": "stream",
     "text": [
      "+----+-------+\n",
      "|year|  count|\n",
      "+----+-------+\n",
      "|2004|  26234|\n",
      "|2005|  41349|\n",
      "|2006|  53953|\n",
      "|2007|  89830|\n",
      "|2008|  67690|\n",
      "|2009|  63633|\n",
      "|2010| 115075|\n",
      "|2011| 179051|\n",
      "|2012| 283190|\n",
      "|2013| 524722|\n",
      "|2014| 975776|\n",
      "|2015|1620525|\n",
      "|2016|2246761|\n",
      "|2017| 481684|\n",
      "+----+-------+\n",
      "\n"
     ]
    },
    {
     "name": "stderr",
     "output_type": "stream",
     "text": [
      "                                                                                "
     ]
    }
   ],
   "source": [
    "result = dfm_with_ym.groupBy(\"year\") \\\n",
    "           .count() \\\n",
    "           .orderBy(\"year\")\n",
    "result.show()"
   ]
  },
  {
   "cell_type": "markdown",
   "id": "f1cabe47-7f91-4a72-aa17-21beec04f1ae",
   "metadata": {},
   "source": [
    "No need to split to folders"
   ]
  },
  {
   "cell_type": "code",
   "execution_count": 16,
   "id": "60d00fe4-2319-4503-8105-ae32a7bc1f10",
   "metadata": {},
   "outputs": [
    {
     "name": "stderr",
     "output_type": "stream",
     "text": [
      "                                                                                "
     ]
    },
    {
     "data": {
      "text/plain": [
       "6769473"
      ]
     },
     "execution_count": 16,
     "metadata": {},
     "output_type": "execute_result"
    }
   ],
   "source": [
    "dfm_with_ym.count()"
   ]
  },
  {
   "cell_type": "code",
   "execution_count": 21,
   "id": "133c33a5-e06d-43d2-8107-28c57c87407e",
   "metadata": {},
   "outputs": [
    {
     "name": "stderr",
     "output_type": "stream",
     "text": [
      "                                                                                "
     ]
    }
   ],
   "source": [
    "dfm_with_ym.write \\\n",
    "    .mode(\"overwrite\") \\\n",
    "    .option(\"header\", \"true\") \\\n",
    "    .parquet(\"datamart/bronze/members\")"
   ]
  },
  {
   "cell_type": "code",
   "execution_count": null,
   "id": "26a01bd8-4051-4cb3-aa6c-8f6eac042b79",
   "metadata": {},
   "outputs": [],
   "source": []
  }
 ],
 "metadata": {
  "kernelspec": {
   "display_name": "Python 3 (ipykernel)",
   "language": "python",
   "name": "python3"
  },
  "language_info": {
   "codemirror_mode": {
    "name": "ipython",
    "version": 3
   },
   "file_extension": ".py",
   "mimetype": "text/x-python",
   "name": "python",
   "nbconvert_exporter": "python",
   "pygments_lexer": "ipython3",
   "version": "3.12.12"
  }
 },
 "nbformat": 4,
 "nbformat_minor": 5
}
