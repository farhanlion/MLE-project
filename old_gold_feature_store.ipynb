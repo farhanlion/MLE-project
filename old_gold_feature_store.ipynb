{
 "cells": [
  {
   "cell_type": "code",
   "execution_count": 1,
   "id": "05ace8a3-865d-4c19-842b-fc97cab14af1",
   "metadata": {},
   "outputs": [],
   "source": [
    "import os\n",
    "import glob\n",
    "import pandas as pd\n",
    "import matplotlib.pyplot as plt\n",
    "import numpy as np\n",
    "import random\n",
    "from datetime import datetime, timedelta\n",
    "from dateutil.relativedelta import relativedelta\n",
    "import pprint\n",
    "import pyspark\n",
    "import pyspark.sql.functions as F\n",
    "\n",
    "from pyspark.sql.functions import to_date, col\n",
    "from pyspark.sql.types import StringType, IntegerType, FloatType, DateType"
   ]
  },
  {
   "cell_type": "code",
   "execution_count": 2,
   "id": "9254a59e-3203-4e9c-892f-4ca82eb60684",
   "metadata": {},
   "outputs": [
    {
     "name": "stderr",
     "output_type": "stream",
     "text": [
      "Setting default log level to \"WARN\".\n",
      "To adjust logging level use sc.setLogLevel(newLevel). For SparkR, use setLogLevel(newLevel).\n",
      "25/10/31 06:24:13 WARN NativeCodeLoader: Unable to load native-hadoop library for your platform... using builtin-java classes where applicable\n"
     ]
    }
   ],
   "source": [
    "# Initialize SparkSession\n",
    "spark = pyspark.sql.SparkSession.builder \\\n",
    "    .appName(\"dev\") \\\n",
    "    .config(\"spark.driver.memory\", \"4g\") \\\n",
    "    .master(\"local[*]\") \\\n",
    "    .getOrCreate()\n",
    "# Set log level to ERROR to hide warnings\n",
    "spark.sparkContext.setLogLevel(\"ERROR\")"
   ]
  },
  {
   "cell_type": "markdown",
   "id": "1abc3bd8-3bb5-4008-ac42-5a5d214a4961",
   "metadata": {},
   "source": [
    "# Load all tables"
   ]
  },
  {
   "cell_type": "code",
   "execution_count": 36,
   "id": "9acff3de-43d8-4d3a-aa86-f46922b5fe01",
   "metadata": {},
   "outputs": [],
   "source": [
    "df_userlogs = (spark.read\n",
    "      .option(\"header\", True)\n",
    "      .option(\"inferSchema\", True)\n",
    "      .parquet(\"datamart/silver/user_logs\"))"
   ]
  },
  {
   "cell_type": "code",
   "execution_count": 37,
   "id": "83c5f42f-bc38-4479-9534-97cfeac68a2d",
   "metadata": {},
   "outputs": [],
   "source": [
    "df_transactions = (spark.read\n",
    "      .option(\"header\", True)\n",
    "      .option(\"inferSchema\", True)\n",
    "      .parquet(\"datamart/silver/transactions\"))"
   ]
  },
  {
   "cell_type": "code",
   "execution_count": 38,
   "id": "62e9ac84-1958-4513-a11b-3b8c61b51dcc",
   "metadata": {},
   "outputs": [],
   "source": [
    "df_members = (spark.read\n",
    "      .option(\"header\", True)\n",
    "      .option(\"inferSchema\", True)\n",
    "      .parquet(\"datamart/silver/members\"))\n",
    "\n"
   ]
  },
  {
   "cell_type": "code",
   "execution_count": 39,
   "id": "e494077a-3d65-4333-ac1b-d8f5764d290a",
   "metadata": {},
   "outputs": [
    {
     "name": "stdout",
     "output_type": "stream",
     "text": [
      "=== Members ===\n"
     ]
    },
    {
     "name": "stderr",
     "output_type": "stream",
     "text": [
      "                                                                                "
     ]
    },
    {
     "data": {
      "text/html": [
       "<div>\n",
       "<style scoped>\n",
       "    .dataframe tbody tr th:only-of-type {\n",
       "        vertical-align: middle;\n",
       "    }\n",
       "\n",
       "    .dataframe tbody tr th {\n",
       "        vertical-align: top;\n",
       "    }\n",
       "\n",
       "    .dataframe thead th {\n",
       "        text-align: right;\n",
       "    }\n",
       "</style>\n",
       "<table border=\"1\" class=\"dataframe\">\n",
       "  <thead>\n",
       "    <tr style=\"text-align: right;\">\n",
       "      <th></th>\n",
       "      <th>msno</th>\n",
       "      <th>city_clean</th>\n",
       "      <th>registered_via</th>\n",
       "      <th>registration_date</th>\n",
       "      <th>tenure_days_at_snapshot</th>\n",
       "      <th>registered_via_freq</th>\n",
       "      <th>city_freq</th>\n",
       "      <th>city_idx</th>\n",
       "      <th>via_idx</th>\n",
       "      <th>city_oh</th>\n",
       "      <th>via_oh</th>\n",
       "    </tr>\n",
       "  </thead>\n",
       "  <tbody>\n",
       "    <tr>\n",
       "      <th>0</th>\n",
       "      <td>Z1SBrlbnzZzQZtlS3CUmas9SQkJyb0B1+gEeuP/V9O0=</td>\n",
       "      <td>1</td>\n",
       "      <td>1</td>\n",
       "      <td>2016-06-12</td>\n",
       "      <td>261</td>\n",
       "      <td>0.000006</td>\n",
       "      <td>0.709705</td>\n",
       "      <td>0.0</td>\n",
       "      <td>14.0</td>\n",
       "      <td>(1.0, 0.0, 0.0, 0.0, 0.0, 0.0, 0.0, 0.0, 0.0, ...</td>\n",
       "      <td>(0.0, 0.0, 0.0, 0.0, 0.0, 0.0, 0.0, 0.0, 0.0, ...</td>\n",
       "    </tr>\n",
       "    <tr>\n",
       "      <th>1</th>\n",
       "      <td>2GkgHuwB+NCVnpSRSxw0nyzPKeCTeVOoYiu2TdRg4qg=</td>\n",
       "      <td>1</td>\n",
       "      <td>1</td>\n",
       "      <td>2016-01-19</td>\n",
       "      <td>406</td>\n",
       "      <td>0.000006</td>\n",
       "      <td>0.709705</td>\n",
       "      <td>0.0</td>\n",
       "      <td>14.0</td>\n",
       "      <td>(1.0, 0.0, 0.0, 0.0, 0.0, 0.0, 0.0, 0.0, 0.0, ...</td>\n",
       "      <td>(0.0, 0.0, 0.0, 0.0, 0.0, 0.0, 0.0, 0.0, 0.0, ...</td>\n",
       "    </tr>\n",
       "    <tr>\n",
       "      <th>2</th>\n",
       "      <td>X1AmJaNJ1bpGEgxLveRwBhxGHytaIHHuNfAAPFKCFg4=</td>\n",
       "      <td>1</td>\n",
       "      <td>13</td>\n",
       "      <td>2016-12-27</td>\n",
       "      <td>63</td>\n",
       "      <td>0.000806</td>\n",
       "      <td>0.709705</td>\n",
       "      <td>0.0</td>\n",
       "      <td>5.0</td>\n",
       "      <td>(1.0, 0.0, 0.0, 0.0, 0.0, 0.0, 0.0, 0.0, 0.0, ...</td>\n",
       "      <td>(0.0, 0.0, 0.0, 0.0, 0.0, 1.0, 0.0, 0.0, 0.0, ...</td>\n",
       "    </tr>\n",
       "    <tr>\n",
       "      <th>3</th>\n",
       "      <td>bJrFIXFymwWPhavSKeaA+yKE/Du1vgUwjEI3bJNQRuE=</td>\n",
       "      <td>1</td>\n",
       "      <td>13</td>\n",
       "      <td>2017-01-14</td>\n",
       "      <td>45</td>\n",
       "      <td>0.000806</td>\n",
       "      <td>0.709705</td>\n",
       "      <td>0.0</td>\n",
       "      <td>5.0</td>\n",
       "      <td>(1.0, 0.0, 0.0, 0.0, 0.0, 0.0, 0.0, 0.0, 0.0, ...</td>\n",
       "      <td>(0.0, 0.0, 0.0, 0.0, 0.0, 1.0, 0.0, 0.0, 0.0, ...</td>\n",
       "    </tr>\n",
       "    <tr>\n",
       "      <th>4</th>\n",
       "      <td>nq+4KRKNWTQkH9VNArdNfhBNl70Vh01WEi/i9rPlxqU=</td>\n",
       "      <td>1</td>\n",
       "      <td>13</td>\n",
       "      <td>2017-02-01</td>\n",
       "      <td>27</td>\n",
       "      <td>0.000806</td>\n",
       "      <td>0.709705</td>\n",
       "      <td>0.0</td>\n",
       "      <td>5.0</td>\n",
       "      <td>(1.0, 0.0, 0.0, 0.0, 0.0, 0.0, 0.0, 0.0, 0.0, ...</td>\n",
       "      <td>(0.0, 0.0, 0.0, 0.0, 0.0, 1.0, 0.0, 0.0, 0.0, ...</td>\n",
       "    </tr>\n",
       "  </tbody>\n",
       "</table>\n",
       "</div>"
      ],
      "text/plain": [
       "                                           msno city_clean registered_via  \\\n",
       "0  Z1SBrlbnzZzQZtlS3CUmas9SQkJyb0B1+gEeuP/V9O0=          1              1   \n",
       "1  2GkgHuwB+NCVnpSRSxw0nyzPKeCTeVOoYiu2TdRg4qg=          1              1   \n",
       "2  X1AmJaNJ1bpGEgxLveRwBhxGHytaIHHuNfAAPFKCFg4=          1             13   \n",
       "3  bJrFIXFymwWPhavSKeaA+yKE/Du1vgUwjEI3bJNQRuE=          1             13   \n",
       "4  nq+4KRKNWTQkH9VNArdNfhBNl70Vh01WEi/i9rPlxqU=          1             13   \n",
       "\n",
       "  registration_date  tenure_days_at_snapshot  registered_via_freq  city_freq  \\\n",
       "0        2016-06-12                      261             0.000006   0.709705   \n",
       "1        2016-01-19                      406             0.000006   0.709705   \n",
       "2        2016-12-27                       63             0.000806   0.709705   \n",
       "3        2017-01-14                       45             0.000806   0.709705   \n",
       "4        2017-02-01                       27             0.000806   0.709705   \n",
       "\n",
       "   city_idx  via_idx                                            city_oh  \\\n",
       "0       0.0     14.0  (1.0, 0.0, 0.0, 0.0, 0.0, 0.0, 0.0, 0.0, 0.0, ...   \n",
       "1       0.0     14.0  (1.0, 0.0, 0.0, 0.0, 0.0, 0.0, 0.0, 0.0, 0.0, ...   \n",
       "2       0.0      5.0  (1.0, 0.0, 0.0, 0.0, 0.0, 0.0, 0.0, 0.0, 0.0, ...   \n",
       "3       0.0      5.0  (1.0, 0.0, 0.0, 0.0, 0.0, 0.0, 0.0, 0.0, 0.0, ...   \n",
       "4       0.0      5.0  (1.0, 0.0, 0.0, 0.0, 0.0, 0.0, 0.0, 0.0, 0.0, ...   \n",
       "\n",
       "                                              via_oh  \n",
       "0  (0.0, 0.0, 0.0, 0.0, 0.0, 0.0, 0.0, 0.0, 0.0, ...  \n",
       "1  (0.0, 0.0, 0.0, 0.0, 0.0, 0.0, 0.0, 0.0, 0.0, ...  \n",
       "2  (0.0, 0.0, 0.0, 0.0, 0.0, 1.0, 0.0, 0.0, 0.0, ...  \n",
       "3  (0.0, 0.0, 0.0, 0.0, 0.0, 1.0, 0.0, 0.0, 0.0, ...  \n",
       "4  (0.0, 0.0, 0.0, 0.0, 0.0, 1.0, 0.0, 0.0, 0.0, ...  "
      ]
     },
     "metadata": {},
     "output_type": "display_data"
    },
    {
     "name": "stdout",
     "output_type": "stream",
     "text": [
      "\n",
      "=== User Logs ===\n"
     ]
    },
    {
     "data": {
      "text/html": [
       "<div>\n",
       "<style scoped>\n",
       "    .dataframe tbody tr th:only-of-type {\n",
       "        vertical-align: middle;\n",
       "    }\n",
       "\n",
       "    .dataframe tbody tr th {\n",
       "        vertical-align: top;\n",
       "    }\n",
       "\n",
       "    .dataframe thead th {\n",
       "        text-align: right;\n",
       "    }\n",
       "</style>\n",
       "<table border=\"1\" class=\"dataframe\">\n",
       "  <thead>\n",
       "    <tr style=\"text-align: right;\">\n",
       "      <th></th>\n",
       "      <th>msno</th>\n",
       "      <th>date</th>\n",
       "      <th>num_25</th>\n",
       "      <th>num_50</th>\n",
       "      <th>num_75</th>\n",
       "      <th>num_985</th>\n",
       "      <th>num_100</th>\n",
       "      <th>num_unq</th>\n",
       "      <th>total_secs</th>\n",
       "      <th>year</th>\n",
       "      <th>month</th>\n",
       "    </tr>\n",
       "  </thead>\n",
       "  <tbody>\n",
       "    <tr>\n",
       "      <th>0</th>\n",
       "      <td>kvfTVgxOfjbVBTXyYGiAbEHzI98lveMomdtk+s88Ido=</td>\n",
       "      <td>2016-11-26</td>\n",
       "      <td>3</td>\n",
       "      <td>0</td>\n",
       "      <td>1</td>\n",
       "      <td>0</td>\n",
       "      <td>27</td>\n",
       "      <td>30</td>\n",
       "      <td>7254.569</td>\n",
       "      <td>2016</td>\n",
       "      <td>11</td>\n",
       "    </tr>\n",
       "    <tr>\n",
       "      <th>1</th>\n",
       "      <td>TKjom9SvWQfr9/FaSicWUyCgzYqow8ogCXOgsn5XKnY=</td>\n",
       "      <td>2016-11-09</td>\n",
       "      <td>0</td>\n",
       "      <td>0</td>\n",
       "      <td>0</td>\n",
       "      <td>0</td>\n",
       "      <td>5</td>\n",
       "      <td>4</td>\n",
       "      <td>1246.000</td>\n",
       "      <td>2016</td>\n",
       "      <td>11</td>\n",
       "    </tr>\n",
       "    <tr>\n",
       "      <th>2</th>\n",
       "      <td>V7mwW25pIzSyhRvKtfJ0fEAhDZe4rmbiUGZ62OUzw9M=</td>\n",
       "      <td>2016-11-02</td>\n",
       "      <td>3</td>\n",
       "      <td>0</td>\n",
       "      <td>0</td>\n",
       "      <td>0</td>\n",
       "      <td>7</td>\n",
       "      <td>10</td>\n",
       "      <td>1529.590</td>\n",
       "      <td>2016</td>\n",
       "      <td>11</td>\n",
       "    </tr>\n",
       "    <tr>\n",
       "      <th>3</th>\n",
       "      <td>HpsUB9oBFNEkMz8LS4cytXeuqKe7uBJ/qF1zAM5OGZc=</td>\n",
       "      <td>2016-11-18</td>\n",
       "      <td>13</td>\n",
       "      <td>2</td>\n",
       "      <td>2</td>\n",
       "      <td>0</td>\n",
       "      <td>21</td>\n",
       "      <td>32</td>\n",
       "      <td>6463.842</td>\n",
       "      <td>2016</td>\n",
       "      <td>11</td>\n",
       "    </tr>\n",
       "    <tr>\n",
       "      <th>4</th>\n",
       "      <td>kWl8bmqhgiRnkvlGe7xNn5IueQxK485CAJSepMxCz8M=</td>\n",
       "      <td>2016-11-18</td>\n",
       "      <td>2</td>\n",
       "      <td>1</td>\n",
       "      <td>1</td>\n",
       "      <td>1</td>\n",
       "      <td>8</td>\n",
       "      <td>13</td>\n",
       "      <td>2557.191</td>\n",
       "      <td>2016</td>\n",
       "      <td>11</td>\n",
       "    </tr>\n",
       "  </tbody>\n",
       "</table>\n",
       "</div>"
      ],
      "text/plain": [
       "                                           msno        date  num_25  num_50  \\\n",
       "0  kvfTVgxOfjbVBTXyYGiAbEHzI98lveMomdtk+s88Ido=  2016-11-26       3       0   \n",
       "1  TKjom9SvWQfr9/FaSicWUyCgzYqow8ogCXOgsn5XKnY=  2016-11-09       0       0   \n",
       "2  V7mwW25pIzSyhRvKtfJ0fEAhDZe4rmbiUGZ62OUzw9M=  2016-11-02       3       0   \n",
       "3  HpsUB9oBFNEkMz8LS4cytXeuqKe7uBJ/qF1zAM5OGZc=  2016-11-18      13       2   \n",
       "4  kWl8bmqhgiRnkvlGe7xNn5IueQxK485CAJSepMxCz8M=  2016-11-18       2       1   \n",
       "\n",
       "   num_75  num_985  num_100  num_unq  total_secs  year  month  \n",
       "0       1        0       27       30    7254.569  2016     11  \n",
       "1       0        0        5        4    1246.000  2016     11  \n",
       "2       0        0        7       10    1529.590  2016     11  \n",
       "3       2        0       21       32    6463.842  2016     11  \n",
       "4       1        1        8       13    2557.191  2016     11  "
      ]
     },
     "metadata": {},
     "output_type": "display_data"
    },
    {
     "name": "stdout",
     "output_type": "stream",
     "text": [
      "\n",
      "=== Transactions ===\n"
     ]
    },
    {
     "data": {
      "text/html": [
       "<div>\n",
       "<style scoped>\n",
       "    .dataframe tbody tr th:only-of-type {\n",
       "        vertical-align: middle;\n",
       "    }\n",
       "\n",
       "    .dataframe tbody tr th {\n",
       "        vertical-align: top;\n",
       "    }\n",
       "\n",
       "    .dataframe thead th {\n",
       "        text-align: right;\n",
       "    }\n",
       "</style>\n",
       "<table border=\"1\" class=\"dataframe\">\n",
       "  <thead>\n",
       "    <tr style=\"text-align: right;\">\n",
       "      <th></th>\n",
       "      <th>msno</th>\n",
       "      <th>payment_method_id</th>\n",
       "      <th>payment_plan_days</th>\n",
       "      <th>plan_list_price</th>\n",
       "      <th>actual_amount_paid</th>\n",
       "      <th>is_auto_renew</th>\n",
       "      <th>transaction_date</th>\n",
       "      <th>membership_expire_date</th>\n",
       "      <th>is_cancel</th>\n",
       "      <th>source_file</th>\n",
       "      <th>day</th>\n",
       "      <th>transaction_id</th>\n",
       "      <th>year</th>\n",
       "      <th>month</th>\n",
       "    </tr>\n",
       "  </thead>\n",
       "  <tbody>\n",
       "    <tr>\n",
       "      <th>0</th>\n",
       "      <td>VIHHLepUEMXxF2ielWsw694ctqMrYUrAzubpTU6zmKo=</td>\n",
       "      <td>41</td>\n",
       "      <td>30</td>\n",
       "      <td>149</td>\n",
       "      <td>149</td>\n",
       "      <td>1</td>\n",
       "      <td>2016-11-08</td>\n",
       "      <td>2016-12-08</td>\n",
       "      <td>0</td>\n",
       "      <td>transactions.csv</td>\n",
       "      <td>8</td>\n",
       "      <td>84c76dce-ee16-403a-8428-be7b5db9a433</td>\n",
       "      <td>2016</td>\n",
       "      <td>11</td>\n",
       "    </tr>\n",
       "    <tr>\n",
       "      <th>1</th>\n",
       "      <td>TkAhpvvz+vU7LBuVHbphI4QzYY7QvK0mpypkzT/6DHQ=</td>\n",
       "      <td>26</td>\n",
       "      <td>1</td>\n",
       "      <td>0</td>\n",
       "      <td>0</td>\n",
       "      <td>0</td>\n",
       "      <td>2016-11-23</td>\n",
       "      <td>2016-11-30</td>\n",
       "      <td>0</td>\n",
       "      <td>transactions.csv</td>\n",
       "      <td>23</td>\n",
       "      <td>218cfc0b-0139-443c-a756-6805cbef01d9</td>\n",
       "      <td>2016</td>\n",
       "      <td>11</td>\n",
       "    </tr>\n",
       "    <tr>\n",
       "      <th>2</th>\n",
       "      <td>VIl7ZhgbpR4kLC/Zx0TS8j1Tg9Uui4OK9SKHXQtIWDQ=</td>\n",
       "      <td>41</td>\n",
       "      <td>30</td>\n",
       "      <td>149</td>\n",
       "      <td>149</td>\n",
       "      <td>1</td>\n",
       "      <td>2016-11-06</td>\n",
       "      <td>2016-12-06</td>\n",
       "      <td>0</td>\n",
       "      <td>transactions.csv</td>\n",
       "      <td>6</td>\n",
       "      <td>08bba8c6-5efe-4048-9a79-a66c2a704ffe</td>\n",
       "      <td>2016</td>\n",
       "      <td>11</td>\n",
       "    </tr>\n",
       "    <tr>\n",
       "      <th>3</th>\n",
       "      <td>UBfqR1od2RUoO5UfDkQD8Bdttmy3xP6KogdTf0B5Di8=</td>\n",
       "      <td>26</td>\n",
       "      <td>1</td>\n",
       "      <td>0</td>\n",
       "      <td>0</td>\n",
       "      <td>0</td>\n",
       "      <td>2016-11-18</td>\n",
       "      <td>2017-05-24</td>\n",
       "      <td>0</td>\n",
       "      <td>transactions_v2.csv</td>\n",
       "      <td>18</td>\n",
       "      <td>de5c9457-650f-45b6-8ca2-4a226d2e49d9</td>\n",
       "      <td>2016</td>\n",
       "      <td>11</td>\n",
       "    </tr>\n",
       "    <tr>\n",
       "      <th>4</th>\n",
       "      <td>VIm9MHW1FcFvwKm5AauSYxBMnr0yUuPuWn+SRbxzNDk=</td>\n",
       "      <td>37</td>\n",
       "      <td>30</td>\n",
       "      <td>149</td>\n",
       "      <td>149</td>\n",
       "      <td>1</td>\n",
       "      <td>2016-11-10</td>\n",
       "      <td>2016-12-10</td>\n",
       "      <td>0</td>\n",
       "      <td>transactions.csv</td>\n",
       "      <td>10</td>\n",
       "      <td>6b208684-2544-43a3-b9ba-3793222743d0</td>\n",
       "      <td>2016</td>\n",
       "      <td>11</td>\n",
       "    </tr>\n",
       "  </tbody>\n",
       "</table>\n",
       "</div>"
      ],
      "text/plain": [
       "                                           msno  payment_method_id  \\\n",
       "0  VIHHLepUEMXxF2ielWsw694ctqMrYUrAzubpTU6zmKo=                 41   \n",
       "1  TkAhpvvz+vU7LBuVHbphI4QzYY7QvK0mpypkzT/6DHQ=                 26   \n",
       "2  VIl7ZhgbpR4kLC/Zx0TS8j1Tg9Uui4OK9SKHXQtIWDQ=                 41   \n",
       "3  UBfqR1od2RUoO5UfDkQD8Bdttmy3xP6KogdTf0B5Di8=                 26   \n",
       "4  VIm9MHW1FcFvwKm5AauSYxBMnr0yUuPuWn+SRbxzNDk=                 37   \n",
       "\n",
       "   payment_plan_days  plan_list_price  actual_amount_paid  is_auto_renew  \\\n",
       "0                 30              149                 149              1   \n",
       "1                  1                0                   0              0   \n",
       "2                 30              149                 149              1   \n",
       "3                  1                0                   0              0   \n",
       "4                 30              149                 149              1   \n",
       "\n",
       "  transaction_date membership_expire_date  is_cancel          source_file  \\\n",
       "0       2016-11-08             2016-12-08          0     transactions.csv   \n",
       "1       2016-11-23             2016-11-30          0     transactions.csv   \n",
       "2       2016-11-06             2016-12-06          0     transactions.csv   \n",
       "3       2016-11-18             2017-05-24          0  transactions_v2.csv   \n",
       "4       2016-11-10             2016-12-10          0     transactions.csv   \n",
       "\n",
       "   day                        transaction_id  year  month  \n",
       "0    8  84c76dce-ee16-403a-8428-be7b5db9a433  2016     11  \n",
       "1   23  218cfc0b-0139-443c-a756-6805cbef01d9  2016     11  \n",
       "2    6  08bba8c6-5efe-4048-9a79-a66c2a704ffe  2016     11  \n",
       "3   18  de5c9457-650f-45b6-8ca2-4a226d2e49d9  2016     11  \n",
       "4   10  6b208684-2544-43a3-b9ba-3793222743d0  2016     11  "
      ]
     },
     "metadata": {},
     "output_type": "display_data"
    }
   ],
   "source": [
    "print(\"=== Members ===\")\n",
    "display(df_members.limit(5).toPandas())\n",
    "\n",
    "print(\"\\n=== User Logs ===\")\n",
    "display(df_userlogs.limit(5).toPandas())\n",
    "\n",
    "print(\"\\n=== Transactions ===\")\n",
    "display(df_transactions.limit(5).toPandas())"
   ]
  },
  {
   "cell_type": "code",
   "execution_count": 40,
   "id": "9e0fbff8-732c-46dd-8db2-56e8ba2e60c8",
   "metadata": {},
   "outputs": [
    {
     "name": "stdout",
     "output_type": "stream",
     "text": [
      "+-----------------+\n",
      "|registration_date|\n",
      "+-----------------+\n",
      "|       2014-11-12|\n",
      "|       2013-01-22|\n",
      "|       2015-03-09|\n",
      "|       2013-05-21|\n",
      "|       2012-10-06|\n",
      "|       2014-09-26|\n",
      "|       2013-09-09|\n",
      "|       2013-03-26|\n",
      "|       2015-05-19|\n",
      "|       2012-04-17|\n",
      "|       2016-03-01|\n",
      "|       2007-11-23|\n",
      "|       2007-04-20|\n",
      "|       2009-07-25|\n",
      "|       2010-08-11|\n",
      "|       2007-11-15|\n",
      "|       2005-06-06|\n",
      "|       2006-05-17|\n",
      "|       2006-05-21|\n",
      "|       2009-11-22|\n",
      "+-----------------+\n",
      "only showing top 20 rows\n",
      "\n"
     ]
    }
   ],
   "source": [
    "df_members.select(\"registration_date\").distinct().show()\n",
    "\n",
    "\n"
   ]
  },
  {
   "cell_type": "markdown",
   "id": "fc741c78-be42-41a9-abe7-db00a8fc876f",
   "metadata": {},
   "source": [
    "# Set Today's date (aka inference date)\n",
    "\n",
    "This date is training cutoff. we train on all users before this date"
   ]
  },
  {
   "cell_type": "code",
   "execution_count": 41,
   "id": "a3c46c3a-bf43-4788-ad98-c53e34b2cada",
   "metadata": {},
   "outputs": [
    {
     "name": "stdout",
     "output_type": "stream",
     "text": [
      "Today's date is set to: 2017-03-01\n"
     ]
    }
   ],
   "source": [
    "inference_date = \"2017-03-01\"\n",
    "print(f\"Today's date is set to: {inference_date}\")"
   ]
  },
  {
   "cell_type": "code",
   "execution_count": 42,
   "id": "3a1f98f9-675b-4f50-8d56-1aba1d918139",
   "metadata": {},
   "outputs": [
    {
     "name": "stdout",
     "output_type": "stream",
     "text": [
      "Registered users up to 2017-03-01 : 6618540\n"
     ]
    },
    {
     "name": "stderr",
     "output_type": "stream",
     "text": [
      "[Stage 171:==========================================>              (3 + 1) / 4]"
     ]
    },
    {
     "name": "stdout",
     "output_type": "stream",
     "text": [
      "+--------------------------------------------+-----------------+-----------------------+--------------+----------+---------------+--------------+\n",
      "|msno                                        |registration_date|tenure_days_at_snapshot|registered_via|city_clean|via_oh         |city_oh       |\n",
      "+--------------------------------------------+-----------------+-----------------------+--------------+----------+---------------+--------------+\n",
      "|Z1SBrlbnzZzQZtlS3CUmas9SQkJyb0B1+gEeuP/V9O0=|2016-06-12       |262                    |1             |1         |(18,[14],[1.0])|(21,[0],[1.0])|\n",
      "|2GkgHuwB+NCVnpSRSxw0nyzPKeCTeVOoYiu2TdRg4qg=|2016-01-19       |407                    |1             |1         |(18,[14],[1.0])|(21,[0],[1.0])|\n",
      "|X1AmJaNJ1bpGEgxLveRwBhxGHytaIHHuNfAAPFKCFg4=|2016-12-27       |64                     |13            |1         |(18,[5],[1.0]) |(21,[0],[1.0])|\n",
      "|bJrFIXFymwWPhavSKeaA+yKE/Du1vgUwjEI3bJNQRuE=|2017-01-14       |46                     |13            |1         |(18,[5],[1.0]) |(21,[0],[1.0])|\n",
      "|nq+4KRKNWTQkH9VNArdNfhBNl70Vh01WEi/i9rPlxqU=|2017-02-01       |28                     |13            |1         |(18,[5],[1.0]) |(21,[0],[1.0])|\n",
      "+--------------------------------------------+-----------------+-----------------------+--------------+----------+---------------+--------------+\n",
      "only showing top 5 rows\n",
      "\n"
     ]
    },
    {
     "name": "stderr",
     "output_type": "stream",
     "text": [
      "                                                                                "
     ]
    }
   ],
   "source": [
    "from pyspark.sql.functions import to_date, col, lit\n",
    "\n",
    "registered_users = (\n",
    "    df_members\n",
    "    .withColumn(\"registration_date\", F.to_date(\"registration_date\"))\n",
    "    .filter(F.col(\"registration_date\") <= F.to_date(F.lit(inference_date)))\n",
    "    .withColumn(\n",
    "        \"tenure_days_at_snapshot\",\n",
    "        F.datediff(F.to_date(F.lit(inference_date)), F.col(\"registration_date\"))\n",
    "    )\n",
    "    .select(\n",
    "        \"msno\",\n",
    "        \"registration_date\",\n",
    "        \"tenure_days_at_snapshot\",\n",
    "        \"registered_via\",\n",
    "        \"city_clean\",\n",
    "        \"via_oh\",\n",
    "        \"city_oh\"\n",
    "    )\n",
    ")\n",
    "\n",
    "\n",
    "print(\"Registered users up to\", inference_date, \":\", registered_users.count())\n",
    "registered_users.show(5, truncate=False)"
   ]
  },
  {
   "cell_type": "markdown",
   "id": "f705bf5f-e5c3-4b78-baab-b2b8badd8808",
   "metadata": {},
   "source": [
    "# Aggregate userlogs data\n",
    "Aggregate all userlog data from the last 30 days for all members"
   ]
  },
  {
   "cell_type": "code",
   "execution_count": 43,
   "id": "179d967b-2169-4206-84e8-60d1b5c92f84",
   "metadata": {},
   "outputs": [],
   "source": [
    "from pyspark.sql.functions import sum as _sum, to_date, col, lit, date_sub\n",
    "\n",
    "ref_today = to_date(lit(inference_date))\n",
    "lower30 = F.date_sub(ref_today, 29)   # inclusive window: [today-29, today]\n",
    "lower7  = F.date_sub(ref_today, 6)    # inclusive window: [today-6,  today]\n",
    "\n",
    "# Filter logs to the last 30 days\n",
    "userlogs_30d = (\n",
    "    df_userlogs\n",
    "    .withColumn(\"date\", to_date(col(\"date\")))\n",
    "    .filter((col(\"date\") >= lower30) & (col(\"date\") <= ref_today))\n",
    ")\n",
    "\n",
    "userlogs_7d = (\n",
    "    df_userlogs\n",
    "    .withColumn(\"date\", to_date(col(\"date\")))\n",
    "    .filter((col(\"date\") >= lower7) & (col(\"date\") <= ref_today))\n",
    ")\n",
    "\n",
    "\n"
   ]
  },
  {
   "cell_type": "markdown",
   "id": "ebf9beb9-09e3-46c5-a006-1bf62a177194",
   "metadata": {},
   "source": [
    "all user activity for the past 1 month (inference date) and past 7 days."
   ]
  },
  {
   "cell_type": "code",
   "execution_count": 44,
   "id": "262b64eb-8bbf-4a5a-a84b-a16a654883c7",
   "metadata": {},
   "outputs": [
    {
     "name": "stderr",
     "output_type": "stream",
     "text": [
      "                                                                                "
     ]
    },
    {
     "name": "stdout",
     "output_type": "stream",
     "text": [
      "=== 30-day Window ===\n",
      "Expected Range : Column<'date_sub(to_date(2017-03-01), 29)'> → Column<'to_date(2017-03-01)'>\n",
      "Actual Data    : 2017-01-31 → 2017-02-28\n",
      "\n",
      "=== 7-day Window ===\n",
      "Expected Range : Column<'date_sub(to_date(2017-03-01), 6)'> → Column<'to_date(2017-03-01)'>\n",
      "Actual Data    : 2017-02-23 → 2017-02-28\n",
      "\n",
      "Sample rows (30-day):\n"
     ]
    },
    {
     "name": "stderr",
     "output_type": "stream",
     "text": [
      "                                                                                "
     ]
    },
    {
     "name": "stdout",
     "output_type": "stream",
     "text": [
      "+--------------------------------------------+----------+------+------+------+-------+-------+-------+----------+----+-----+\n",
      "|msno                                        |date      |num_25|num_50|num_75|num_985|num_100|num_unq|total_secs|year|month|\n",
      "+--------------------------------------------+----------+------+------+------+-------+-------+-------+----------+----+-----+\n",
      "|MFgsxN5hxmtImcDzvIMS8re+fOYqIcJ/NxZQ9pOtdPk=|2017-01-31|5     |3     |1     |1      |4      |14     |1765.493  |2017|1    |\n",
      "|6f2d8xP4+7I5dmNCs3L1bxDkMu4nTIiG2WaMFzXwWtI=|2017-01-31|1     |0     |0     |1      |1      |3      |370.908   |2017|1    |\n",
      "|s/YsCwEawjHllDo4esbHe9+mlHsf+A5Sj9Wr8QXXD2c=|2017-01-31|6     |2     |2     |1      |42     |50     |11294.512 |2017|1    |\n",
      "|w9IAl6AP2KDLbLc9QOH5zmqo/i+3WFE5eoz2dj7fo6o=|2017-01-31|0     |0     |0     |1      |19     |19     |5042.345  |2017|1    |\n",
      "|jMnISH5O9cUm4HK/0i9A2Yw14zxD9KoLoxrpnVkmhY0=|2017-01-31|0     |0     |0     |0      |8      |8      |1984.512  |2017|1    |\n",
      "+--------------------------------------------+----------+------+------+------+-------+-------+-------+----------+----+-----+\n",
      "only showing top 5 rows\n",
      "\n",
      "Sample rows (7-day):\n"
     ]
    },
    {
     "name": "stderr",
     "output_type": "stream",
     "text": [
      "[Stage 179:====================================================>(157 + 1) / 158]"
     ]
    },
    {
     "name": "stdout",
     "output_type": "stream",
     "text": [
      "+--------------------------------------------+----------+------+------+------+-------+-------+-------+----------+----+-----+\n",
      "|msno                                        |date      |num_25|num_50|num_75|num_985|num_100|num_unq|total_secs|year|month|\n",
      "+--------------------------------------------+----------+------+------+------+-------+-------+-------+----------+----+-----+\n",
      "|AykiiZt/O0tj/C2vQJguJsy9XUY5ntQx3s7joKmQqXU=|2017-02-23|2     |2     |0     |0      |0      |3      |181.891   |2017|2    |\n",
      "|Q/HIJwlgnmJ/uNIWKzttysNMAG0prIvbWXt/8TpTwOM=|2017-02-23|8     |0     |0     |0      |1      |9      |342.633   |2017|2    |\n",
      "|TXYD1o7RFxaEtVoIhAXRBuAion+OLv+SaKSV6UrkCBY=|2017-02-23|0     |0     |2     |2      |11     |9      |3484.156  |2017|2    |\n",
      "|23/PDSfc0cUySvkV5rIPtl9vit6kr3lZSn/Bei4+BzE=|2017-02-23|0     |1     |0     |0      |16     |16     |3640.11   |2017|2    |\n",
      "|N3LSaE5py+qQZqzGXNa6cdMOmZNce3WGHsf/DSebU/4=|2017-02-23|2     |0     |1     |2      |39     |32     |10297.15  |2017|2    |\n",
      "+--------------------------------------------+----------+------+------+------+-------+-------+-------+----------+----+-----+\n",
      "only showing top 5 rows\n",
      "\n"
     ]
    },
    {
     "name": "stderr",
     "output_type": "stream",
     "text": [
      "                                                                                "
     ]
    }
   ],
   "source": [
    "from pyspark.sql import functions as F\n",
    "\n",
    "today = \"2017-03-01\"\n",
    "ref_today = F.to_date(F.lit(today))\n",
    "lower30 = F.date_sub(ref_today, 29)\n",
    "lower7  = F.date_sub(ref_today, 6)\n",
    "\n",
    "# Convert date column properly\n",
    "df_userlogs = df_userlogs.withColumn(\"date\", F.to_date(\"date\"))\n",
    "\n",
    "# Last 30 days\n",
    "userlogs_30d = df_userlogs.filter((F.col(\"date\") >= lower30) & (F.col(\"date\") <= ref_today))\n",
    "\n",
    "# Last 7 days\n",
    "userlogs_7d  = df_userlogs.filter((F.col(\"date\") >= lower7) & (F.col(\"date\") <= ref_today))\n",
    "\n",
    "# --- PRINT WINDOW RANGES CLEANLY ---\n",
    "minmax_30 = userlogs_30d.select(F.min(\"date\").alias(\"min_date\"), F.max(\"date\").alias(\"max_date\")).collect()[0]\n",
    "minmax_7  = userlogs_7d.select(F.min(\"date\").alias(\"min_date\"), F.max(\"date\").alias(\"max_date\")).collect()[0]\n",
    "\n",
    "print(f\"=== 30-day Window ===\")\n",
    "print(f\"Expected Range : {lower30} → {ref_today}\")\n",
    "print(f\"Actual Data    : {minmax_30['min_date']} → {minmax_30['max_date']}\\n\")\n",
    "\n",
    "print(f\"=== 7-day Window ===\")\n",
    "print(f\"Expected Range : {lower7} → {ref_today}\")\n",
    "print(f\"Actual Data    : {minmax_7['min_date']} → {minmax_7['max_date']}\\n\")\n",
    "\n",
    "# Show sample rows for visual check\n",
    "print(\"Sample rows (30-day):\")\n",
    "userlogs_30d.orderBy(\"date\").show(5, truncate=False)\n",
    "\n",
    "print(\"Sample rows (7-day):\")\n",
    "userlogs_7d.orderBy(\"date\").show(5, truncate=False)\n"
   ]
  },
  {
   "cell_type": "code",
   "execution_count": 45,
   "id": "499268d6-e5f1-48f6-a728-7757971fa47d",
   "metadata": {},
   "outputs": [
    {
     "name": "stderr",
     "output_type": "stream",
     "text": [
      "                                                                                "
     ]
    },
    {
     "data": {
      "text/plain": [
       "6618540"
      ]
     },
     "execution_count": 45,
     "metadata": {},
     "output_type": "execute_result"
    }
   ],
   "source": [
    "registered_users.select(\"msno\").distinct().count()"
   ]
  },
  {
   "cell_type": "code",
   "execution_count": 46,
   "id": "c92ace64-8803-458a-85c3-d85d7a0e6157",
   "metadata": {},
   "outputs": [
    {
     "name": "stderr",
     "output_type": "stream",
     "text": [
      "                                                                                "
     ]
    },
    {
     "data": {
      "text/plain": [
       "1098181"
      ]
     },
     "execution_count": 46,
     "metadata": {},
     "output_type": "execute_result"
    }
   ],
   "source": [
    "userlogs_30d.select(\"msno\").distinct().count()"
   ]
  },
  {
   "cell_type": "code",
   "execution_count": 47,
   "id": "b6a4e2f5-c898-445f-b933-93c88baba489",
   "metadata": {},
   "outputs": [
    {
     "name": "stderr",
     "output_type": "stream",
     "text": [
      "                                                                                "
     ]
    },
    {
     "data": {
      "text/plain": [
       "847338"
      ]
     },
     "execution_count": 47,
     "metadata": {},
     "output_type": "execute_result"
    }
   ],
   "source": [
    "userlogs_7d.select(\"msno\").distinct().count()"
   ]
  },
  {
   "cell_type": "code",
   "execution_count": 48,
   "id": "1e5f7c89-95f6-4145-b797-4435e7ef50f2",
   "metadata": {},
   "outputs": [],
   "source": [
    "user_sum_30d = (\n",
    "    userlogs_30d\n",
    "    .groupBy(\"msno\")\n",
    "    .agg(F.sum(\"total_secs\").alias(\"sum_secs_w30\"))\n",
    ")\n",
    "\n",
    "registered_users = (\n",
    "    registered_users\n",
    "    .join(user_sum_30d, on=\"msno\", how=\"left\")\n",
    "    .na.fill({\"sum_secs_w30\": 0.0})   # fill 0 for users with no activity\n",
    ")\n",
    "\n",
    "\n"
   ]
  },
  {
   "cell_type": "code",
   "execution_count": 49,
   "id": "8e5256bd-dc7d-46c2-bb6c-9a2ec1330d00",
   "metadata": {},
   "outputs": [],
   "source": [
    "user_active_days_30d = (\n",
    "    userlogs_30d\n",
    "    .groupBy(\"msno\")\n",
    "    .agg(F.countDistinct(\"date\").alias(\"active_days_w30\"))\n",
    ")\n",
    "\n",
    "registered_users = (\n",
    "    registered_users\n",
    "    .join(user_active_days_30d, on=\"msno\", how=\"left\")\n",
    "    .na.fill({\"active_days_w30\": 0})\n",
    ")\n",
    "\n",
    "\n",
    "\n"
   ]
  },
  {
   "cell_type": "code",
   "execution_count": 50,
   "id": "134f04a1-fc4d-481b-bd22-11bd1324ea8e",
   "metadata": {},
   "outputs": [],
   "source": [
    "user_complete_rate_30d = (\n",
    "    userlogs_30d\n",
    "    .groupBy(\"msno\")\n",
    "    .agg(\n",
    "        (F.sum(\"num_100\") / F.sum(\"num_unq\")).alias(\"complete_rate_w30\")\n",
    "    )\n",
    ")\n",
    "\n",
    "# Join with registered_users\n",
    "registered_users = (\n",
    "    registered_users\n",
    "    .join(user_complete_rate_30d, on=\"msno\", how=\"left\")\n",
    "    .na.fill({\"complete_rate_w30\": 0.0})\n",
    ")\n"
   ]
  },
  {
   "cell_type": "code",
   "execution_count": 51,
   "id": "74565c68-c242-4f07-85aa-4f8192bb5c36",
   "metadata": {},
   "outputs": [],
   "source": [
    "user_sum_7d = (\n",
    "    userlogs_7d\n",
    "    .groupBy(\"msno\")\n",
    "    .agg(F.sum(\"total_secs\").alias(\"sum_secs_w7\"))\n",
    ")\n",
    "\n",
    "# === 2️⃣ Join with registered_users ===\n",
    "registered_users = (\n",
    "    registered_users\n",
    "    .join(user_sum_7d, on=\"msno\", how=\"left\")\n",
    "    .na.fill({\"sum_secs_w7\": 0.0})\n",
    ")\n",
    "\n",
    "# === 3️⃣ Compute engagement_ratio_7_30 ===\n",
    "registered_users = (\n",
    "    registered_users\n",
    "    .withColumn(\n",
    "        \"engagement_ratio_7_30\",\n",
    "        F.col(\"sum_secs_w7\") / F.when(F.col(\"sum_secs_w30\") > 0, F.col(\"sum_secs_w30\")).otherwise(F.lit(1))\n",
    "    )\n",
    ")\n"
   ]
  },
  {
   "cell_type": "code",
   "execution_count": 52,
   "id": "0c74ea94-c65b-4c8e-882d-5523d994d858",
   "metadata": {},
   "outputs": [],
   "source": [
    "last_play = (\n",
    "    df_userlogs\n",
    "    .filter(F.col(\"date\") <= ref_today)\n",
    "    .groupBy(\"msno\")\n",
    "    .agg(F.max(\"date\").alias(\"last_play_date\"))\n",
    ")\n",
    "\n",
    "# 3) Join to registered_users and compute gap\n",
    "registered_users = (\n",
    "    registered_users\n",
    "    .join(last_play, on=\"msno\", how=\"left\")\n",
    "    .withColumn(\"days_since_last_play\", F.datediff(ref_today, F.col(\"last_play_date\")))\n",
    ")"
   ]
  },
  {
   "cell_type": "code",
   "execution_count": 53,
   "id": "39583239-60b5-4a5f-91aa-faab39ffbdfa",
   "metadata": {},
   "outputs": [],
   "source": [
    "from pyspark.sql import Window\n",
    "\n",
    "# 1️⃣ Aggregate total seconds per user per day (in the 30d window)\n",
    "daily_secs = (\n",
    "    userlogs_30d\n",
    "    .groupBy(\"msno\", \"date\")\n",
    "    .agg(F.sum(\"total_secs\").alias(\"daily_secs\"))\n",
    ")\n",
    "\n",
    "# 2️⃣ Assign day index relative to the start of the window\n",
    "window_spec = Window.partitionBy(\"msno\").orderBy(\"date\")\n",
    "daily_secs = (\n",
    "    daily_secs\n",
    "    .withColumn(\"day_idx\", F.row_number().over(window_spec))\n",
    ")\n",
    "\n",
    "# 3️⃣ Compute slope = cov(x, y) / var(x)\n",
    "trend = (\n",
    "    daily_secs\n",
    "    .groupBy(\"msno\")\n",
    "    .agg(\n",
    "        (F.covar_pop(\"day_idx\", \"daily_secs\") / F.var_pop(\"day_idx\")).alias(\"trend_secs_w30\")\n",
    "    )\n",
    ")\n",
    "\n",
    "# 4️⃣ Join back to registered_users\n",
    "registered_users = (\n",
    "    registered_users\n",
    "    .join(trend, on=\"msno\", how=\"left\")\n",
    "    .na.fill({\"trend_secs_w30\": 0.0})\n",
    ")"
   ]
  },
  {
   "cell_type": "code",
   "execution_count": 54,
   "id": "44a970f0-e5e4-4bd6-b177-dedad1605aaa",
   "metadata": {},
   "outputs": [
    {
     "name": "stderr",
     "output_type": "stream",
     "text": [
      "[Stage 208:==========================================>            (10 + 3) / 13]"
     ]
    },
    {
     "name": "stdout",
     "output_type": "stream",
     "text": [
      "+--------------------+-----------------+-----------------------+--------------+----------+--------------+--------------+------------+---------------+------------------+-----------+---------------------+--------------+--------------------+--------------+\n",
      "|                msno|registration_date|tenure_days_at_snapshot|registered_via|city_clean|        via_oh|       city_oh|sum_secs_w30|active_days_w30| complete_rate_w30|sum_secs_w7|engagement_ratio_7_30|last_play_date|days_since_last_play|trend_secs_w30|\n",
      "+--------------------+-----------------+-----------------------+--------------+----------+--------------+--------------+------------+---------------+------------------+-----------+---------------------+--------------+--------------------+--------------+\n",
      "|++4RuqBw0Ss6bQU4o...|       2014-07-14|                    961|             7|         1|(18,[3],[1.0])|(21,[0],[1.0])|    1368.191|              1|0.5714285714285714|        0.0|                  0.0|    2017-02-20|                   9|           0.0|\n",
      "|++7jKYbuIJPXry8Oh...|       2014-09-09|                    904|             3|         6|(18,[1],[1.0])|(21,[6],[1.0])|         0.0|              0|               0.0|        0.0|                  0.0|    2016-03-17|                 349|           0.0|\n",
      "|++9qc6qfKaJiwWMKq...|       2015-12-28|                    429|             4|         1|(18,[0],[1.0])|(21,[0],[1.0])|         0.0|              0|               0.0|        0.0|                  0.0|    2016-01-01|                 425|           0.0|\n",
      "|++OepqRK4wiYg4Chl...|       2016-01-25|                    401|             7|         1|(18,[3],[1.0])|(21,[0],[1.0])|         0.0|              0|               0.0|        0.0|                  0.0|    2016-04-06|                 329|           0.0|\n",
      "|++e4rMM7yMG4IJ7Rj...|       2014-09-24|                    889|             7|         1|(18,[3],[1.0])|(21,[0],[1.0])|         0.0|              0|               0.0|        0.0|                  0.0|    2015-02-15|                 745|           0.0|\n",
      "+--------------------+-----------------+-----------------------+--------------+----------+--------------+--------------+------------+---------------+------------------+-----------+---------------------+--------------+--------------------+--------------+\n",
      "only showing top 5 rows\n",
      "\n"
     ]
    },
    {
     "name": "stderr",
     "output_type": "stream",
     "text": [
      "                                                                                "
     ]
    }
   ],
   "source": [
    "registered_users = registered_users.na.fill(0)\n",
    "registered_users.show(5)"
   ]
  },
  {
   "cell_type": "markdown",
   "id": "5b879793-342f-4c5c-a606-55fdcafb4298",
   "metadata": {},
   "source": [
    "# Transaction data"
   ]
  },
  {
   "cell_type": "code",
   "execution_count": 55,
   "id": "448d9fd4-c8af-4644-816e-79196f872af1",
   "metadata": {},
   "outputs": [
    {
     "name": "stdout",
     "output_type": "stream",
     "text": [
      "+--------------------+-----------------+-----------------+---------------+------------------+-------------+----------------+----------------------+---------+-------------------+---+--------------------+----+-----+\n",
      "|                msno|payment_method_id|payment_plan_days|plan_list_price|actual_amount_paid|is_auto_renew|transaction_date|membership_expire_date|is_cancel|        source_file|day|      transaction_id|year|month|\n",
      "+--------------------+-----------------+-----------------+---------------+------------------+-------------+----------------+----------------------+---------+-------------------+---+--------------------+----+-----+\n",
      "|VIHHLepUEMXxF2iel...|               41|               30|            149|               149|            1|      2016-11-08|            2016-12-08|        0|   transactions.csv|  8|84c76dce-ee16-403...|2016|   11|\n",
      "|TkAhpvvz+vU7LBuVH...|               26|                1|              0|                 0|            0|      2016-11-23|            2016-11-30|        0|   transactions.csv| 23|218cfc0b-0139-443...|2016|   11|\n",
      "|VIl7ZhgbpR4kLC/Zx...|               41|               30|            149|               149|            1|      2016-11-06|            2016-12-06|        0|   transactions.csv|  6|08bba8c6-5efe-404...|2016|   11|\n",
      "|UBfqR1od2RUoO5UfD...|               26|                1|              0|                 0|            0|      2016-11-18|            2017-05-24|        0|transactions_v2.csv| 18|de5c9457-650f-45b...|2016|   11|\n",
      "|VIm9MHW1FcFvwKm5A...|               37|               30|            149|               149|            1|      2016-11-10|            2016-12-10|        0|   transactions.csv| 10|6b208684-2544-43a...|2016|   11|\n",
      "+--------------------+-----------------+-----------------+---------------+------------------+-------------+----------------+----------------------+---------+-------------------+---+--------------------+----+-----+\n",
      "only showing top 5 rows\n",
      "\n"
     ]
    }
   ],
   "source": [
    "df_transactions.show(5)"
   ]
  },
  {
   "cell_type": "code",
   "execution_count": 56,
   "id": "63ceeb22-334d-4dc8-9a8e-b70c2f09d2a4",
   "metadata": {},
   "outputs": [],
   "source": [
    "\n",
    "df_transactions_filtered = (\n",
    "    df_transactions\n",
    "    .filter(F.to_date(F.col(\"transaction_date\")) <= F.to_date(F.lit(inference_date)))\n",
    ")\n"
   ]
  },
  {
   "cell_type": "code",
   "execution_count": 57,
   "id": "abd01240-0e02-4675-a4fb-ef02c63dcb97",
   "metadata": {},
   "outputs": [],
   "source": [
    "# Latest transaction per user\n",
    "latest_tx = (df_transactions_filtered.groupBy(\"msno\")\n",
    "               .agg(F.max(\"transaction_date\").alias(\"latest_transaction_date\")))\n",
    "\n",
    "# Join and compute tenure_days\n",
    "registered_users = (registered_users\n",
    "    .join(latest_tx, on=\"msno\", how=\"left\")\n",
    "    .withColumn(\"tenure_days\",\n",
    "                F.datediff(F.col(\"latest_transaction_date\"), F.col(\"registration_date\")))\n",
    "    .na.fill({\"tenure_days\": 0})\n",
    ")\n"
   ]
  },
  {
   "cell_type": "code",
   "execution_count": 58,
   "id": "7b377cd8-7dec-440d-a289-5d99fbef9f69",
   "metadata": {},
   "outputs": [
    {
     "name": "stderr",
     "output_type": "stream",
     "text": [
      "[Stage 231:======================================>                 (9 + 4) / 13]"
     ]
    },
    {
     "name": "stdout",
     "output_type": "stream",
     "text": [
      "+--------------------+-----------------+-----------------------+--------------+----------+--------------+--------------+------------+---------------+------------------+-----------+---------------------+--------------+--------------------+--------------+-----------------------+-----------+\n",
      "|                msno|registration_date|tenure_days_at_snapshot|registered_via|city_clean|        via_oh|       city_oh|sum_secs_w30|active_days_w30| complete_rate_w30|sum_secs_w7|engagement_ratio_7_30|last_play_date|days_since_last_play|trend_secs_w30|latest_transaction_date|tenure_days|\n",
      "+--------------------+-----------------+-----------------------+--------------+----------+--------------+--------------+------------+---------------+------------------+-----------+---------------------+--------------+--------------------+--------------+-----------------------+-----------+\n",
      "|++4RuqBw0Ss6bQU4o...|       2014-07-14|                    961|             7|         1|(18,[3],[1.0])|(21,[0],[1.0])|    1368.191|              1|0.5714285714285714|        0.0|                  0.0|    2017-02-20|                   9|           0.0|             2017-02-13|        945|\n",
      "|++7jKYbuIJPXry8Oh...|       2014-09-09|                    904|             3|         6|(18,[1],[1.0])|(21,[6],[1.0])|         0.0|              0|               0.0|        0.0|                  0.0|    2016-03-17|                 349|           0.0|             2016-03-12|        550|\n",
      "|++9qc6qfKaJiwWMKq...|       2015-12-28|                    429|             4|         1|(18,[0],[1.0])|(21,[0],[1.0])|         0.0|              0|               0.0|        0.0|                  0.0|    2016-01-01|                 425|           0.0|                   NULL|          0|\n",
      "|++OepqRK4wiYg4Chl...|       2016-01-25|                    401|             7|         1|(18,[3],[1.0])|(21,[0],[1.0])|         0.0|              0|               0.0|        0.0|                  0.0|    2016-04-06|                 329|           0.0|             2016-04-05|         71|\n",
      "|++e4rMM7yMG4IJ7Rj...|       2014-09-24|                    889|             7|         1|(18,[3],[1.0])|(21,[0],[1.0])|         0.0|              0|               0.0|        0.0|                  0.0|    2015-02-15|                 745|           0.0|                   NULL|          0|\n",
      "+--------------------+-----------------+-----------------------+--------------+----------+--------------+--------------+------------+---------------+------------------+-----------+---------------------+--------------+--------------------+--------------+-----------------------+-----------+\n",
      "only showing top 5 rows\n",
      "\n"
     ]
    },
    {
     "name": "stderr",
     "output_type": "stream",
     "text": [
      "                                                                                "
     ]
    }
   ],
   "source": [
    "registered_users.show(5)"
   ]
  },
  {
   "cell_type": "code",
   "execution_count": 59,
   "id": "3d7b4340-86c9-4150-b8d4-a9ac7cdf37bc",
   "metadata": {},
   "outputs": [],
   "source": [
    "# 1️⃣ Compute counts per user\n",
    "auto_renew_stats = (\n",
    "    df_transactions_filtered\n",
    "    .groupBy(\"msno\")\n",
    "    .agg(\n",
    "        F.sum(F.when(F.col(\"is_auto_renew\") == 1, 1).otherwise(0)).alias(\"auto_renew_count\"),\n",
    "        F.count(\"*\").alias(\"total_tx_before_expire\")\n",
    "    )\n",
    "    .withColumn(\n",
    "        \"auto_renew_share\",\n",
    "        F.col(\"auto_renew_count\") / F.when(F.col(\"total_tx_before_expire\") > 0, F.col(\"total_tx_before_expire\")).otherwise(F.lit(1))\n",
    "    )\n",
    ")\n",
    "\n",
    "# 2️⃣ Join to registered_users\n",
    "registered_users = (\n",
    "    registered_users\n",
    "    .join(auto_renew_stats.select(\"msno\", \"auto_renew_share\"), on=\"msno\", how=\"left\")\n",
    "    .na.fill({\"auto_renew_share\": 0.0})\n",
    ")\n"
   ]
  },
  {
   "cell_type": "code",
   "execution_count": 60,
   "id": "b8eccd13-62b0-4e0c-9159-fc1c12e167c0",
   "metadata": {},
   "outputs": [
    {
     "name": "stderr",
     "output_type": "stream",
     "text": [
      "[Stage 255:==============================================>        (11 + 2) / 13]"
     ]
    },
    {
     "name": "stdout",
     "output_type": "stream",
     "text": [
      "+--------------------+-----------------+-----------------------+--------------+----------+--------------+--------------+------------+---------------+------------------+-----------+---------------------+--------------+--------------------+--------------+-----------------------+-----------+----------------+\n",
      "|                msno|registration_date|tenure_days_at_snapshot|registered_via|city_clean|        via_oh|       city_oh|sum_secs_w30|active_days_w30| complete_rate_w30|sum_secs_w7|engagement_ratio_7_30|last_play_date|days_since_last_play|trend_secs_w30|latest_transaction_date|tenure_days|auto_renew_share|\n",
      "+--------------------+-----------------+-----------------------+--------------+----------+--------------+--------------+------------+---------------+------------------+-----------+---------------------+--------------+--------------------+--------------+-----------------------+-----------+----------------+\n",
      "|++4RuqBw0Ss6bQU4o...|       2014-07-14|                    961|             7|         1|(18,[3],[1.0])|(21,[0],[1.0])|    1368.191|              1|0.5714285714285714|        0.0|                  0.0|    2017-02-20|                   9|           0.0|             2017-02-13|        945|             1.0|\n",
      "|++7jKYbuIJPXry8Oh...|       2014-09-09|                    904|             3|         6|(18,[1],[1.0])|(21,[6],[1.0])|         0.0|              0|               0.0|        0.0|                  0.0|    2016-03-17|                 349|           0.0|             2016-03-12|        550|             0.0|\n",
      "|++9qc6qfKaJiwWMKq...|       2015-12-28|                    429|             4|         1|(18,[0],[1.0])|(21,[0],[1.0])|         0.0|              0|               0.0|        0.0|                  0.0|    2016-01-01|                 425|           0.0|                   NULL|          0|             0.0|\n",
      "|++OepqRK4wiYg4Chl...|       2016-01-25|                    401|             7|         1|(18,[3],[1.0])|(21,[0],[1.0])|         0.0|              0|               0.0|        0.0|                  0.0|    2016-04-06|                 329|           0.0|             2016-04-05|         71|             1.0|\n",
      "|++e4rMM7yMG4IJ7Rj...|       2014-09-24|                    889|             7|         1|(18,[3],[1.0])|(21,[0],[1.0])|         0.0|              0|               0.0|        0.0|                  0.0|    2015-02-15|                 745|           0.0|                   NULL|          0|             0.0|\n",
      "+--------------------+-----------------+-----------------------+--------------+----------+--------------+--------------+------------+---------------+------------------+-----------+---------------------+--------------+--------------------+--------------+-----------------------+-----------+----------------+\n",
      "only showing top 5 rows\n",
      "\n"
     ]
    },
    {
     "name": "stderr",
     "output_type": "stream",
     "text": [
      "                                                                                "
     ]
    }
   ],
   "source": [
    "registered_users.show(5)"
   ]
  },
  {
   "cell_type": "code",
   "execution_count": 61,
   "id": "21782c3d-c78f-449c-81ca-6e2da859a33b",
   "metadata": {},
   "outputs": [],
   "source": [
    "w_latest = Window.partitionBy(\"msno\").orderBy(F.col(\"transaction_date\").desc())\n",
    "\n",
    "# 2️⃣ Rank transactions and keep the latest\n",
    "latest_tx_flag = (\n",
    "    df_transactions_filtered\n",
    "    .withColumn(\"rn\", F.row_number().over(w_latest))\n",
    "    .filter(F.col(\"rn\") == 1)\n",
    "    .select(\"msno\", F.col(\"is_auto_renew\").alias(\"last_is_auto_renew\"))\n",
    ")\n",
    "\n",
    "# 3️⃣ Join into registered_users\n",
    "registered_users = (\n",
    "    registered_users\n",
    "    .join(latest_tx_flag, on=\"msno\", how=\"left\")\n",
    "    .na.fill({\"last_is_auto_renew\": 0})\n",
    ")"
   ]
  },
  {
   "cell_type": "code",
   "execution_count": 62,
   "id": "60e1b6f1-3d6c-424e-a0a7-a38bb9f1a532",
   "metadata": {},
   "outputs": [
    {
     "name": "stderr",
     "output_type": "stream",
     "text": [
      "[Stage 294:>                                                        (0 + 1) / 1]"
     ]
    },
    {
     "name": "stdout",
     "output_type": "stream",
     "text": [
      "+--------------------+-----------------+-----------------------+--------------+----------+--------------+--------------+------------+---------------+------------------+-----------+---------------------+--------------+--------------------+--------------+-----------------------+-----------+----------------+------------------+\n",
      "|                msno|registration_date|tenure_days_at_snapshot|registered_via|city_clean|        via_oh|       city_oh|sum_secs_w30|active_days_w30| complete_rate_w30|sum_secs_w7|engagement_ratio_7_30|last_play_date|days_since_last_play|trend_secs_w30|latest_transaction_date|tenure_days|auto_renew_share|last_is_auto_renew|\n",
      "+--------------------+-----------------+-----------------------+--------------+----------+--------------+--------------+------------+---------------+------------------+-----------+---------------------+--------------+--------------------+--------------+-----------------------+-----------+----------------+------------------+\n",
      "|++4RuqBw0Ss6bQU4o...|       2014-07-14|                    961|             7|         1|(18,[3],[1.0])|(21,[0],[1.0])|    1368.191|              1|0.5714285714285714|        0.0|                  0.0|    2017-02-20|                   9|           0.0|             2017-02-13|        945|             1.0|                 1|\n",
      "|++7jKYbuIJPXry8Oh...|       2014-09-09|                    904|             3|         6|(18,[1],[1.0])|(21,[6],[1.0])|         0.0|              0|               0.0|        0.0|                  0.0|    2016-03-17|                 349|           0.0|             2016-03-12|        550|             0.0|                 0|\n",
      "|++9qc6qfKaJiwWMKq...|       2015-12-28|                    429|             4|         1|(18,[0],[1.0])|(21,[0],[1.0])|         0.0|              0|               0.0|        0.0|                  0.0|    2016-01-01|                 425|           0.0|                   NULL|          0|             0.0|                 0|\n",
      "|++OepqRK4wiYg4Chl...|       2016-01-25|                    401|             7|         1|(18,[3],[1.0])|(21,[0],[1.0])|         0.0|              0|               0.0|        0.0|                  0.0|    2016-04-06|                 329|           0.0|             2016-04-05|         71|             1.0|                 1|\n",
      "|++e4rMM7yMG4IJ7Rj...|       2014-09-24|                    889|             7|         1|(18,[3],[1.0])|(21,[0],[1.0])|         0.0|              0|               0.0|        0.0|                  0.0|    2015-02-15|                 745|           0.0|                   NULL|          0|             0.0|                 0|\n",
      "+--------------------+-----------------+-----------------------+--------------+----------+--------------+--------------+------------+---------------+------------------+-----------+---------------------+--------------+--------------------+--------------+-----------------------+-----------+----------------+------------------+\n",
      "only showing top 5 rows\n",
      "\n"
     ]
    },
    {
     "name": "stderr",
     "output_type": "stream",
     "text": [
      "                                                                                "
     ]
    }
   ],
   "source": [
    "registered_users.show(5)"
   ]
  },
  {
   "cell_type": "code",
   "execution_count": 2,
   "id": "38eb670c-fa21-43f9-9cb3-e825740b39a9",
   "metadata": {},
   "outputs": [
    {
     "ename": "NameError",
     "evalue": "name 'registered_users' is not defined",
     "output_type": "error",
     "traceback": [
      "\u001b[31m---------------------------------------------------------------------------\u001b[39m",
      "\u001b[31mNameError\u001b[39m                                 Traceback (most recent call last)",
      "\u001b[36mCell\u001b[39m\u001b[36m \u001b[39m\u001b[32mIn[2]\u001b[39m\u001b[32m, line 3\u001b[39m\n\u001b[32m      1\u001b[39m output_path = \u001b[33m\"\u001b[39m\u001b[33mdatamart/gold/feature_store/date\u001b[39m\u001b[33m\"\u001b[39m\n\u001b[32m----> \u001b[39m\u001b[32m3\u001b[39m (\u001b[43mregistered_users\u001b[49m.write.mode(\u001b[33m\"\u001b[39m\u001b[33moverwrite\u001b[39m\u001b[33m\"\u001b[39m).parquet(output_path))\n",
      "\u001b[31mNameError\u001b[39m: name 'registered_users' is not defined"
     ]
    }
   ],
   "source": [
    "output_path = \"datamart/gold/feature_store/date\"\n",
    "\n",
    "(registered_users.write.mode(\"overwrite\").parquet(output_path))"
   ]
  },
  {
   "cell_type": "code",
   "execution_count": 2,
   "id": "7ee3a445-5236-44a7-aaa9-93cdbcccca5c",
   "metadata": {},
   "outputs": [
    {
     "name": "stderr",
     "output_type": "stream",
     "text": [
      "Setting default log level to \"WARN\".\n",
      "To adjust logging level use sc.setLogLevel(newLevel). For SparkR, use setLogLevel(newLevel).\n",
      "25/10/31 07:30:19 WARN NativeCodeLoader: Unable to load native-hadoop library for your platform... using builtin-java classes where applicable\n"
     ]
    }
   ],
   "source": [
    "# Initialize SparkSession\n",
    "spark = pyspark.sql.SparkSession.builder \\\n",
    "    .appName(\"dev\") \\\n",
    "    .config(\"spark.driver.memory\", \"4g\") \\\n",
    "    .master(\"local[*]\") \\\n",
    "    .getOrCreate()\n",
    "# Set log level to ERROR to hide warnings\n",
    "spark.sparkContext.setLogLevel(\"ERROR\")"
   ]
  },
  {
   "cell_type": "code",
   "execution_count": null,
   "id": "f9188f32-2384-423d-828b-a012f2a2e774",
   "metadata": {},
   "outputs": [
    {
     "name": "stderr",
     "output_type": "stream",
     "text": [
      "[Stage 42:=>(31 + 3) / 34][Stage 44:=> (6 + 7) / 13][Stage 46:>  (0 + 2) / 13]2 + 2) / 34][Stage 44:=> (6 + 7) / 13][Stage 46:>  (0 + 3) / 13]"
     ]
    },
    {
     "name": "stdout",
     "output_type": "stream",
     "text": [
      "🏗️ Creating features for 2016-12-01 ...\n"
     ]
    },
    {
     "name": "stderr",
     "output_type": "stream",
     "text": [
      "                                                                                "
     ]
    },
    {
     "name": "stdout",
     "output_type": "stream",
     "text": [
      "✅ Feature store snapshot saved to: datamart/gold/feature_store/2016-12-01\n",
      "🏗️ Creating features for 2017-01-01 ...\n"
     ]
    },
    {
     "name": "stderr",
     "output_type": "stream",
     "text": [
      "                                                                                "
     ]
    },
    {
     "name": "stdout",
     "output_type": "stream",
     "text": [
      "✅ Feature store snapshot saved to: datamart/gold/feature_store/2017-01-01\n",
      "🏗️ Creating features for 2017-02-01 ...\n"
     ]
    },
    {
     "name": "stderr",
     "output_type": "stream",
     "text": [
      "[Stage 125:(53 + 12) / 158][Stage 126:>(0 + 0) / 158][Stage 127:>(0 + 0) / 158]]"
     ]
    },
    {
     "name": "stderr",
     "output_type": "stream",
     "text": [
      "[Stage 42:=>(31 + 3) / 34][Stage 44:=> (6 + 7) / 13][Stage 46:>  (0 + 2) / 13]"
     ]
    }
   ],
   "source": [
    "from utils.gold_feature_store import create_gold_features\n",
    "from datetime import datetime\n",
    "from dateutil.relativedelta import relativedelta\n",
    "\n",
    "start_date = datetime(2016, 12, 1)\n",
    "end_date   = datetime(2017, 3, 1)\n",
    "\n",
    "current = start_date\n",
    "while current <= end_date:\n",
    "    inference_date = current.strftime(\"%Y-%m-%d\")\n",
    "    print(f\"🏗️ Creating features for {inference_date} ...\")\n",
    "    create_gold_features(inference_date, spark)\n",
    "    current += relativedelta(months=1)\n",
    "\n",
    "print(\"✅ All monthly feature stores created successfully!\")\n"
   ]
  },
  {
   "cell_type": "code",
   "execution_count": null,
   "id": "200d5e40-05db-477e-a30d-281e00adfa78",
   "metadata": {},
   "outputs": [],
   "source": []
  }
 ],
 "metadata": {
  "kernelspec": {
   "display_name": "Python 3 (ipykernel)",
   "language": "python",
   "name": "python3"
  },
  "language_info": {
   "codemirror_mode": {
    "name": "ipython",
    "version": 3
   },
   "file_extension": ".py",
   "mimetype": "text/x-python",
   "name": "python",
   "nbconvert_exporter": "python",
   "pygments_lexer": "ipython3",
   "version": "3.12.12"
  }
 },
 "nbformat": 4,
 "nbformat_minor": 5
}
