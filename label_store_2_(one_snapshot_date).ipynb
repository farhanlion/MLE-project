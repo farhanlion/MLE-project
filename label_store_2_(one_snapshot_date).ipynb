{
 "cells": [
  {
   "cell_type": "code",
   "execution_count": 1,
   "id": "fa428542-ff12-41b4-80a5-e3782bf4e87f",
   "metadata": {},
   "outputs": [
    {
     "name": "stderr",
     "output_type": "stream",
     "text": [
      "Setting default log level to \"WARN\".\n",
      "To adjust logging level use sc.setLogLevel(newLevel). For SparkR, use setLogLevel(newLevel).\n",
      "25/10/30 06:51:07 WARN NativeCodeLoader: Unable to load native-hadoop library for your platform... using builtin-java classes where applicable\n",
      "25/10/30 06:51:08 WARN Utils: Service 'SparkUI' could not bind on port 4040. Attempting port 4041.\n"
     ]
    }
   ],
   "source": [
    "from pyspark.sql import SparkSession\n",
    "from pyspark.sql.functions import col, lit, when\n",
    "from datetime import date\n",
    "\n",
    "# -----------------------------------------------------------------------------\n",
    "# 1️⃣ Initialize Spark session\n",
    "# -----------------------------------------------------------------------------\n",
    "spark = SparkSession.builder.appName(\"Create_Label_Store_2\").getOrCreate()\n"
   ]
  },
  {
   "cell_type": "code",
   "execution_count": 2,
   "id": "cc89a29b-a9e8-4331-ba5b-2a811fd6ab10",
   "metadata": {},
   "outputs": [],
   "source": [
    "# -----------------------------------------------------------------------------\n",
    "# 2️⃣ Define paths\n",
    "# -----------------------------------------------------------------------------\n",
    "latest_txn_path = \"/app/datamart/silver/latest_transactions\"\n",
    "transactions_path = \"/app/datamart/silver/transactions\"\n",
    "label_store_path = \"/app/datamart/gold/label_store_2\"\n"
   ]
  },
  {
   "cell_type": "code",
   "execution_count": 3,
   "id": "1d8ed87d-3578-4c1b-b8f3-93b61629a388",
   "metadata": {},
   "outputs": [],
   "source": [
    "\n",
    "# -----------------------------------------------------------------------------\n",
    "# 3️⃣ Load data\n",
    "# -----------------------------------------------------------------------------\n",
    "df_latest = spark.read.parquet(latest_txn_path)\n",
    "df_txn = spark.read.parquet(transactions_path)\n"
   ]
  },
  {
   "cell_type": "code",
   "execution_count": 4,
   "id": "f818c5bf-2686-4ae4-b8dd-05cdcf6cc470",
   "metadata": {},
   "outputs": [],
   "source": [
    "# -----------------------------------------------------------------------------\n",
    "# 4️⃣ Filter users whose membership expires on snapshot date\n",
    "# -----------------------------------------------------------------------------\n",
    "snapshot_date = \"2017-03-01\"\n",
    "\n",
    "df_expiring = (\n",
    "    df_latest\n",
    "    .filter(col(\"membership_expire_date\") == snapshot_date)\n",
    "    .select(\"msno\")\n",
    "    .distinct()\n",
    ")\n"
   ]
  },
  {
   "cell_type": "code",
   "execution_count": 5,
   "id": "3fb97fad-be26-4bff-9aa9-b4578e92a83a",
   "metadata": {},
   "outputs": [],
   "source": [
    "# -----------------------------------------------------------------------------\n",
    "# 5️⃣ Find renewals within 30 days (Mar 2 – Mar 31, 2017)\n",
    "# -----------------------------------------------------------------------------\n",
    "df_renewals = (\n",
    "    df_txn\n",
    "    .filter(\n",
    "        (col(\"transaction_date\") >= \"2017-03-02\") &\n",
    "        (col(\"transaction_date\") <= \"2017-03-31\") &\n",
    "        (col(\"is_cancel\") == 0)\n",
    "    )\n",
    "    .select(\"msno\")\n",
    "    .distinct()\n",
    "    .withColumn(\"renewed_within_30_days\", lit(1))\n",
    ")\n"
   ]
  },
  {
   "cell_type": "code",
   "execution_count": 6,
   "id": "c79ab17a-dc5d-4b16-814b-0eb746bcbecc",
   "metadata": {},
   "outputs": [],
   "source": [
    "# -----------------------------------------------------------------------------\n",
    "# 6️⃣ Join and assign churn label\n",
    "# -----------------------------------------------------------------------------\n",
    "df_label = (\n",
    "    df_expiring\n",
    "    .join(df_renewals, on=\"msno\", how=\"left\")\n",
    "    .withColumn(\n",
    "        \"is_churn\",\n",
    "        when(col(\"renewed_within_30_days\").isNotNull(), lit(0)).otherwise(lit(1))\n",
    "    )\n",
    "    .withColumn(\"snapshot_date\", lit(snapshot_date))\n",
    "    .select(\"msno\", \"snapshot_date\", \"is_churn\")\n",
    ")\n"
   ]
  },
  {
   "cell_type": "code",
   "execution_count": 7,
   "id": "0dbfed11-182b-4c46-9a6d-73b8738c6057",
   "metadata": {},
   "outputs": [
    {
     "name": "stderr",
     "output_type": "stream",
     "text": [
      "25/10/30 06:52:36 WARN RowBasedKeyValueBatch: Calling spill() on RowBasedKeyValueBatch. Will not spill but return 0.\n",
      "25/10/30 06:52:38 WARN RowBasedKeyValueBatch: Calling spill() on RowBasedKeyValueBatch. Will not spill but return 0.\n",
      "25/10/30 06:52:42 WARN MemoryManager: Total allocation exceeds 95.00% (1,020,054,720 bytes) of heap memory\n",
      "Scaling row group sizes to 95.00% for 8 writers\n",
      "25/10/30 06:52:42 WARN MemoryManager: Total allocation exceeds 95.00% (1,020,054,720 bytes) of heap memory\n",
      "Scaling row group sizes to 84.44% for 9 writers\n",
      "25/10/30 06:52:42 WARN MemoryManager: Total allocation exceeds 95.00% (1,020,054,720 bytes) of heap memory\n",
      "Scaling row group sizes to 76.00% for 10 writers\n",
      "25/10/30 06:52:42 WARN MemoryManager: Total allocation exceeds 95.00% (1,020,054,720 bytes) of heap memory\n",
      "Scaling row group sizes to 69.09% for 11 writers\n",
      "25/10/30 06:52:42 WARN MemoryManager: Total allocation exceeds 95.00% (1,020,054,720 bytes) of heap memory\n",
      "Scaling row group sizes to 63.33% for 12 writers\n",
      "25/10/30 06:52:42 WARN MemoryManager: Total allocation exceeds 95.00% (1,020,054,720 bytes) of heap memory\n",
      "Scaling row group sizes to 69.09% for 11 writers\n",
      "25/10/30 06:52:42 WARN MemoryManager: Total allocation exceeds 95.00% (1,020,054,720 bytes) of heap memory\n",
      "Scaling row group sizes to 76.00% for 10 writers\n",
      "25/10/30 06:52:42 WARN MemoryManager: Total allocation exceeds 95.00% (1,020,054,720 bytes) of heap memory\n",
      "Scaling row group sizes to 84.44% for 9 writers\n",
      "25/10/30 06:52:42 WARN MemoryManager: Total allocation exceeds 95.00% (1,020,054,720 bytes) of heap memory\n",
      "Scaling row group sizes to 95.00% for 8 writers\n",
      "                                                                                "
     ]
    },
    {
     "name": "stdout",
     "output_type": "stream",
     "text": [
      "✅ Label store successfully created at /app/datamart/gold/label_store_2\n"
     ]
    },
    {
     "name": "stderr",
     "output_type": "stream",
     "text": [
      "                                                                                "
     ]
    },
    {
     "name": "stdout",
     "output_type": "stream",
     "text": [
      "Total labeled users: 7839\n"
     ]
    },
    {
     "name": "stderr",
     "output_type": "stream",
     "text": [
      "25/10/30 06:52:48 WARN RowBasedKeyValueBatch: Calling spill() on RowBasedKeyValueBatch. Will not spill but return 0.\n",
      "25/10/30 06:52:50 WARN RowBasedKeyValueBatch: Calling spill() on RowBasedKeyValueBatch. Will not spill but return 0.\n",
      "                                                                                "
     ]
    },
    {
     "name": "stdout",
     "output_type": "stream",
     "text": [
      "+--------------------------------------------+-------------+--------+\n",
      "|msno                                        |snapshot_date|is_churn|\n",
      "+--------------------------------------------+-------------+--------+\n",
      "|+7Z3QJTroH8GLHLzqV7cuNqR+/QBBUhGCbsnSi6z1VI=|2017-03-01   |0       |\n",
      "|239LrMXw/kwlE/PQUx6hm+OKmlI0fxqQ7gQQSpyrTrk=|2017-03-01   |0       |\n",
      "|2ASaLSs9SaKesSBJ9AFR3K199n2/52vl0ti4iH5+Pkk=|2017-03-01   |0       |\n",
      "|3lSBGvEmNOTkyPsM/GUZCVbZ10QdR3GkfJfNDdTXMYQ=|2017-03-01   |0       |\n",
      "|4S6M3KY0veHjY47mn7NW4caWE/VyYkbCAEYs+zKJdy0=|2017-03-01   |0       |\n",
      "|4tL0SxdppYSdk4ViJFqXTLsMIqu1LLwFOoIVLzDdSoM=|2017-03-01   |0       |\n",
      "|5PzxHdtJsGb1zHdoEErhoTn7vpX0ZSLTtopMANWpnws=|2017-03-01   |0       |\n",
      "|5bOS9KAxceMrFB469Jv7JsZ8tDSKSvpnQJLTEI6sszU=|2017-03-01   |1       |\n",
      "|6jHM/YUOA0E2Fxv26cGwRCNzZdiwRSGbNReS0FQ7QFw=|2017-03-01   |0       |\n",
      "|A/cWeqg7yaos4bxvnmWyx9cHtI8oert2PdZFs6S/W6Y=|2017-03-01   |0       |\n",
      "+--------------------------------------------+-------------+--------+\n",
      "only showing top 10 rows\n",
      "\n"
     ]
    }
   ],
   "source": [
    "# -----------------------------------------------------------------------------\n",
    "# 7️⃣ Save as gold label store\n",
    "# -----------------------------------------------------------------------------\n",
    "(\n",
    "    df_label\n",
    "    .write\n",
    "    .mode(\"overwrite\")\n",
    "    .parquet(label_store_path)\n",
    ")\n",
    "\n",
    "print(f\"✅ Label store successfully created at {label_store_path}\")\n",
    "print(f\"Total labeled users: {df_label.count()}\")\n",
    "df_label.show(10, truncate=False)"
   ]
  },
  {
   "cell_type": "code",
   "execution_count": 8,
   "id": "7620f810-8bc4-4dc2-a98d-df2dc129708b",
   "metadata": {},
   "outputs": [
    {
     "name": "stdout",
     "output_type": "stream",
     "text": [
      "Total labeled users: 7839\n",
      "+--------+-----+----------+\n",
      "|is_churn|count|percentage|\n",
      "+--------+-----+----------+\n",
      "|0       |6256 |79.81     |\n",
      "|1       |1583 |20.19     |\n",
      "+--------+-----+----------+\n",
      "\n"
     ]
    }
   ],
   "source": [
    "# Check churn distribution \n",
    "\n",
    "from pyspark.sql.functions import count, round, col\n",
    "\n",
    "# Load your label store\n",
    "label_path = \"/app/datamart/gold/label_store_2\"\n",
    "df_label = spark.read.parquet(label_path)\n",
    "\n",
    "# Count total records\n",
    "total = df_label.count()\n",
    "\n",
    "# Group by churn label and compute percentage\n",
    "df_summary = (\n",
    "    df_label\n",
    "    .groupBy(\"is_churn\")\n",
    "    .agg(count(\"*\").alias(\"count\"))\n",
    "    .withColumn(\"percentage\", round((col(\"count\") / total) * 100, 2))\n",
    "    .orderBy(\"is_churn\")\n",
    ")\n",
    "\n",
    "print(f\"Total labeled users: {total}\")\n",
    "df_summary.show(truncate=False)"
   ]
  }
 ],
 "metadata": {
  "kernelspec": {
   "display_name": "Python 3 (ipykernel)",
   "language": "python",
   "name": "python3"
  },
  "language_info": {
   "codemirror_mode": {
    "name": "ipython",
    "version": 3
   },
   "file_extension": ".py",
   "mimetype": "text/x-python",
   "name": "python",
   "nbconvert_exporter": "python",
   "pygments_lexer": "ipython3",
   "version": "3.12.12"
  }
 },
 "nbformat": 4,
 "nbformat_minor": 5
}
